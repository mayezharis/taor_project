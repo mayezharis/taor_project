{
 "cells": [
  {
   "cell_type": "code",
   "execution_count": 1,
   "metadata": {},
   "outputs": [],
   "source": [
    "import numpy as np\n",
    "import pandas as pd"
   ]
  },
  {
   "cell_type": "code",
   "execution_count": 2,
   "metadata": {},
   "outputs": [],
   "source": [
    "student_data = pd.read_excel(\"Raw Data/Anon Enrollment Data.xlsx\")\n",
    "enrol_nums_data = pd.read_excel(\"Raw Data/Course Enrollment Numbers.xlsx\", sheet_name=\"Course Numbers\")\n",
    "enrol_nums_additional = pd.read_excel(\"Raw Data/Course Enrollment Numbers.xlsx\", sheet_name=\"abbreviated course names\")\n",
    "timetable_data = pd.read_excel(\"Raw Data/School of Mathematics - Timetable Data.xlsx\")\n",
    "room_data = pd.read_excel(\"Raw Data/Timetabling KB Rooms_5205.xlsx\")"
   ]
  },
  {
   "cell_type": "code",
   "execution_count": 3,
   "metadata": {},
   "outputs": [],
   "source": [
    "unique_students = student_data[\"UUN\"].unique()\n",
    "unique_years = student_data[\"Year Of Programme\"].unique()\n",
    "unique_degrees = student_data[\"Programme Of Study Sought Title\"].unique()\n",
    "unique_schools = student_data[\"Programme School Name\"].unique()\n",
    "unique_years_taken = student_data[\"Normal Year Taken\"].unique()\n",
    "unique_course_codes = student_data['Course Code'].unique()\n",
    "unique_courses = student_data['Course Name'].unique()"
   ]
  },
  {
   "cell_type": "code",
   "execution_count": 4,
   "metadata": {},
   "outputs": [],
   "source": [
    "enrol_nums_cols = list(enrol_nums_data.columns)"
   ]
  },
  {
   "cell_type": "code",
   "execution_count": 5,
   "metadata": {},
   "outputs": [],
   "source": [
    "student_cols = list(student_data.columns)"
   ]
  },
  {
   "cell_type": "code",
   "execution_count": 6,
   "metadata": {},
   "outputs": [],
   "source": [
    "math_courses_only = student_data[student_data[\"Course Code\"].str.startswith(\"MATH\")]\n",
    "math_courses = math_courses_only[\"Course Name\"].unique()\n",
    "\n",
    "enrol_nums_courses = list(enrol_nums_data[\"Course\"])\n",
    "uncommon_maths_courses = [i for i in math_courses if i not in enrol_nums_courses]"
   ]
  },
  {
   "cell_type": "code",
   "execution_count": 7,
   "metadata": {},
   "outputs": [
    {
     "data": {
      "text/plain": [
       "['Dissertation (CAM)',\n",
       " 'Dissertation (CMF)',\n",
       " 'Dissertation (FMO)',\n",
       " 'Dissertation (Op. Res.)',\n",
       " 'Dissertation (SDS)',\n",
       " 'Dissertation (Statistics)',\n",
       " 'Dissertation (Stats. Op. Res.)',\n",
       " 'Mathematics Dissertation',\n",
       " 'Mathematics Project',\n",
       " 'Mathematics Reading Course - S1',\n",
       " 'Mathematics Reading Course - S2',\n",
       " 'MIGS: Advanced Course 1',\n",
       " 'MIGS: Asymptotic and Analytical Methods',\n",
       " 'MIGS: Computational Methods for Data Driven Modelling',\n",
       " 'MIGS: Continuum Mechanics',\n",
       " 'MIGS: Dynamical Systems and Conservation Laws',\n",
       " 'MIGS: Elliptic and Parabolic PDEs',\n",
       " 'MIGS: Extended Project',\n",
       " 'MIGS: Foundations of Probability',\n",
       " 'MIGS: Functional Analysis',\n",
       " 'MIGS: Mathematical Modelling and Applied Analysis',\n",
       " 'MIGS: Measure and Integration',\n",
       " 'MIGS: Modern Regression and Bayesian Methods',\n",
       " 'MIGS: Numerical Methods',\n",
       " 'MIGS: Project 1',\n",
       " 'MIGS: Project 2',\n",
       " 'MIGS: Regression and Simulation Methods',\n",
       " 'MIGS: Stochastic Processes',\n",
       " 'Project in Mathematics (Double)']"
      ]
     },
     "execution_count": 7,
     "metadata": {},
     "output_type": "execute_result"
    }
   ],
   "source": [
    "uncommon_maths_courses"
   ]
  },
  {
   "cell_type": "code",
   "execution_count": 8,
   "metadata": {},
   "outputs": [],
   "source": [
    "with open('Keys/course_abbreviation_key.txt', 'r') as file:\n",
    "    # Read the entire contents of the file\n",
    "    abbr_key = file.read()\n",
    "file.close()\n",
    "\n",
    "abbr_key = abbr_key.split(\"\\n\")\n",
    "abbr_key = [i.strip() for i in abbr_key if i.strip()]"
   ]
  },
  {
   "cell_type": "code",
   "execution_count": 9,
   "metadata": {},
   "outputs": [],
   "source": [
    "enrol_nums_copy = enrol_nums_data.copy()"
   ]
  },
  {
   "cell_type": "code",
   "execution_count": 10,
   "metadata": {},
   "outputs": [],
   "source": [
    "abbr_map = {}\n",
    "for course in abbr_key:\n",
    "    abbreviation, description, code = course.split(' = ')\n",
    "    abbr_map[code] = abbreviation\n",
    "\n",
    "enrol_nums_copy[\"Abbreviated Course Name\"] = enrol_nums_copy[\"Code\"].map(abbr_map)"
   ]
  },
  {
   "cell_type": "code",
   "execution_count": 11,
   "metadata": {},
   "outputs": [
    {
     "data": {
      "text/plain": [
       "True"
      ]
     },
     "execution_count": 11,
     "metadata": {},
     "output_type": "execute_result"
    }
   ],
   "source": [
    "len(enrol_nums_copy[\"Abbreviated Course Name\"]) == len(enrol_nums_additional[\"Abbreviated Course Name\"])"
   ]
  },
  {
   "cell_type": "code",
   "execution_count": 12,
   "metadata": {},
   "outputs": [
    {
     "data": {
      "text/plain": [
       "True"
      ]
     },
     "execution_count": 12,
     "metadata": {},
     "output_type": "execute_result"
    }
   ],
   "source": [
    "enrol_nums_copy[\"Abbreviated Course Name\"].all() == enrol_nums_additional[\"Abbreviated Course Name\"].all()"
   ]
  },
  {
   "cell_type": "markdown",
   "metadata": {},
   "source": [
    "# Changing Room Data"
   ]
  },
  {
   "cell_type": "code",
   "execution_count": 13,
   "metadata": {},
   "outputs": [],
   "source": [
    "room_copy = room_data.copy()\n",
    "new_room_cols = [\"campus\", \"building\", \"room_name\", \"capacity\",\n",
    "                 \"ownership\", \"gt_or_ts\", \"school_priority\", \"room_layout\",\"furniture_config\",\n",
    "                 \"control_system\", \"desktop\", \"induction_system\", \"lec_recording\", \"microphone\", \"pres_facilities\", \n",
    "                 \"sound_system\", \"wall_mounted_writing\"]\n",
    "\n",
    "room_copy.columns = new_room_cols"
   ]
  },
  {
   "cell_type": "code",
   "execution_count": 14,
   "metadata": {},
   "outputs": [],
   "source": [
    "unique_campuses = room_copy[\"campus\"].unique()\n",
    "unique_buildings = room_copy[\"building\"].unique()\n",
    "unique_rooms = room_copy[\"room_name\"].unique()\n",
    "unique_ownership = room_copy[\"ownership\"].unique()"
   ]
  },
  {
   "cell_type": "code",
   "execution_count": 15,
   "metadata": {},
   "outputs": [],
   "source": [
    "if len(unique_campuses)==1:\n",
    "    if unique_campuses.all() == \"King's Buildings Campus\":\n",
    "        room_copy[\"campus\"] = room_copy[\"campus\"].replace(\"King's Buildings Campus\", \"KB\")\n",
    "else:\n",
    "    print(\"There is more than one campus in the dataset.\")\n",
    "\n",
    "\n",
    "building_replacements = {\"Alrick\":\"ALR\",\n",
    "                         \"Ashworth\":\"ASH\",\n",
    "                         \"Daniel Rutherford Building\":\"DRB\",\n",
    "                         \"Eng Sanderson Building\":\"ESB\",\n",
    "                         \"Grant Institute\":\"GRA\",\n",
    "                         \"Hudson Beare Building\":\"HBB\",\n",
    "                         \"Joseph Black Building\":\"JBB\",\n",
    "                         \"JCMB\":\"JCMB\",\n",
    "                         \"Murchison House\":\"MH\",\n",
    "                         \"Nucleus\":\"NUC\",\n",
    "                         \"Swann Building\":\"SB\"}\n",
    "\n",
    "room_copy[\"building\"] = room_copy[\"building\"].replace(building_replacements)\n",
    "\n",
    "\n",
    "allocation_replacements = {\"1. Centrally Allocated Space\":\"centrally_allocated\", \"1. Locally Allocated Space\": \"locally_allocated\"}\n",
    "room_copy[\"ownership\"] = room_copy[\"ownership\"].replace(allocation_replacements)\n",
    "\n",
    "\n",
    "gt_ts_replacements = {\"2. General Teaching\":\"GT\", \"2. Teaching Studio\":\"TS\"}\n",
    "room_copy[\"gt_or_ts\"] = room_copy[\"gt_or_ts\"].replace(gt_ts_replacements)"
   ]
  },
  {
   "cell_type": "code",
   "execution_count": 16,
   "metadata": {},
   "outputs": [],
   "source": [
    "room_copy[\"school_priority\"] = room_copy[\"school_priority\"].str.split(\" - \").str[1]\n",
    "room_copy[\"room_layout\"] = room_copy[\"room_layout\"].str.split(\" - \").str[1]"
   ]
  },
  {
   "cell_type": "code",
   "execution_count": 17,
   "metadata": {},
   "outputs": [],
   "source": [
    "room_copy[\"school_priority\"] = room_copy[\"school_priority\"].fillna(\"no priority\")\n",
    "\n",
    "priority_replacements = {\"Engineering\":\"eng\",\n",
    "                         \"Biological\":\"bio\",\n",
    "                         \"Geosciences\":\"geo\",\n",
    "                         \"Chemistry\":\"chem\",\n",
    "                         \"Mathematics\":\"maths\",\n",
    "                         \"Physics and Astronomy\":\"phys\",\n",
    "                         \"Mathematics/ Physics and Astronomy\":\"maths_phys\"}\n",
    "room_copy[\"school_priority\"] = room_copy[\"school_priority\"].replace(priority_replacements)\n",
    "\n",
    "\n",
    "layout_replacements = {\"Classroom Style\":\"classroom\",\n",
    "                       \"Theatre Style\":\"theatre\",\n",
    "                       \"Boardroom Style\":\"boardroom\"}\n",
    "room_copy[\"room_layout\"] = room_copy[\"room_layout\"].replace(layout_replacements)"
   ]
  },
  {
   "cell_type": "code",
   "execution_count": 18,
   "metadata": {},
   "outputs": [],
   "source": [
    "room_copy[\"furniture_config\"] = room_copy[\"furniture_config\"].str.split(\"\\. \").str[1]"
   ]
  },
  {
   "cell_type": "code",
   "execution_count": 19,
   "metadata": {},
   "outputs": [],
   "source": [
    "furniture_replacements = {\"Tables and Chairs\":\"tables_chairs\",\n",
    "                          \"Flexible seating (not tables)\":\"flex_seating\",\n",
    "                          \"Retractable Seating\":\"retract_seating\"}\n",
    "room_copy[\"furniture_config\"] = room_copy[\"furniture_config\"].replace(furniture_replacements)"
   ]
  },
  {
   "cell_type": "code",
   "execution_count": 20,
   "metadata": {},
   "outputs": [
    {
     "data": {
      "text/plain": [
       "['tables_chairs', 'flex_seating', nan, 'retract_seating']"
      ]
     },
     "execution_count": 20,
     "metadata": {},
     "output_type": "execute_result"
    }
   ],
   "source": [
    "list(room_copy[\"furniture_config\"].unique())"
   ]
  },
  {
   "cell_type": "code",
   "execution_count": 21,
   "metadata": {},
   "outputs": [],
   "source": [
    "true_false_cols = [\"control_system\", \"desktop\", \"induction_system\", \"lec_recording\", \"microphone\", \"pres_facilities\", \"sound_system\", \"wall_mounted_writing\"]\n",
    "\n",
    "for col in true_false_cols:\n",
    "    room_copy[col] = room_copy[col].apply(lambda x: True if pd.notna(x) and x.strip() else False)"
   ]
  },
  {
   "cell_type": "code",
   "execution_count": 22,
   "metadata": {},
   "outputs": [],
   "source": [
    "dummy_enc_cols = []\n",
    "\n",
    "\n",
    "room_furniture_encoded = pd.get_dummies(room_copy[\"furniture_config\"], prefix=\"furniture\")\n",
    "room_layout_encoded = pd.get_dummies(room_copy[\"room_layout\"], prefix=\"layout\")\n",
    "gt_ts_encoded = pd.get_dummies(room_copy[\"gt_or_ts\"])\n",
    "ownership_encoded = pd.get_dummies(room_copy[\"ownership\"])\n",
    "priority_encoded = pd.get_dummies(room_copy[\"school_priority\"], prefix=\"priority\")\n",
    "\n",
    "\n",
    "room_copy = pd.concat([room_copy, room_furniture_encoded, room_layout_encoded, gt_ts_encoded, ownership_encoded, priority_encoded], axis=1)\n",
    "to_drop = [\"furniture_config\", \"room_layout\", \"gt_or_ts\", \"ownership\", \"school_priority\"]\n",
    "room_copy = room_copy.drop(to_drop, axis=1)"
   ]
  },
  {
   "cell_type": "code",
   "execution_count": 23,
   "metadata": {},
   "outputs": [],
   "source": [
    "# room_copy.drop(\"furniture_config\", axis=1)\n",
    "encoded_room_data = room_copy\n",
    "\n",
    "encoded_room_data.to_excel('Processed Data/encoded_room_data.xlsx', index=False)"
   ]
  },
  {
   "cell_type": "markdown",
   "metadata": {},
   "source": [
    "# Cleaning Timetabling Data"
   ]
  },
  {
   "cell_type": "code",
   "execution_count": 51,
   "metadata": {},
   "outputs": [],
   "source": [
    "timetable_copy = timetable_data.copy()"
   ]
  },
  {
   "cell_type": "code",
   "execution_count": 52,
   "metadata": {},
   "outputs": [],
   "source": [
    "timetable_copy = timetable_data.rename(columns = {\"Course Name\":\"Course\", \"Course Code\":\"Code\"})"
   ]
  },
  {
   "cell_type": "code",
   "execution_count": 53,
   "metadata": {},
   "outputs": [
    {
     "data": {
      "text/plain": [
       "True"
      ]
     },
     "execution_count": 53,
     "metadata": {},
     "output_type": "execute_result"
    }
   ],
   "source": [
    "timetable_copy = pd.merge(timetable_copy, enrol_nums_additional[[\"Delivery Period\", \"Normal Year Taken\", \"Code\"]], on = \"Code\", how = \"left\")\n",
    "timetable_copy.shape[0] == timetable_data.shape[0]"
   ]
  },
  {
   "cell_type": "code",
   "execution_count": 54,
   "metadata": {},
   "outputs": [],
   "source": [
    "timetable_copy[\"Abbreviated Course Name\"] = timetable_copy[\"Code\"].map(abbr_map)\n",
    "\n",
    "def split_on_star(entry):\n",
    "    if isinstance(entry, str) and '*' in entry:\n",
    "        return entry.split('*')[1]\n",
    "    else:\n",
    "        return entry\n",
    "\n",
    "cols_w_star = [\"Activity Type Name\", \"Delivery Semester\", \"Zone Name\"]\n",
    "\n",
    "for col in cols_w_star:\n",
    "    timetable_copy[col] = timetable_copy[col].apply(split_on_star)"
   ]
  },
  {
   "cell_type": "code",
   "execution_count": 55,
   "metadata": {},
   "outputs": [],
   "source": [
    "def num_list(entry):\n",
    "    numbers = []\n",
    "    for part in entry.split(','):\n",
    "        if '-' in part:\n",
    "            start, end = map(int, part.split('-'))\n",
    "            numbers.extend(range(start, end + 1))\n",
    "        else:\n",
    "            numbers.append(int(part))\n",
    "    return numbers\n",
    "\n",
    "timetable_copy[\"Teaching Week Pattern\"] = timetable_copy[\"Teaching Week Pattern\"].apply(num_list)\n",
    "\n",
    "\n",
    "week_key = {}\n",
    "with open(\"Keys/week_codes.txt\", 'r', encoding='utf-8') as file:\n",
    "    for line in file:\n",
    "        line = line.replace('\\u2060', '')\n",
    "        \n",
    "        line = line.strip()\n",
    "        if line:  # Skip empty lines\n",
    "            key_part = line.split('=')\n",
    "            key_part[0] = int(key_part[0].strip())\n",
    "            week_key[key_part[0]] = key_part[1].strip()\n",
    "\n",
    "def convert_to_strings(numbers):\n",
    "    return [week_key[number] for number in numbers]\n",
    "\n",
    "timetable_copy[\"Teaching Week Pattern\"] = timetable_copy[\"Teaching Week Pattern\"].apply(convert_to_strings)\n",
    "\n",
    "timetable_copy[\"Teaching Week Pattern\"] = timetable_copy[\"Teaching Week Pattern\"].apply(lambda x: \", \".join(x))"
   ]
  },
  {
   "cell_type": "code",
   "execution_count": 56,
   "metadata": {},
   "outputs": [
    {
     "data": {
      "text/plain": [
       "{1: ['09:00', '10:00'],\n",
       " 2: ['10:00', '11:00'],\n",
       " 3: ['11:00', '12:00'],\n",
       " 4: ['12:00', '13:00'],\n",
       " 5: ['13:00', '14:00'],\n",
       " 6: ['14:00', '15:00'],\n",
       " 7: ['15:00', '16:00'],\n",
       " 8: ['16:00', '17:00'],\n",
       " 9: ['17:00', '18:00']}"
      ]
     },
     "execution_count": 56,
     "metadata": {},
     "output_type": "execute_result"
    }
   ],
   "source": [
    "time_periods = {}\n",
    "with open('Keys/time_periods.txt', 'r') as file:\n",
    "    for line in file:\n",
    "        period, times = line.strip().split('=')\n",
    "        start, end = times[1:].split(', ')\n",
    "        time_periods[int(period.strip())] = [start.strip(\"[\"), end.strip(\"]\")]\n",
    "time_periods"
   ]
  },
  {
   "cell_type": "code",
   "execution_count": 57,
   "metadata": {},
   "outputs": [],
   "source": [
    "def get_time_periods(start, end):\n",
    "    encompassed_periods = []\n",
    "    for period, (period_start, period_end) in time_periods.items():\n",
    "        start_hour, start_minute = map(int, period_start.split(':'))\n",
    "        end_hour, end_minute = map(int, period_end.split(':'))\n",
    "        \n",
    "        class_start_hour, class_start_minute = map(int, start.split(':'))\n",
    "        class_end_hour, class_end_minute = map(int, end.split(':'))\n",
    "        \n",
    "        # Compare hours and minutes\n",
    "        if (class_start_hour == start_hour and class_start_minute == start_minute) and (class_end_hour == end_hour and class_end_minute == end_minute):\n",
    "            encompassed_periods.append(period)\n",
    "        elif (class_start_hour < end_hour or (class_start_hour == end_hour and class_start_minute < end_minute)) and \\\n",
    "           (class_end_hour > start_hour or (class_end_hour == start_hour and class_end_minute > start_minute)):\n",
    "            encompassed_periods.append(period)\n",
    "    return encompassed_periods\n",
    "\n",
    "# Apply function to each row and create new column\n",
    "timetable_copy['time_periods'] = timetable_copy.apply(lambda x: get_time_periods(x['Scheduled Start Time'], x['Scheduled End Time']), axis=1)"
   ]
  },
  {
   "cell_type": "code",
   "execution_count": 58,
   "metadata": {},
   "outputs": [],
   "source": [
    "timetable_copy.to_excel(\"Processed Data/encoded_timetable_data.xlsx\", index = False)"
   ]
  }
 ],
 "metadata": {
  "kernelspec": {
   "display_name": "base",
   "language": "python",
   "name": "python3"
  },
  "language_info": {
   "codemirror_mode": {
    "name": "ipython",
    "version": 3
   },
   "file_extension": ".py",
   "mimetype": "text/x-python",
   "name": "python",
   "nbconvert_exporter": "python",
   "pygments_lexer": "ipython3",
   "version": "3.11.8"
  }
 },
 "nbformat": 4,
 "nbformat_minor": 2
}
