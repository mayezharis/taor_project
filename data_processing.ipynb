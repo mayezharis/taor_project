{
 "cells": [
  {
   "cell_type": "code",
   "execution_count": 261,
   "metadata": {},
   "outputs": [],
   "source": [
    "import numpy as np\n",
    "import pandas as pd"
   ]
  },
  {
   "cell_type": "code",
   "execution_count": 262,
   "metadata": {},
   "outputs": [],
   "source": [
    "student_data = pd.read_excel(\"Raw Data/Anon Enrollment Data.xlsx\")\n",
    "enrol_nums_data = pd.read_excel(\"Raw Data/Course Enrollment Numbers.xlsx\", sheet_name=\"Course Numbers\")\n",
    "enrol_nums_additional = pd.read_excel(\"Raw Data/Course Enrollment Numbers.xlsx\", sheet_name=\"abbreviated course names\")\n",
    "timetable_data = pd.read_excel(\"Raw Data/School of Mathematics - Timetable Data.xlsx\")\n",
    "room_data = pd.read_excel(\"Raw Data/Timetabling KB Rooms_5205.xlsx\")"
   ]
  },
  {
   "cell_type": "code",
   "execution_count": 105,
   "metadata": {},
   "outputs": [],
   "source": [
    "unique_students = student_data[\"UUN\"].unique()\n",
    "unique_years = student_data[\"Year Of Programme\"].unique()\n",
    "unique_degrees = student_data[\"Programme Of Study Sought Title\"].unique()\n",
    "unique_schools = student_data[\"Programme School Name\"].unique()\n",
    "unique_years_taken = student_data[\"Normal Year Taken\"].unique()\n",
    "unique_course_codes = student_data['Course Code'].unique()\n",
    "unique_courses = student_data['Course Name'].unique()"
   ]
  },
  {
   "cell_type": "code",
   "execution_count": 106,
   "metadata": {},
   "outputs": [],
   "source": [
    "enrol_nums_cols = list(enrol_nums_data.columns)"
   ]
  },
  {
   "cell_type": "code",
   "execution_count": 107,
   "metadata": {},
   "outputs": [],
   "source": [
    "student_cols = list(student_data.columns)"
   ]
  },
  {
   "cell_type": "code",
   "execution_count": 108,
   "metadata": {},
   "outputs": [],
   "source": [
    "math_courses_only = student_data[student_data[\"Course Code\"].str.startswith(\"MATH\")]\n",
    "math_courses = math_courses_only[\"Course Name\"].unique()\n",
    "\n",
    "enrol_nums_courses = list(enrol_nums_data[\"Course\"])\n",
    "uncommon_maths_courses = [i for i in math_courses if i not in enrol_nums_courses]"
   ]
  },
  {
   "cell_type": "code",
   "execution_count": 109,
   "metadata": {},
   "outputs": [],
   "source": [
    "with open('course_abbreviation_key.txt', 'r') as file:\n",
    "    # Read the entire contents of the file\n",
    "    abbr_key = file.read()\n",
    "file.close()\n",
    "\n",
    "abbr_key = abbr_key.split(\"\\n\")\n",
    "abbr_key = [i.strip() for i in abbr_key if i.strip()]"
   ]
  },
  {
   "cell_type": "code",
   "execution_count": 110,
   "metadata": {},
   "outputs": [],
   "source": [
    "enrol_nums_copy = enrol_nums_data.copy()"
   ]
  },
  {
   "cell_type": "code",
   "execution_count": 111,
   "metadata": {},
   "outputs": [],
   "source": [
    "abbr_map = {}\n",
    "for course in abbr_key:\n",
    "    abbreviation, description, code = course.split(' = ')\n",
    "    abbr_map[code] = abbreviation\n",
    "\n",
    "enrol_nums_copy[\"Abbreviated Course Name\"] = enrol_nums_copy[\"Code\"].map(abbr_map)"
   ]
  },
  {
   "cell_type": "code",
   "execution_count": 112,
   "metadata": {},
   "outputs": [
    {
     "data": {
      "text/plain": [
       "True"
      ]
     },
     "execution_count": 112,
     "metadata": {},
     "output_type": "execute_result"
    }
   ],
   "source": [
    "len(enrol_nums_copy[\"Abbreviated Course Name\"]) == len(enrol_nums_additional[\"Abbreviated Course Name\"])"
   ]
  },
  {
   "cell_type": "code",
   "execution_count": 113,
   "metadata": {},
   "outputs": [
    {
     "data": {
      "text/plain": [
       "True"
      ]
     },
     "execution_count": 113,
     "metadata": {},
     "output_type": "execute_result"
    }
   ],
   "source": [
    "enrol_nums_copy[\"Abbreviated Course Name\"].all() == enrol_nums_additional[\"Abbreviated Course Name\"].all()"
   ]
  },
  {
   "cell_type": "markdown",
   "metadata": {},
   "source": [
    "# Changing Room Data"
   ]
  },
  {
   "cell_type": "code",
   "execution_count": 263,
   "metadata": {},
   "outputs": [],
   "source": [
    "room_copy = room_data.copy()\n",
    "new_room_cols = [\"campus\", \"building\", \"room_name\", \"capacity\",\n",
    "                 \"ownership\", \"gt_or_ts\", \"school_priority\", \"room_layout\",\"furniture_config\",\n",
    "                 \"control_system\", \"desktop\", \"induction_system\", \"lec_recording\", \"microphone\", \"pres_facilities\", \n",
    "                 \"sound_system\", \"wall_mounted_writing\"]\n",
    "\n",
    "room_copy.columns = new_room_cols"
   ]
  },
  {
   "cell_type": "code",
   "execution_count": 264,
   "metadata": {},
   "outputs": [],
   "source": [
    "unique_campuses = room_copy[\"campus\"].unique()\n",
    "unique_buildings = room_copy[\"building\"].unique()\n",
    "unique_rooms = room_copy[\"room_name\"].unique()\n",
    "unique_ownership = room_copy[\"ownership\"].unique()"
   ]
  },
  {
   "cell_type": "code",
   "execution_count": 265,
   "metadata": {},
   "outputs": [],
   "source": [
    "if len(unique_campuses)==1:\n",
    "    if unique_campuses.all() == \"King's Buildings Campus\":\n",
    "        room_copy[\"campus\"] = room_copy[\"campus\"].replace(\"King's Buildings Campus\", \"KB\")\n",
    "else:\n",
    "    print(\"There is more than one campus in the dataset.\")\n",
    "\n",
    "\n",
    "building_replacements = {\"Alrick\":\"ALR\",\n",
    "                         \"Ashworth\":\"ASH\",\n",
    "                         \"Daniel Rutherford Building\":\"DRB\",\n",
    "                         \"Eng Sanderson Building\":\"ESB\",\n",
    "                         \"Grant Institute\":\"GRA\",\n",
    "                         \"Hudson Beare Building\":\"HBB\",\n",
    "                         \"Joseph Black Building\":\"JBB\",\n",
    "                         \"JCMB\":\"JCMB\",\n",
    "                         \"Murchison House\":\"MH\",\n",
    "                         \"Nucleus\":\"NUC\",\n",
    "                         \"Swann Building\":\"SB\"}\n",
    "\n",
    "room_copy[\"building\"] = room_copy[\"building\"].replace(building_replacements)\n",
    "\n",
    "\n",
    "allocation_replacements = {\"1. Centrally Allocated Space\":\"centrally_allocated\", \"1. Locally Allocated Space\": \"locally_allocated\"}\n",
    "room_copy[\"ownership\"] = room_copy[\"ownership\"].replace(allocation_replacements)\n",
    "\n",
    "\n",
    "gt_ts_replacements = {\"2. General Teaching\":\"GT\", \"2. Teaching Studio\":\"TS\"}\n",
    "room_copy[\"gt_or_ts\"] = room_copy[\"gt_or_ts\"].replace(gt_ts_replacements)"
   ]
  },
  {
   "cell_type": "code",
   "execution_count": 266,
   "metadata": {},
   "outputs": [],
   "source": [
    "room_copy[\"school_priority\"] = room_copy[\"school_priority\"].str.split(\" - \").str[1]\n",
    "room_copy[\"room_layout\"] = room_copy[\"room_layout\"].str.split(\" - \").str[1]"
   ]
  },
  {
   "cell_type": "code",
   "execution_count": 267,
   "metadata": {},
   "outputs": [],
   "source": [
    "room_copy[\"school_priority\"] = room_copy[\"school_priority\"].fillna(\"no priority\")\n",
    "\n",
    "priority_replacements = {\"Engineering\":\"eng\",\n",
    "                         \"Biological\":\"bio\",\n",
    "                         \"Geosciences\":\"geo\",\n",
    "                         \"Chemistry\":\"chem\",\n",
    "                         \"Mathematics\":\"maths\",\n",
    "                         \"Physics and Astronomy\":\"phys\",\n",
    "                         \"Mathematics/ Physics and Astronomy\":\"maths_phys\"}\n",
    "room_copy[\"school_priority\"] = room_copy[\"school_priority\"].replace(priority_replacements)\n",
    "\n",
    "\n",
    "# room_copy[\"room_layout\"] = room_copy[\"room_layout\"].fillna(\"\")\n",
    "layout_replacements = {\"Classroom Style\":\"classroom\",\n",
    "                       \"Theatre Style\":\"theatre\",\n",
    "                       \"Boardroom Style\":\"boardroom\"}\n",
    "room_copy[\"room_layout\"] = room_copy[\"room_layout\"].replace(layout_replacements)"
   ]
  },
  {
   "cell_type": "code",
   "execution_count": 268,
   "metadata": {},
   "outputs": [],
   "source": [
    "room_copy[\"furniture_config\"] = room_copy[\"furniture_config\"].str.split(\"\\. \").str[1]"
   ]
  },
  {
   "cell_type": "code",
   "execution_count": 269,
   "metadata": {},
   "outputs": [],
   "source": [
    "furniture_replacements = {\"Tables and Chairs\":\"tables_chairs\",\n",
    "                          \"Flexible seating (not tables)\":\"flex_seating\",\n",
    "                          \"Retractable Seating\":\"retract_seating\"}\n",
    "room_copy[\"furniture_config\"] = room_copy[\"furniture_config\"].replace(furniture_replacements)"
   ]
  },
  {
   "cell_type": "code",
   "execution_count": 270,
   "metadata": {},
   "outputs": [
    {
     "data": {
      "text/plain": [
       "['tables_chairs', 'flex_seating', nan, 'retract_seating']"
      ]
     },
     "execution_count": 270,
     "metadata": {},
     "output_type": "execute_result"
    }
   ],
   "source": [
    "list(room_copy[\"furniture_config\"].unique())"
   ]
  },
  {
   "cell_type": "code",
   "execution_count": 271,
   "metadata": {},
   "outputs": [],
   "source": [
    "true_false_cols = [\"control_system\", \"desktop\", \"induction_system\", \"lec_recording\", \"microphone\", \"pres_facilities\", \"sound_system\", \"wall_mounted_writing\"]\n",
    "\n",
    "for col in true_false_cols:\n",
    "    room_copy[col] = room_copy[col].apply(lambda x: True if pd.notna(x) and x.strip() else False)\n",
    "\n",
    "# room_copy[\"control_system\"] = room_copy[\"control_system\"].apply(lambda x: True if pd.notna(x) and x.strip() else False)\n",
    "# room_copy[\"desktop\"] = room_copy[\"desktop\"].apply(lambda x: True if pd.notna(x) and x.strip() else False)\n",
    "# room_copy[\"induction_system\"] = room_copy[\"induction_system\"].apply(lambda x: True if pd.notna(x) and x.strip() else False)\n",
    "# room_copy[\"lec_recording\"] = room_copy[\"lec_recording\"].apply(lambda x: True if pd.notna(x) and x.strip() else False)\n",
    "# room_copy[\"microphone\"] = room_copy[\"microphone\"].apply(lambda x: True if pd.notna(x) and x.strip() else False)\n",
    "# room_copy[\"pres_facilities\"] = room_copy[\"pres_facilities\"].apply(lambda x: True if pd.notna(x) and x.strip() else False)\n",
    "# room_copy[\"sound_system\"] = room_copy[\"sound_system\"].apply(lambda x: True if pd.notna(x) and x.strip() else False)\n",
    "# room_copy[\"wall_mounted_writing\"] = room_copy[\"wall_mounted_writing\"].apply(lambda x: True if pd.notna(x) and x.strip() else False)"
   ]
  },
  {
   "cell_type": "code",
   "execution_count": 272,
   "metadata": {},
   "outputs": [],
   "source": [
    "dummy_enc_cols = []\n",
    "\n",
    "\n",
    "room_furniture_encoded = pd.get_dummies(room_copy[\"furniture_config\"], prefix=\"furniture\")\n",
    "room_layout_encoded = pd.get_dummies(room_copy[\"room_layout\"], prefix=\"layout\")\n",
    "gt_ts_encoded = pd.get_dummies(room_copy[\"gt_or_ts\"])\n",
    "ownership_encoded = pd.get_dummies(room_copy[\"ownership\"])\n",
    "priority_encoded = pd.get_dummies(room_copy[\"school_priority\"], prefix=\"priority\")\n",
    "\n",
    "\n",
    "room_copy = pd.concat([room_copy, room_furniture_encoded, room_layout_encoded, gt_ts_encoded, ownership_encoded, priority_encoded], axis=1)\n",
    "to_drop = [\"furniture_config\", \"room_layout\", \"gt_or_ts\", \"ownership\", \"school_priority\"]\n",
    "room_copy = room_copy.drop(to_drop, axis=1)"
   ]
  },
  {
   "cell_type": "code",
   "execution_count": 276,
   "metadata": {},
   "outputs": [],
   "source": [
    "# room_copy.drop(\"furniture_config\", axis=1)\n",
    "encoded_room_data = room_copy\n",
    "\n",
    "encoded_room_data.to_excel('encoded_room_data.xlsx', index=False)"
   ]
  }
 ],
 "metadata": {
  "kernelspec": {
   "display_name": "base",
   "language": "python",
   "name": "python3"
  },
  "language_info": {
   "codemirror_mode": {
    "name": "ipython",
    "version": 3
   },
   "file_extension": ".py",
   "mimetype": "text/x-python",
   "name": "python",
   "nbconvert_exporter": "python",
   "pygments_lexer": "ipython3",
   "version": "3.11.8"
  }
 },
 "nbformat": 4,
 "nbformat_minor": 2
}
