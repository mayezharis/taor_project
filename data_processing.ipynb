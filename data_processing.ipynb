{
 "cells": [
  {
   "cell_type": "code",
   "execution_count": 1,
   "metadata": {},
   "outputs": [],
   "source": [
    "import numpy as np\n",
    "import pandas as pd"
   ]
  },
  {
   "cell_type": "code",
   "execution_count": 55,
   "metadata": {},
   "outputs": [],
   "source": [
    "enrollment_data = pd.read_excel(\"Raw Data/Anon Enrollment Data.xlsx\")\n",
    "\n",
    "unique_students = enrollment_data[\"UUN\"].unique()\n",
    "unique_years = enrollment_data[\"Year Of Programme\"].unique()\n",
    "unique_degrees = enrollment_data[\"Programme Of Study Sought Title\"].unique()\n",
    "unique_schools = enrollment_data[\"Programme School Name\"].unique()\n",
    "unique_years_taken = enrollment_data[\"Normal Year Taken\"].unique()\n",
    "unique_course_codes = enrollment_data['Course Code'].unique()\n",
    "unique_courses = enrollment_data['Course Name'].unique()"
   ]
  },
  {
   "cell_type": "code",
   "execution_count": 61,
   "metadata": {},
   "outputs": [],
   "source": [
    "enrollment_cols = list(enrollment_data.columns)"
   ]
  },
  {
   "cell_type": "code",
   "execution_count": 60,
   "metadata": {},
   "outputs": [
    {
     "data": {
      "text/plain": [
       "3167"
      ]
     },
     "execution_count": 60,
     "metadata": {},
     "output_type": "execute_result"
    }
   ],
   "source": [
    "enrollment_data.loc[enrollment_data[\"Normal Year Taken\"]==\"P\"].shape[0]"
   ]
  },
  {
   "cell_type": "code",
   "execution_count": 77,
   "metadata": {},
   "outputs": [
    {
     "data": {
      "text/html": [
       "<div>\n",
       "<style scoped>\n",
       "    .dataframe tbody tr th:only-of-type {\n",
       "        vertical-align: middle;\n",
       "    }\n",
       "\n",
       "    .dataframe tbody tr th {\n",
       "        vertical-align: top;\n",
       "    }\n",
       "\n",
       "    .dataframe thead th {\n",
       "        text-align: right;\n",
       "    }\n",
       "</style>\n",
       "<table border=\"1\" class=\"dataframe\">\n",
       "  <thead>\n",
       "    <tr style=\"text-align: right;\">\n",
       "      <th></th>\n",
       "      <th>UUN</th>\n",
       "      <th>Year Of Programme</th>\n",
       "      <th>Programme Of Study Sought Title</th>\n",
       "      <th>Programme School Name</th>\n",
       "      <th>Normal Year Taken</th>\n",
       "      <th>Course Code</th>\n",
       "      <th>Course Name</th>\n",
       "    </tr>\n",
       "  </thead>\n",
       "  <tbody>\n",
       "    <tr>\n",
       "      <th>242</th>\n",
       "      <td>C1335471</td>\n",
       "      <td>2</td>\n",
       "      <td>Algebra and Number Theory</td>\n",
       "      <td>School of Mathematics</td>\n",
       "      <td>5</td>\n",
       "      <td>MATH11120</td>\n",
       "      <td>Algebraic Geometry</td>\n",
       "    </tr>\n",
       "    <tr>\n",
       "      <th>7784</th>\n",
       "      <td>C1335471</td>\n",
       "      <td>2</td>\n",
       "      <td>Algebra and Number Theory</td>\n",
       "      <td>School of Mathematics</td>\n",
       "      <td>5</td>\n",
       "      <td>MATH11053</td>\n",
       "      <td>Introduction to Lie Groups</td>\n",
       "    </tr>\n",
       "  </tbody>\n",
       "</table>\n",
       "</div>"
      ],
      "text/plain": [
       "           UUN  Year Of Programme Programme Of Study Sought Title  \\\n",
       "242   C1335471                  2       Algebra and Number Theory   \n",
       "7784  C1335471                  2       Algebra and Number Theory   \n",
       "\n",
       "      Programme School Name Normal Year Taken Course Code  \\\n",
       "242   School of Mathematics                 5   MATH11120   \n",
       "7784  School of Mathematics                 5   MATH11053   \n",
       "\n",
       "                     Course Name  \n",
       "242           Algebraic Geometry  \n",
       "7784  Introduction to Lie Groups  "
      ]
     },
     "execution_count": 77,
     "metadata": {},
     "output_type": "execute_result"
    }
   ],
   "source": [
    "# for i in range(5)\n",
    "# enrollment_data.loc[enrollment_data[\"Year Of Programme\"] == 1]\n",
    "# som_only = enrollment_data.loc[enrollment_data[\"Programme School Name\"] == \"School of Mathematics\"]\n",
    "\n",
    "# unique_degrees_som = som_only[\"Programme Of Study Sought Title\"].unique()\n",
    "# list(unique_degrees_som)\n",
    "\n",
    "\n",
    "# som_only = enrollment_data.loc[(enrollment_data[\"Programme Of Study Sought Title\"] == 'Algebra and Number Theory') &\n",
    "#                                (enrollment_data[\"Programme School Name\"] == 'School of Mathematics')]\n",
    "\n",
    "enrollment_data.loc[enrollment_data[\"UUN\"] == \"C1335471\"]\n",
    "\n",
    "# som_only"
   ]
  }
 ],
 "metadata": {
  "kernelspec": {
   "display_name": "base",
   "language": "python",
   "name": "python3"
  },
  "language_info": {
   "codemirror_mode": {
    "name": "ipython",
    "version": 3
   },
   "file_extension": ".py",
   "mimetype": "text/x-python",
   "name": "python",
   "nbconvert_exporter": "python",
   "pygments_lexer": "ipython3",
   "version": "3.8.5"
  }
 },
 "nbformat": 4,
 "nbformat_minor": 2
}
