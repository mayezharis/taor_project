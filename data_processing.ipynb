{
 "cells": [
  {
   "cell_type": "code",
   "execution_count": 288,
   "metadata": {},
   "outputs": [],
   "source": [
    "import numpy as np\n",
    "import pandas as pd\n",
    "import re"
   ]
  },
  {
   "cell_type": "code",
   "execution_count": 289,
   "metadata": {},
   "outputs": [],
   "source": [
    "student_data = pd.read_excel(\"Raw Data/Anon Enrollment Data.xlsx\")\n",
    "enrol_nums_data = pd.read_excel(\"Raw Data/Course Enrollment Numbers.xlsx\", sheet_name=\"Course Numbers\")\n",
    "enrol_nums_additional = pd.read_excel(\"Raw Data/Course Enrollment Numbers.xlsx\", sheet_name=\"abbreviated course names\")\n",
    "timetable_data = pd.read_excel(\"Raw Data/School of Mathematics - Timetable Data.xlsx\")\n",
    "room_data = pd.read_excel(\"Raw Data/Timetabling KB Rooms_5205.xlsx\")"
   ]
  },
  {
   "cell_type": "code",
   "execution_count": 290,
   "metadata": {},
   "outputs": [],
   "source": [
    "unique_students = student_data[\"UUN\"].unique()\n",
    "unique_years = student_data[\"Year Of Programme\"].unique()\n",
    "unique_degrees = student_data[\"Programme Of Study Sought Title\"].unique()\n",
    "unique_schools = student_data[\"Programme School Name\"].unique()\n",
    "unique_years_taken = student_data[\"Normal Year Taken\"].unique()\n",
    "unique_course_codes = student_data['Course Code'].unique()\n",
    "unique_courses = student_data['Course Name'].unique()"
   ]
  },
  {
   "cell_type": "code",
   "execution_count": 291,
   "metadata": {},
   "outputs": [],
   "source": [
    "enrol_nums_cols = list(enrol_nums_data.columns)"
   ]
  },
  {
   "cell_type": "code",
   "execution_count": 292,
   "metadata": {},
   "outputs": [],
   "source": [
    "student_cols = list(student_data.columns)"
   ]
  },
  {
   "cell_type": "code",
   "execution_count": 293,
   "metadata": {},
   "outputs": [],
   "source": [
    "math_courses_only = student_data[student_data[\"Course Code\"].str.startswith(\"MATH\")]\n",
    "math_courses = math_courses_only[\"Course Name\"].unique()\n",
    "\n",
    "enrol_nums_courses = list(enrol_nums_data[\"Course\"])\n",
    "uncommon_maths_courses = [i for i in math_courses if i not in enrol_nums_courses]"
   ]
  },
  {
   "cell_type": "code",
   "execution_count": 294,
   "metadata": {},
   "outputs": [
    {
     "data": {
      "text/plain": [
       "['Dissertation (CAM)',\n",
       " 'Dissertation (CMF)',\n",
       " 'Dissertation (FMO)',\n",
       " 'Dissertation (Op. Res.)',\n",
       " 'Dissertation (SDS)',\n",
       " 'Dissertation (Statistics)',\n",
       " 'Dissertation (Stats. Op. Res.)',\n",
       " 'Mathematics Dissertation',\n",
       " 'Mathematics Project',\n",
       " 'Mathematics Reading Course - S1',\n",
       " 'Mathematics Reading Course - S2',\n",
       " 'MIGS: Advanced Course 1',\n",
       " 'MIGS: Asymptotic and Analytical Methods',\n",
       " 'MIGS: Computational Methods for Data Driven Modelling',\n",
       " 'MIGS: Continuum Mechanics',\n",
       " 'MIGS: Dynamical Systems and Conservation Laws',\n",
       " 'MIGS: Elliptic and Parabolic PDEs',\n",
       " 'MIGS: Extended Project',\n",
       " 'MIGS: Foundations of Probability',\n",
       " 'MIGS: Functional Analysis',\n",
       " 'MIGS: Mathematical Modelling and Applied Analysis',\n",
       " 'MIGS: Measure and Integration',\n",
       " 'MIGS: Modern Regression and Bayesian Methods',\n",
       " 'MIGS: Numerical Methods',\n",
       " 'MIGS: Project 1',\n",
       " 'MIGS: Project 2',\n",
       " 'MIGS: Regression and Simulation Methods',\n",
       " 'MIGS: Stochastic Processes',\n",
       " 'Project in Mathematics (Double)']"
      ]
     },
     "execution_count": 294,
     "metadata": {},
     "output_type": "execute_result"
    }
   ],
   "source": [
    "uncommon_maths_courses"
   ]
  },
  {
   "cell_type": "code",
   "execution_count": 295,
   "metadata": {},
   "outputs": [],
   "source": [
    "with open('Keys/course_abbreviation_key.txt', 'r') as file:\n",
    "    # Read the entire contents of the file\n",
    "    abbr_key = file.read()\n",
    "file.close()\n",
    "\n",
    "abbr_key = abbr_key.split(\"\\n\")\n",
    "abbr_key = [i.strip() for i in abbr_key if i.strip()]"
   ]
  },
  {
   "cell_type": "code",
   "execution_count": 296,
   "metadata": {},
   "outputs": [],
   "source": [
    "enrol_nums_copy = enrol_nums_data.copy()"
   ]
  },
  {
   "cell_type": "code",
   "execution_count": 297,
   "metadata": {},
   "outputs": [],
   "source": [
    "abbr_map = {}\n",
    "for course in abbr_key:\n",
    "    abbreviation, description, code = course.split(' = ')\n",
    "    abbr_map[code] = abbreviation\n",
    "\n",
    "enrol_nums_copy[\"Abbreviated Course Name\"] = enrol_nums_copy[\"Code\"].map(abbr_map)"
   ]
  },
  {
   "cell_type": "code",
   "execution_count": 298,
   "metadata": {},
   "outputs": [
    {
     "data": {
      "text/plain": [
       "True"
      ]
     },
     "execution_count": 298,
     "metadata": {},
     "output_type": "execute_result"
    }
   ],
   "source": [
    "len(enrol_nums_copy[\"Abbreviated Course Name\"]) == len(enrol_nums_additional[\"Abbreviated Course Name\"])"
   ]
  },
  {
   "cell_type": "code",
   "execution_count": 299,
   "metadata": {},
   "outputs": [
    {
     "data": {
      "text/plain": [
       "True"
      ]
     },
     "execution_count": 299,
     "metadata": {},
     "output_type": "execute_result"
    }
   ],
   "source": [
    "enrol_nums_copy[\"Abbreviated Course Name\"].all() == enrol_nums_additional[\"Abbreviated Course Name\"].all()"
   ]
  },
  {
   "cell_type": "markdown",
   "metadata": {},
   "source": [
    "# Changing Room Data"
   ]
  },
  {
   "cell_type": "code",
   "execution_count": 300,
   "metadata": {},
   "outputs": [],
   "source": [
    "room_copy = room_data.copy()\n",
    "new_room_cols = [\"campus\", \"building\", \"room_name\", \"capacity\",\n",
    "                 \"ownership\", \"gt_or_ts\", \"school_priority\", \"room_layout\",\"furniture_config\",\n",
    "                 \"control_system\", \"desktop\", \"induction_system\", \"lec_recording\", \"microphone\", \"pres_facilities\", \n",
    "                 \"sound_system\", \"wall_mounted_writing\"]\n",
    "\n",
    "room_copy.columns = new_room_cols"
   ]
  },
  {
   "cell_type": "code",
   "execution_count": 301,
   "metadata": {},
   "outputs": [],
   "source": [
    "unique_campuses = room_copy[\"campus\"].unique()\n",
    "unique_buildings = room_copy[\"building\"].unique()\n",
    "unique_rooms = room_copy[\"room_name\"].unique()\n",
    "unique_ownership = room_copy[\"ownership\"].unique()"
   ]
  },
  {
   "cell_type": "code",
   "execution_count": 302,
   "metadata": {},
   "outputs": [],
   "source": [
    "if len(unique_campuses)==1:\n",
    "    if unique_campuses.all() == \"King's Buildings Campus\":\n",
    "        room_copy[\"campus\"] = room_copy[\"campus\"].replace(\"King's Buildings Campus\", \"KB\")\n",
    "else:\n",
    "    print(\"There is more than one campus in the dataset.\")\n",
    "\n",
    "\n",
    "building_replacements = {\"Alrick\":\"ALR\",\n",
    "                         \"Ashworth\":\"ASH\",\n",
    "                         \"Daniel Rutherford Building\":\"DRB\",\n",
    "                         \"Eng Sanderson Building\":\"ESB\",\n",
    "                         \"Grant Institute\":\"GRA\",\n",
    "                         \"Hudson Beare Building\":\"HBB\",\n",
    "                         \"Joseph Black Building\":\"JBB\",\n",
    "                         \"JCMB\":\"JCMB\",\n",
    "                         \"Murchison House\":\"MH\",\n",
    "                         \"Nucleus\":\"NUC\",\n",
    "                         \"Swann Building\":\"SB\"}\n",
    "\n",
    "room_copy[\"building\"] = room_copy[\"building\"].replace(building_replacements)\n",
    "\n",
    "\n",
    "allocation_replacements = {\"1. Centrally Allocated Space\":\"centrally_allocated\", \"1. Locally Allocated Space\": \"locally_allocated\"}\n",
    "room_copy[\"ownership\"] = room_copy[\"ownership\"].replace(allocation_replacements)\n",
    "\n",
    "\n",
    "gt_ts_replacements = {\"2. General Teaching\":\"GT\", \"2. Teaching Studio\":\"TS\"}\n",
    "room_copy[\"gt_or_ts\"] = room_copy[\"gt_or_ts\"].replace(gt_ts_replacements)"
   ]
  },
  {
   "cell_type": "code",
   "execution_count": 303,
   "metadata": {},
   "outputs": [],
   "source": [
    "room_copy[\"school_priority\"] = room_copy[\"school_priority\"].str.split(\" - \").str[1]\n",
    "room_copy[\"room_layout\"] = room_copy[\"room_layout\"].str.split(\" - \").str[1]"
   ]
  },
  {
   "cell_type": "code",
   "execution_count": 304,
   "metadata": {},
   "outputs": [],
   "source": [
    "room_copy[\"school_priority\"] = room_copy[\"school_priority\"].fillna(\"no priority\")\n",
    "\n",
    "priority_replacements = {\"Engineering\":\"eng\",\n",
    "                         \"Biological\":\"bio\",\n",
    "                         \"Geosciences\":\"geo\",\n",
    "                         \"Chemistry\":\"chem\",\n",
    "                         \"Mathematics\":\"maths\",\n",
    "                         \"Physics and Astronomy\":\"phys\",\n",
    "                         \"Mathematics/ Physics and Astronomy\":\"maths_phys\"}\n",
    "room_copy[\"school_priority\"] = room_copy[\"school_priority\"].replace(priority_replacements)\n",
    "\n",
    "\n",
    "layout_replacements = {\"Classroom Style\":\"classroom\",\n",
    "                       \"Theatre Style\":\"theatre\",\n",
    "                       \"Boardroom Style\":\"boardroom\"}\n",
    "room_copy[\"room_layout\"] = room_copy[\"room_layout\"].replace(layout_replacements)"
   ]
  },
  {
   "cell_type": "code",
   "execution_count": 305,
   "metadata": {},
   "outputs": [],
   "source": [
    "room_copy[\"furniture_config\"] = room_copy[\"furniture_config\"].str.split(\"\\. \").str[1]"
   ]
  },
  {
   "cell_type": "code",
   "execution_count": 306,
   "metadata": {},
   "outputs": [],
   "source": [
    "furniture_replacements = {\"Tables and Chairs\":\"tables_chairs\",\n",
    "                          \"Flexible seating (not tables)\":\"flex_seating\",\n",
    "                          \"Retractable Seating\":\"retract_seating\"}\n",
    "room_copy[\"furniture_config\"] = room_copy[\"furniture_config\"].replace(furniture_replacements)"
   ]
  },
  {
   "cell_type": "code",
   "execution_count": 307,
   "metadata": {},
   "outputs": [
    {
     "data": {
      "text/plain": [
       "['tables_chairs', 'flex_seating', nan, 'retract_seating']"
      ]
     },
     "execution_count": 307,
     "metadata": {},
     "output_type": "execute_result"
    }
   ],
   "source": [
    "list(room_copy[\"furniture_config\"].unique())"
   ]
  },
  {
   "cell_type": "code",
   "execution_count": 308,
   "metadata": {},
   "outputs": [],
   "source": [
    "true_false_cols = [\"control_system\", \"desktop\", \"induction_system\", \"lec_recording\", \"microphone\", \"pres_facilities\", \"sound_system\", \"wall_mounted_writing\"]\n",
    "\n",
    "for col in true_false_cols:\n",
    "    room_copy[col] = room_copy[col].apply(lambda x: True if pd.notna(x) and x.strip() else False)"
   ]
  },
  {
   "cell_type": "code",
   "execution_count": 309,
   "metadata": {},
   "outputs": [],
   "source": [
    "dummy_enc_cols = []\n",
    "\n",
    "\n",
    "room_furniture_encoded = pd.get_dummies(room_copy[\"furniture_config\"], prefix=\"furniture\")\n",
    "room_layout_encoded = pd.get_dummies(room_copy[\"room_layout\"], prefix=\"layout\")\n",
    "gt_ts_encoded = pd.get_dummies(room_copy[\"gt_or_ts\"])\n",
    "ownership_encoded = pd.get_dummies(room_copy[\"ownership\"])\n",
    "priority_encoded = pd.get_dummies(room_copy[\"school_priority\"], prefix=\"priority\")\n",
    "\n",
    "\n",
    "room_copy = pd.concat([room_copy, room_furniture_encoded, room_layout_encoded, gt_ts_encoded, ownership_encoded, priority_encoded], axis=1)\n",
    "to_drop = [\"furniture_config\", \"room_layout\", \"gt_or_ts\", \"ownership\", \"school_priority\"]\n",
    "room_copy = room_copy.drop(to_drop, axis=1)"
   ]
  },
  {
   "cell_type": "code",
   "execution_count": 310,
   "metadata": {},
   "outputs": [],
   "source": [
    "# room_copy.drop(\"furniture_config\", axis=1)\n",
    "encoded_room_data = room_copy\n",
    "\n",
    "# encoded_room_data.to_excel('Processed Data/encoded_room_data.xlsx', index=False)"
   ]
  },
  {
   "cell_type": "markdown",
   "metadata": {},
   "source": [
    "# Cleaning Timetabling Data"
   ]
  },
  {
   "cell_type": "code",
   "execution_count": 311,
   "metadata": {},
   "outputs": [
    {
     "data": {
      "text/plain": [
       "True"
      ]
     },
     "execution_count": 311,
     "metadata": {},
     "output_type": "execute_result"
    }
   ],
   "source": [
    "timetable_copy = timetable_data.copy()\n",
    "timetable_copy = timetable_data.rename(columns = {\"Course Name\":\"Course\", \n",
    "                                                  \"Course Code\":\"Code\",\n",
    "                                                  \"Allocated Location Name\": \"room_name\"})\n",
    "\n",
    "timetable_copy = pd.merge(timetable_copy, enrol_nums_additional[[\"Delivery Period\", \"Normal Year Taken\", \"Code\"]], on = \"Code\", how = \"left\")\n",
    "timetable_copy = pd.merge(timetable_copy, room_copy[[\"building\", \"room_name\"]], on = \"room_name\", how = \"left\")\n",
    "timetable_copy.shape[0] == timetable_data.shape[0]"
   ]
  },
  {
   "cell_type": "code",
   "execution_count": 312,
   "metadata": {},
   "outputs": [],
   "source": [
    "uncommon_rooms = list(timetable_copy[timetable_copy[\"building\"].isnull()][\"room_name\"].unique())"
   ]
  },
  {
   "cell_type": "code",
   "execution_count": 313,
   "metadata": {},
   "outputs": [],
   "source": [
    "timetable_copy[\"Abbreviated Course Name\"] = timetable_copy[\"Code\"].map(abbr_map)\n",
    "\n",
    "def split_on_star(entry):\n",
    "    if isinstance(entry, str) and '*' in entry:\n",
    "        return entry.split('*')[1]\n",
    "    else:\n",
    "        return entry\n",
    "\n",
    "cols_w_star = [\"Activity Type Name\", \"Delivery Semester\", \"Zone Name\"]\n",
    "\n",
    "for col in cols_w_star:\n",
    "    timetable_copy[col] = timetable_copy[col].apply(split_on_star)"
   ]
  },
  {
   "cell_type": "code",
   "execution_count": 314,
   "metadata": {},
   "outputs": [],
   "source": [
    "def num_list(entry):\n",
    "    numbers = []\n",
    "    for part in entry.split(','):\n",
    "        if '-' in part:\n",
    "            start, end = map(int, part.split('-'))\n",
    "            numbers.extend(range(start, end + 1))\n",
    "        else:\n",
    "            numbers.append(int(part))\n",
    "    return numbers\n",
    "\n",
    "timetable_copy[\"Teaching Week Pattern\"] = timetable_copy[\"Teaching Week Pattern\"].apply(num_list)\n",
    "\n",
    "\n",
    "week_key = {}\n",
    "with open(\"Keys/week_codes.txt\", 'r', encoding='utf-8') as file:\n",
    "    for line in file:\n",
    "        line = line.replace('\\u2060', '')\n",
    "        \n",
    "        line = line.strip()\n",
    "        if line:  # Skip empty lines\n",
    "            key_part = line.split('=')\n",
    "            key_part[0] = int(key_part[0].strip())\n",
    "            week_key[key_part[0]] = key_part[1].strip()\n",
    "\n",
    "def convert_to_strings(numbers):\n",
    "    return [week_key[number] for number in numbers]\n",
    "\n",
    "timetable_copy[\"Teaching Week Pattern\"] = timetable_copy[\"Teaching Week Pattern\"].apply(convert_to_strings)\n",
    "timetable_copy[\"Teaching Week Pattern\"] = timetable_copy[\"Teaching Week Pattern\"].apply(lambda x: \", \".join(x))"
   ]
  },
  {
   "cell_type": "code",
   "execution_count": 315,
   "metadata": {},
   "outputs": [
    {
     "data": {
      "text/plain": [
       "{1: ['09:00', '10:00'],\n",
       " 2: ['10:00', '11:00'],\n",
       " 3: ['11:00', '12:00'],\n",
       " 4: ['12:00', '13:00'],\n",
       " 5: ['13:00', '14:00'],\n",
       " 6: ['14:00', '15:00'],\n",
       " 7: ['15:00', '16:00'],\n",
       " 8: ['16:00', '17:00'],\n",
       " 9: ['17:00', '18:00']}"
      ]
     },
     "execution_count": 315,
     "metadata": {},
     "output_type": "execute_result"
    }
   ],
   "source": [
    "time_periods = {}\n",
    "with open('Keys/time_periods.txt', 'r') as file:\n",
    "    for line in file:\n",
    "        period, times = line.strip().split('=')\n",
    "        start, end = times[1:].split(', ')\n",
    "        time_periods[int(period.strip())] = [start.strip(\"[\"), end.strip(\"]\")]\n",
    "time_periods"
   ]
  },
  {
   "cell_type": "code",
   "execution_count": 316,
   "metadata": {},
   "outputs": [],
   "source": [
    "def get_time_periods(start, end):\n",
    "    encompassed_periods = []\n",
    "    for period, (period_start, period_end) in time_periods.items():\n",
    "        start_hour, start_minute = map(int, period_start.split(':'))\n",
    "        end_hour, end_minute = map(int, period_end.split(':'))\n",
    "        \n",
    "        class_start_hour, class_start_minute = map(int, start.split(':'))\n",
    "        class_end_hour, class_end_minute = map(int, end.split(':'))\n",
    "        \n",
    "        # Compare hours and minutes\n",
    "        if (class_start_hour == start_hour and class_start_minute == start_minute) and (class_end_hour == end_hour and class_end_minute == end_minute):\n",
    "            encompassed_periods.append(period)\n",
    "        elif (class_start_hour < end_hour or (class_start_hour == end_hour and class_start_minute < end_minute)) and \\\n",
    "           (class_end_hour > start_hour or (class_end_hour == start_hour and class_end_minute > start_minute)):\n",
    "            encompassed_periods.append(period)\n",
    "    return encompassed_periods\n",
    "\n",
    "# Apply function to each row and create new column\n",
    "timetable_copy['time_periods'] = timetable_copy.apply(lambda x: get_time_periods(x['Scheduled Start Time'], x['Scheduled End Time']), axis=1)\n",
    "timetable_copy[\"time_periods\"] = timetable_copy[\"time_periods\"].apply(lambda x: \", \".join(map(str,x)))"
   ]
  },
  {
   "cell_type": "code",
   "execution_count": 317,
   "metadata": {},
   "outputs": [],
   "source": [
    "class_type_map = {}\n",
    "with open(\"Keys/class_type_key.txt\", \"r\") as file:\n",
    "    for line in file:\n",
    "        type_orig, type_abbr = line.split(\" = \")\n",
    "        class_type_map[type_orig] = type_abbr.strip()\n",
    "\n",
    "timetable_copy[\"course_classtype\"] = timetable_copy[\"Code\"] + \"_\" + timetable_copy[\"Activity Type Name\"].map(class_type_map)"
   ]
  },
  {
   "cell_type": "code",
   "execution_count": 318,
   "metadata": {},
   "outputs": [],
   "source": [
    "def clean_ws_names(class_info):\n",
    "    if \"<\" in class_info and \">\" in class_info:\n",
    "        return class_info.split(\"<\")[0]\n",
    "    else: \n",
    "        return class_info\n",
    "    \n",
    "timetable_copy[\"Activity\"] = timetable_copy [\"Activity\"].apply(clean_ws_names)\n",
    "\n",
    "def extract_ws_group(class_info):\n",
    "    if \"Workshop\" in class_info and \"/\" in class_info:\n",
    "        return class_info.split(\"/\")[-1].strip()\n",
    "    elif \"Workshop\" in class_info and class_info.split(\" - \")[-1].strip() == \"Workshop\":\n",
    "        return \"01\"\n",
    "    elif \"Workshop\" in class_info:\n",
    "        return \"01\"\n",
    "    else:\n",
    "        return np.nan\n",
    "    \n",
    "def clean_brackets(group):\n",
    "    if \"(reserve)\" in str(group) or \"(reserved)\" in str(group):\n",
    "        group = group.replace(\"(\", \"\").replace(\")\", \"\").replace(\"d\", \"\")\n",
    "        group = group.replace(\" \", \"_\")\n",
    "        return group\n",
    "    else:\n",
    "        return group\n",
    "    \n",
    "timetable_copy[\"ws_groups\"] = timetable_copy[\"course_classtype\"] + \"_\" + timetable_copy[\"Activity\"].apply(extract_ws_group)\n",
    "timetable_copy[\"ws_groups\"] = timetable_copy[\"ws_groups\"].apply(clean_brackets)"
   ]
  },
  {
   "cell_type": "code",
   "execution_count": 319,
   "metadata": {},
   "outputs": [],
   "source": [
    "hm_duration = [map(int, time.split(':')) for time in timetable_copy[\"Duration\"]]\n",
    "nhours_duration = [(h + m / 60) for h, m in hm_duration]\n",
    "timetable_copy[\"duration_hours\"] = nhours_duration\n",
    "\n",
    "hm_total = [map(int, time.split(':')) for time in timetable_copy[\"Total Hours\"]]\n",
    "nhours_total = [(h + m / 60) for h, m in hm_total]\n",
    "timetable_copy[\"total_duration_hours\"] = nhours_total"
   ]
  },
  {
   "cell_type": "markdown",
   "metadata": {},
   "source": [
    "### Need to use the `Teaching Week Pattern` column to add in data for the `Delivery Semester` column."
   ]
  },
  {
   "cell_type": "code",
   "execution_count": 321,
   "metadata": {},
   "outputs": [],
   "source": [
    "unique_patterns = list(timetable_copy[\"Teaching Week Pattern\"].unique())\n",
    "\n",
    "sem1_class_patterns = [pattern for pattern in unique_patterns if \"s1\" in str(pattern)]\n",
    "sem2_class_patterns = [pattern for pattern in unique_patterns if \"s2\" in str(pattern)]"
   ]
  },
  {
   "cell_type": "code",
   "execution_count": 322,
   "metadata": {},
   "outputs": [
    {
     "data": {
      "text/plain": [
       "['s2w1',\n",
       " 's1w4',\n",
       " 's1w1',\n",
       " 's1w7',\n",
       " 's1w3',\n",
       " 's1w6',\n",
       " 's1w9',\n",
       " 's1w11',\n",
       " 's2w11',\n",
       " 's2w4, s2w7',\n",
       " 's2w2, s2w3',\n",
       " 's2w1, s2w2',\n",
       " 's2w4, s2w8',\n",
       " 's1w3, s1w6, s1w9',\n",
       " 's2w3, s2w6, s2w9',\n",
       " 's1w1, s1w4, s1w7',\n",
       " 's2w1, s2w3, s2w4',\n",
       " 's2w3, s2w5, s2w9',\n",
       " 's2w4, s2w7, s2w10',\n",
       " 's1w8, s1w9, s1w10',\n",
       " 's2w1, s2w2, s2w3, s2w8',\n",
       " 's2w2, s2w5, s2w8, s2w11',\n",
       " 's1w5, s1w7, s1w9, s1w11',\n",
       " 's2w4, s2w6, s2w8, s2w10',\n",
       " 's1w1, s1w3, s1w5, s1w7, s1w9',\n",
       " 's2w1, s2w2, s2w3, s2w4, s2w5',\n",
       " 's2w2, s2w3, s2w4, s2w5, s2w6',\n",
       " 's1w1, s1w2, s1w3, s1w4, s1w5',\n",
       " 's2w2, s2w4, s2w6, s2w8, s2w10',\n",
       " 's2w3, s2w5, s2w7, s2w9, s2w11',\n",
       " 's1w2, s1w4, s1w6, s1w8, s1w10',\n",
       " 's1w3, s1w5, s1w7, s1w9, s1w11',\n",
       " 's2w1, s2w2, s2w3, s2w4, s2w7, s2w8',\n",
       " 's2w1, s2w3, s2w5, s2w7, s2w9, s2w11',\n",
       " 's1w1, s1w3, s1w5, s1w7, s1w9, s1w11',\n",
       " 's2w6, s2w7, s2w8, s2w9, s2w10, s2w11',\n",
       " 's1w2, s1w4, s1w6, s1w8, s1w10, s1w11',\n",
       " 's1w2, s1w3, s1w4, s1w5, s1w6, s1w7, s1w8',\n",
       " 's2w2, s2w3, s2w4, s2w5, s2w6, s2w7, s2w8',\n",
       " 's1w2, s1w4, s1w5, s1w8, s1w9, s1w10, s1w11',\n",
       " 's1w1, s1w2, s1w3, s1w4, s1w5, s1w6, s1w7, s1w8',\n",
       " 's1w1, s1w2, s1w3, s1w4, s1w5, s1w6, s1w7, s1w8, s1w10',\n",
       " 's2w3, s2w4, s2w5, s2w6, s2w7, s2w8, s2w9, s2w10, s2w11',\n",
       " 's1w1, s1w2, s1w3, s1w4, s1w5, s1w6, s1w7, s1w8, s1w9, s1w10',\n",
       " 's2w1, s2w2, s2w3, s2w4, s2w5, s2w6, s2w7, s2w8, s2w9, s2w10',\n",
       " 's1w1, s1w2, s1w3, s1w5, s1w6, s1w7, s1w8, s1w9, s1w10, s1w11',\n",
       " 's2w2, s2w3, s2w4, s2w5, s2w6, s2w7, s2w8, s2w9, s2w10, s2w11',\n",
       " 's1w2, s1w3, s1w4, s1w5, s1w6, s1w7, s1w8, s1w9, s1w10, s1w11',\n",
       " 's1w3, s1w4, s1w5, s1w6, s1w7, s1w8, s1w9, s1w10, s1w11, s1w12',\n",
       " 's1w1, s1w2, s1w3, s1w4, s1w5, s1w6, s1w7, s1w8, s1w9, s1w10, s1w11',\n",
       " 's2w1, s2w2, s2w3, s2w4, s2w5, s2w6, s2w7, s2w8, s2w9, s2w10, s2w11']"
      ]
     },
     "execution_count": 322,
     "metadata": {},
     "output_type": "execute_result"
    }
   ],
   "source": [
    "sorted(unique_patterns, key=len)"
   ]
  },
  {
   "cell_type": "code",
   "execution_count": 323,
   "metadata": {},
   "outputs": [
    {
     "data": {
      "text/plain": [
       "['s2w1',\n",
       " 's2w11',\n",
       " 's2w4, s2w7',\n",
       " 's2w2, s2w3',\n",
       " 's2w1, s2w2',\n",
       " 's2w4, s2w8',\n",
       " 's2w3, s2w6, s2w9',\n",
       " 's2w1, s2w3, s2w4',\n",
       " 's2w3, s2w5, s2w9',\n",
       " 's2w4, s2w7, s2w10',\n",
       " 's2w1, s2w2, s2w3, s2w8',\n",
       " 's2w2, s2w5, s2w8, s2w11',\n",
       " 's2w4, s2w6, s2w8, s2w10',\n",
       " 's2w1, s2w2, s2w3, s2w4, s2w5',\n",
       " 's2w2, s2w3, s2w4, s2w5, s2w6',\n",
       " 's2w2, s2w4, s2w6, s2w8, s2w10',\n",
       " 's2w3, s2w5, s2w7, s2w9, s2w11',\n",
       " 's2w1, s2w2, s2w3, s2w4, s2w7, s2w8',\n",
       " 's2w1, s2w3, s2w5, s2w7, s2w9, s2w11',\n",
       " 's2w6, s2w7, s2w8, s2w9, s2w10, s2w11',\n",
       " 's2w2, s2w3, s2w4, s2w5, s2w6, s2w7, s2w8',\n",
       " 's2w3, s2w4, s2w5, s2w6, s2w7, s2w8, s2w9, s2w10, s2w11',\n",
       " 's2w1, s2w2, s2w3, s2w4, s2w5, s2w6, s2w7, s2w8, s2w9, s2w10',\n",
       " 's2w2, s2w3, s2w4, s2w5, s2w6, s2w7, s2w8, s2w9, s2w10, s2w11',\n",
       " 's2w1, s2w2, s2w3, s2w4, s2w5, s2w6, s2w7, s2w8, s2w9, s2w10, s2w11']"
      ]
     },
     "execution_count": 323,
     "metadata": {},
     "output_type": "execute_result"
    }
   ],
   "source": [
    "sorted(sem2_class_patterns, key = len)"
   ]
  },
  {
   "cell_type": "code",
   "execution_count": 324,
   "metadata": {},
   "outputs": [],
   "source": [
    "# Function to extract unique elements from all lists in the column\n",
    "def extract_unique_elements(lst):\n",
    "    unique_elements = set()\n",
    "    for item in lst:\n",
    "        unique_elements.update(item.split(', '))\n",
    "    return sorted(list(unique_elements))\n",
    "\n",
    "# Extract unique elements from all lists in the column\n",
    "unique_elements_sem1 = extract_unique_elements(sem1_class_patterns)\n",
    "unique_elements_sem2 = extract_unique_elements(sem2_class_patterns)\n",
    "\n",
    "# Function to generate 0's and 1's list based on the presence of elements\n",
    "def generate_binary_list(lst, unique_elements):\n",
    "    binary_list = []\n",
    "    for element in unique_elements:\n",
    "        if element in lst:\n",
    "            binary_list.append(1)\n",
    "        else:\n",
    "            binary_list.append(0)\n",
    "    return binary_list\n",
    "\n",
    "# Apply the function to each row in the column to create the new column\n",
    "timetable_copy[\"sem1_pattern_one_hot\"] = timetable_copy[\"Teaching Week Pattern\"].apply(lambda x: generate_binary_list(x.split(\", \"), unique_elements_sem1))\n",
    "timetable_copy[\"sem1_pattern_one_hot\"] = timetable_copy[\"sem1_pattern_one_hot\"].apply(lambda x: \", \".join(map(str,x)))\n",
    "\n",
    "timetable_copy[\"sem2_pattern_one_hot\"] = timetable_copy[\"Teaching Week Pattern\"].apply(lambda x: generate_binary_list(x.split(\", \"), unique_elements_sem2))\n",
    "timetable_copy[\"sem2_pattern_one_hot\"] = timetable_copy[\"sem2_pattern_one_hot\"].apply(lambda x: \", \".join(map(str,x)))"
   ]
  },
  {
   "cell_type": "code",
   "execution_count": 325,
   "metadata": {},
   "outputs": [
    {
     "data": {
      "text/plain": [
       "Course                      Accelerated Algebra and Calculus for Direct Entry\n",
       "Code                                                                MATH08062\n",
       "Linked Course                                                             NaN\n",
       "Activity                                   MATH2 Acc Alg & Calc - Workshop/01\n",
       "Activity Type Name                                                   Workshop\n",
       "Planned Size                                                               16\n",
       "Real Size                                                                  14\n",
       "Delivery Semester                                                       SEM 1\n",
       "Teaching Week Pattern       s1w1, s1w2, s1w3, s1w4, s1w5, s1w6, s1w7, s1w8...\n",
       "Number Of Teaching Weeks                                                   11\n",
       "Scheduled Days                                                         Friday\n",
       "Scheduled Start Time                                                    14:00\n",
       "Scheduled End Time                                                      16:00\n",
       "Duration                                                                02:00\n",
       "Total Hours                                                             22:00\n",
       "Zone Name                                                                JCMB\n",
       "room_name                                        JCMB_1206c - Teaching Studio\n",
       "Delivery Period                                                    Semester 1\n",
       "Normal Year Taken                                                           2\n",
       "building                                                                 JCMB\n",
       "Abbreviated Course Name                                                   AAC\n",
       "time_periods                                                             6, 7\n",
       "course_classtype                                                 MATH08062_ws\n",
       "ws_groups                                                     MATH08062_ws_01\n",
       "duration_hours                                                            2.0\n",
       "total_duration_hours                                                     22.0\n",
       "sem1_pattern_one_hot                       1, 1, 1, 0, 1, 1, 1, 1, 1, 1, 1, 1\n",
       "sem2_pattern_one_hot                          0, 0, 0, 0, 0, 0, 0, 0, 0, 0, 0\n",
       "Name: 1, dtype: object"
      ]
     },
     "execution_count": 325,
     "metadata": {},
     "output_type": "execute_result"
    }
   ],
   "source": [
    "timetable_copy.iloc[1]"
   ]
  },
  {
   "cell_type": "code",
   "execution_count": 326,
   "metadata": {},
   "outputs": [],
   "source": [
    "unique_classes = timetable_copy.groupby(['Teaching Week Pattern', 'Scheduled Days', 'time_periods', 'course_classtype']).size().reset_index()\n",
    "\n",
    "# Custom function to aggregate ws_groups for each unique combination\n",
    "def aggregate_ws_groups(combination):\n",
    "    # Filter the DataFrame based on the current combination of columns\n",
    "    filtered_df = timetable_copy[\n",
    "        (timetable_copy['Teaching Week Pattern'] == combination['Teaching Week Pattern']) &\n",
    "        (timetable_copy['Scheduled Days'] == combination['Scheduled Days']) &\n",
    "        (timetable_copy['time_periods'] == combination['time_periods']) &\n",
    "        (timetable_copy['course_classtype'] == combination['course_classtype'])\n",
    "    ]\n",
    "    # Aggregate ws_groups for the filtered DataFrame\n",
    "    aggregated_ws_groups = set(filtered_df['ws_groups'])\n",
    "    return aggregated_ws_groups\n",
    "\n",
    "# Apply the custom function to each unique combination\n",
    "unique_classes['aggregated_ws_groups'] = unique_classes.apply(aggregate_ws_groups, axis=1)"
   ]
  },
  {
   "cell_type": "code",
   "execution_count": 327,
   "metadata": {},
   "outputs": [],
   "source": [
    "timetable_copy = pd.merge(timetable_copy, unique_classes, on=['Teaching Week Pattern', 'Scheduled Days', 'time_periods', 'course_classtype'], how='left')\n",
    "\n",
    "def update_ws_groups(row):\n",
    "    ws_groups = row['ws_groups']\n",
    "    aggregated_ws_groups = row['aggregated_ws_groups']\n",
    "    \n",
    "    if pd.isna(ws_groups):\n",
    "        ws_groups = []\n",
    "    else:\n",
    "        ws_groups = [ws_groups]\n",
    "    \n",
    "    if pd.isna(aggregated_ws_groups):\n",
    "        aggregated_ws_groups = []\n",
    "    else:\n",
    "        aggregated_ws_groups = [aggregated_ws_groups]\n",
    "    \n",
    "    updated_ws_groups = ws_groups + aggregated_ws_groups\n",
    "    return updated_ws_groups\n",
    "\n",
    "timetable_copy['aggregated_ws_groups'] = timetable_copy.apply(update_ws_groups, axis=1)\n",
    "timetable_copy[\"aggregated_ws_groups\"] = timetable_copy[\"aggregated_ws_groups\"].apply(lambda x: \", \".join(map(str,x)))"
   ]
  },
  {
   "cell_type": "code",
   "execution_count": 328,
   "metadata": {},
   "outputs": [
    {
     "data": {
      "text/plain": [
       "\"MATH08062_ws_01, {'MATH08062_ws_03', 'MATH08062_ws_04', 'MATH08062_ws_02', 'MATH08062_ws_01'}\""
      ]
     },
     "execution_count": 328,
     "metadata": {},
     "output_type": "execute_result"
    }
   ],
   "source": [
    "testing = timetable_copy[[\"Teaching Week Pattern\", \"time_periods\", \"course_classtype\", \"ws_groups\", \"aggregated_ws_groups\"]]\n",
    "list(timetable_copy[\"aggregated_ws_groups\"].unique())[1]"
   ]
  },
  {
   "cell_type": "code",
   "execution_count": 329,
   "metadata": {},
   "outputs": [],
   "source": [
    "def extract_elements(text):\n",
    "    return re.findall(r\"'([^']*)'\", text)\n",
    "\n",
    "# Apply the function to the column\n",
    "timetable_copy['aggregated_ws_groups'] = timetable_copy['aggregated_ws_groups'].apply(extract_elements)\n",
    "timetable_copy[\"aggregated_ws_groups\"] = timetable_copy[\"aggregated_ws_groups\"].apply(lambda x: \", \".join(map(str,x)))"
   ]
  },
  {
   "cell_type": "code",
   "execution_count": 333,
   "metadata": {},
   "outputs": [
    {
     "data": {
      "text/plain": [
       "['',\n",
       " 'MATH08062_ws_03, MATH08062_ws_04, MATH08062_ws_02, MATH08062_ws_01',\n",
       " 'MATH08071_ws_04, MATH08071_ws_02, MATH08071_ws_01, MATH08071_ws_05, MATH08071_ws_03, MATH08071_ws_06',\n",
       " 'MATH10068_ws_01',\n",
       " 'MATH10086_ws_01',\n",
       " 'MATH11120_ws_01',\n",
       " 'MATH10077_ws_01',\n",
       " 'MATH11226_ws_01',\n",
       " 'MATH11140_ws_01',\n",
       " 'MATH10053_cws_02, MATH10053_cws_03, MATH10053_cws_01',\n",
       " 'MATH10053_cws_04, MATH10053_cws_05',\n",
       " 'MATH10053_ws_01',\n",
       " 'MATH11236_ws_01',\n",
       " 'MATH11175_ws_02, MATH11175_ws_05, MATH11175_ws_01, MATH11175_ws_04, MATH11175_ws_03',\n",
       " 'MATH11175_ws_06, MATH11175_ws_08, MATH11175_ws_09, MATH11175_ws_10, MATH11175_ws_07',\n",
       " 'MATH11177_ws_04, MATH11177_ws_03, MATH11177_ws_01, MATH11177_ws_02, MATH11177_ws_07, MATH11177_ws_05, MATH11177_ws_06',\n",
       " 'MATH11177_ws_08, MATH11177_ws_10, MATH11177_ws_09, MATH11177_ws_11, MATH11177_ws_14, MATH11177_ws_12, MATH11177_ws_13',\n",
       " 'MATH11174_ws_03, MATH11174_ws_02, MATH11174_ws_04',\n",
       " 'MATH11174_ws_08, MATH11174_ws_05, MATH11174_ws_07, MATH11174_ws_06',\n",
       " 'MATH11174_ws_01',\n",
       " 'MATH11230_ws_01',\n",
       " 'MATH08058_ws_03, MATH08058_ws_01, MATH08058_ws_10_reserve, MATH08058_ws_04, MATH08058_ws_06, MATH08058_ws_02, MATH08058_ws_08, MATH08058_ws_11_reserve, MATH08058_ws_07, MATH08058_ws_09_reserve, MATH08058_ws_05',\n",
       " 'MATH08058_ws_55, MATH08058_ws_53, MATH08058_ws_54, MATH08058_ws_56, MATH08058_ws_52, MATH08058_ws_58, MATH08058_ws_57',\n",
       " 'MATH08058_ws_18, MATH08058_ws_12, MATH08058_ws_16, MATH08058_ws_13, MATH08058_ws_17, MATH08058_ws_21, MATH08058_ws_19, MATH08058_ws_22, MATH08058_ws_20, MATH08058_ws_14, MATH08058_ws_15',\n",
       " 'MATH08058_ws_25, MATH08058_ws_30, MATH08058_ws_26, MATH08058_ws_33, MATH08058_ws_23, MATH08058_ws_24, MATH08058_ws_32, MATH08058_ws_28, MATH08058_ws_31, MATH08058_ws_27, MATH08058_ws_29',\n",
       " 'MATH08058_ws_43, MATH08058_ws_37, MATH08058_ws_36, MATH08058_ws_40, MATH08058_ws_34, MATH08058_ws_42, MATH08058_ws_41, MATH08058_ws_38, MATH08058_ws_39, MATH08058_ws_44, MATH08058_ws_35',\n",
       " 'MATH08058_ws_47, MATH08058_ws_48, MATH08058_ws_50, MATH08058_ws_46, MATH08058_ws_51, MATH08058_ws_49, MATH08058_ws_45',\n",
       " 'MATH10072_ws_02, MATH10072_ws_07, MATH10072_ws_09, MATH10072_ws_04, MATH10072_ws_01, MATH10072_ws_03, MATH10072_ws_05, MATH10072_ws_08',\n",
       " 'MATH10017_ws_01',\n",
       " 'MATH08065_cws_12, MATH08065_cws_09, MATH08065_cws_25, MATH08065_cws_07, MATH08065_cws_06, MATH08065_cws_11, MATH08065_cws_03, MATH08065_cws_05, MATH08065_cws_08, MATH08065_cws_02, MATH08065_cws_04, MATH08065_cws_01, MATH08065_cws_10',\n",
       " 'MATH08065_cws_26, MATH08065_cws_15, MATH08065_cws_17, MATH08065_cws_24, MATH08065_cws_23, MATH08065_cws_14, MATH08065_cws_18, MATH08065_cws_21, MATH08065_cws_20, MATH08065_cws_13, MATH08065_cws_16, MATH08065_cws_19, MATH08065_cws_22',\n",
       " 'MATH11148_cws_05, MATH11148_cws_04, MATH11148_cws_02, MATH11148_cws_01, MATH11148_cws_03',\n",
       " 'MATH11148_cws_10, MATH11148_cws_09, MATH11148_cws_06, MATH11148_cws_08, MATH11148_cws_07',\n",
       " 'MATH11206_ws_01',\n",
       " 'MATH11235_ws_01',\n",
       " 'MATH11153_ws_01',\n",
       " 'MATH11153_ws_02',\n",
       " 'MATH08074_ws_32, MATH08074_ws_35, MATH08074_ws_31, MATH08074_ws_28, MATH08074_ws_25, MATH08074_ws_37, MATH08074_ws_34, MATH08074_ws_36, MATH08074_ws_29, MATH08074_ws_30, MATH08074_ws_27, MATH08074_ws_26, MATH08074_ws_33',\n",
       " 'MATH08074_ws_12, MATH08074_ws_16, MATH08074_ws_10, MATH08074_ws_11, MATH08074_ws_09, MATH08074_ws_14, MATH08074_ws_15, MATH08074_ws_13',\n",
       " 'MATH08074_ws_21, MATH08074_ws_22, MATH08074_ws_18, MATH08074_ws_23, MATH08074_ws_17, MATH08074_ws_19, MATH08074_ws_20, MATH08074_ws_24',\n",
       " 'MATH08074_ws_05, MATH08074_ws_04, MATH08074_ws_02, MATH08074_ws_06, MATH08074_ws_07, MATH08074_ws_01, MATH08074_ws_08, MATH08074_ws_03',\n",
       " 'MATH08074_ws_38',\n",
       " 'MATH08075_ws_04',\n",
       " 'MATH08075_ws_02',\n",
       " 'MATH08075_ws_03',\n",
       " 'MATH08075_ws_01',\n",
       " 'MATH10099_ws_01',\n",
       " 'MATH10047_ws_01',\n",
       " 'MATH08068_ws_05, MATH08068_ws_04, MATH08068_ws_02, MATH08068_ws_08, MATH08068_ws_18, MATH08068_ws_01, MATH08068_ws_07, MATH08068_ws_06, MATH08068_ws_17, MATH08068_ws_03',\n",
       " 'MATH08068_ws_10, MATH08068_ws_14, MATH08068_ws_16, MATH08068_ws_11, MATH08068_ws_19, MATH08068_ws_12, MATH08068_ws_13, MATH08068_ws_09, MATH08068_ws_15',\n",
       " 'MATH10003_ws_02, MATH10003_ws_03, MATH10003_ws_05, MATH10003_ws_04, MATH10003_ws_01',\n",
       " 'MATH10003_ws_08, MATH10003_ws_10, MATH10003_ws_09, MATH10003_ws_06, MATH10003_ws_07',\n",
       " 'MATH10003_ws_14, MATH10003_ws_12, MATH10003_ws_11, MATH10003_ws_15, MATH10003_ws_13',\n",
       " 'MATH10051_ws_01',\n",
       " 'MATH07003_ws_01',\n",
       " 'MATH07003_ws_03, MATH07003_ws_02',\n",
       " 'MATH07003_ws_04, MATH07003_ws_05',\n",
       " 'MATH11111_ws_04, MATH11111_ws_01, MATH11111_ws_13, MATH11111_ws_02, MATH11111_ws_03',\n",
       " 'MATH11111_ws_14, MATH11111_ws_05, MATH11111_ws_08, MATH11111_ws_06, MATH11111_ws_07',\n",
       " 'MATH11111_ws_11, MATH11111_ws_10, MATH11111_ws_15, MATH11111_ws_12, MATH11111_ws_09',\n",
       " 'MATH11233_ws_01',\n",
       " 'MATH10080_ws_01',\n",
       " 'MATH10076_ws_01',\n",
       " 'MATH11187_ws_01, MATH11187_ws_05, MATH11187_ws_07, MATH11187_ws_04, MATH11187_ws_02, MATH11187_ws_06, MATH11187_ws_08, MATH11187_ws_10, MATH11187_ws_03, MATH11187_ws_09',\n",
       " 'MATH10074_ws_01, MATH10074_ws_02',\n",
       " 'MATH11138_ws_01',\n",
       " 'MATH10079_ws_01',\n",
       " 'MATH10069_ws_04, MATH10069_ws_05, MATH10069_ws_03, MATH10069_ws_06, MATH10069_ws_08, MATH10069_ws_07, MATH10069_ws_02, MATH10069_ws_01',\n",
       " 'MATH10069_ws_10, MATH10069_ws_09, MATH10069_ws_11, MATH10069_ws_15, MATH10069_ws_16, MATH10069_ws_14, MATH10069_ws_12, MATH10069_ws_13',\n",
       " 'MATH10069_cws_04, MATH10069_cws_03, MATH10069_cws_05, MATH10069_cws_01, MATH10069_cws_07, MATH10069_cws_02, MATH10069_cws_06, MATH10069_cws_08, MATH10069_cws_09',\n",
       " 'MATH10069_cws_12, MATH10069_cws_11, MATH10069_cws_13, MATH10069_cws_14, MATH10069_cws_16, MATH10069_cws_15, MATH10069_cws_10',\n",
       " 'MATH10069_ws_17',\n",
       " 'MATH10068_ws_01, MATH10068_ws_05, MATH10068_ws_02, MATH10068_ws_15, MATH10068_ws_04, MATH10068_ws_03',\n",
       " 'MATH10068_ws_06, MATH10068_ws_10, MATH10068_ws_11, MATH10068_ws_09, MATH10068_ws_12, MATH10068_ws_13, MATH10068_ws_07, MATH10068_ws_14, MATH10068_ws_08',\n",
       " 'MATH10068_ws_01, MATH10068_ws_06, MATH10068_ws_05, MATH10068_ws_10, MATH10068_ws_02, MATH10068_ws_09, MATH10068_ws_04, MATH10068_ws_03, MATH10068_ws_07, MATH10068_ws_08',\n",
       " 'MATH10068_ws_11, MATH10068_ws_15, MATH10068_ws_12, MATH10068_ws_13, MATH10068_ws_16, MATH10068_ws_14',\n",
       " 'MATH10067_ws_03, MATH10067_ws_10, MATH10067_ws_01, MATH10067_ws_04, MATH10067_ws_02, MATH10067_ws_09, MATH10067_ws_05, MATH10067_ws_07, MATH10067_ws_08, MATH10067_ws_06',\n",
       " 'MATH10067_ws_14, MATH10067_ws_18, MATH10067_ws_11, MATH10067_ws_12, MATH10067_ws_20, MATH10067_ws_17, MATH10067_ws_19, MATH10067_ws_16, MATH10067_ws_15, MATH10067_ws_13',\n",
       " 'MATH10067_ws_03, MATH10067_ws_06, MATH10067_ws_10, MATH10067_ws_01, MATH10067_ws_02, MATH10067_ws_09, MATH10067_ws_05, MATH10067_ws_07, MATH10067_ws_08, MATH10067_ws_04',\n",
       " 'MATH10066_cws_12, MATH10066_cws_18, MATH10066_cws_14, MATH10066_cws_20, MATH10066_cws_19, MATH10066_cws_21, MATH10066_cws_16, MATH10066_cws_13, MATH10066_cws_17, MATH10066_cws_22, MATH10066_cws_11, MATH10066_cws_15',\n",
       " 'MATH10066_ws_10, MATH10066_ws_01, MATH10066_ws_06',\n",
       " 'MATH10066_ws_18, MATH10066_ws_13',\n",
       " 'MATH10066_cws_07, MATH10066_cws_03, MATH10066_cws_02, MATH10066_cws_10, MATH10066_cws_09, MATH10066_cws_01, MATH10066_cws_08, MATH10066_cws_06, MATH10066_cws_04, MATH10066_cws_05',\n",
       " 'MATH10066_ws_20, MATH10066_ws_21, MATH10066_ws_17, MATH10066_ws_15, MATH10066_ws_14, MATH10066_ws_16, MATH10066_ws_19',\n",
       " 'MATH10066_ws_09, MATH10066_ws_08, MATH10066_ws_11, MATH10066_ws_05, MATH10066_ws_07, MATH10066_ws_12, MATH10066_ws_02, MATH10066_ws_03, MATH10066_ws_04',\n",
       " 'MATH11185_ws_02, MATH11185_ws_11, MATH11185_ws_03, MATH11185_ws_09, MATH11185_ws_08, MATH11185_ws_13, MATH11185_ws_04, MATH11185_ws_12, MATH11185_ws_05, MATH11185_ws_07, MATH11185_ws_01, MATH11185_ws_06, MATH11185_ws_10',\n",
       " 'MATH11231_ws_01',\n",
       " 'MATH11192_ws_01',\n",
       " 'MATH11145_ws_01',\n",
       " 'MATH08077_ws_37_reserve, MATH08077_ws_35, MATH08077_ws_33, MATH08077_ws_32, MATH08077_ws_39_reserve, MATH08077_ws_34, MATH08077_ws_40_reserve, MATH08077_ws_31, MATH08077_ws_38_reserve, MATH08077_ws_36_reserve',\n",
       " 'MATH08077_ws_02, MATH08077_ws_04, MATH08077_ws_07__reserve, MATH08077_ws_08__reserve, MATH08077_ws_09_reserve, MATH08077_ws_06_reserve, MATH08077_ws_03, MATH08077_ws_01, MATH08077_ws_10__reserve, MATH08077_ws_05',\n",
       " 'MATH08077_ws_14, MATH08077_ws_12, MATH08077_ws_15, MATH08077_ws_13, MATH08077_ws_19_reserve, MATH08077_ws_11, MATH08077_ws_20_reserve, MATH08077_ws_18_reserve, MATH08077_ws_17_reserve, MATH08077_ws_16_reserve',\n",
       " 'MATH08077_ws_30_reserve, MATH08077_ws_22, MATH08077_ws_27_reserve, MATH08077_ws_24, MATH08077_ws_28_reserve, MATH08077_ws_23, MATH08077_ws_26_reserve, MATH08077_ws_25, MATH08077_ws_21, MATH08077_ws_29_reserve',\n",
       " 'MATH11053_ws_01',\n",
       " 'MATH08057_ws_73, MATH08057_ws_54, MATH08057_ws_70, MATH08057_ws_51, MATH08057_ws_56_reserve, MATH08057_ws_52, MATH08057_ws_71, MATH08057_ws_50, MATH08057_ws_55, MATH08057_ws_72, MATH08057_ws_49, MATH08057_ws_53',\n",
       " 'MATH08057_ws_62, MATH08057_ws_61, MATH08057_ws_74, MATH08057_ws_64_reserve, MATH08057_ws_77, MATH08057_ws_59, MATH08057_ws_58, MATH08057_ws_57, MATH08057_ws_63, MATH08057_ws_76, MATH08057_ws_75, MATH08057_ws_60',\n",
       " 'MATH08057_ws_01, MATH08057_ws_03, MATH08057_ws_07, MATH08057_ws_02, MATH08057_ws_06, MATH08057_ws_04, MATH08057_ws_08',\n",
       " 'MATH08057_ws_15, MATH08057_ws_16, MATH08057_ws_13, MATH08057_ws_17, MATH08057_ws_09, MATH08057_ws_12, MATH08057_ws_11',\n",
       " 'MATH08057_ws_23, MATH08057_ws_27, MATH08057_ws_19, MATH08057_ws_29, MATH08057_ws_20, MATH08057_ws_22, MATH08057_ws_21, MATH08057_ws_24, MATH08057_ws_18, MATH08057_ws_25, MATH08057_ws_28, MATH08057_ws_26',\n",
       " 'MATH08057_ws_37, MATH08057_ws_42, MATH08057_ws_44, MATH08057_ws_39, MATH08057_ws_38, MATH08057_ws_43, MATH08057_ws_33, MATH08057_ws_36, MATH08057_ws_34, MATH08057_ws_41, MATH08057_ws_31, MATH08057_ws_32',\n",
       " 'MATH10071_ws_07, MATH10071_ws_10, MATH10071_ws_09, MATH10071_ws_03, MATH10071_ws_05, MATH10071_ws_06, MATH10071_ws_02, MATH10071_ws_08, MATH10071_ws_04, MATH10071_ws_01',\n",
       " 'MATH10100_ws_01',\n",
       " 'MATH11147_cws_02, MATH11147_cws_03, MATH11147_cws_01',\n",
       " 'MATH11147_cws_04, MATH11147_cws_05, MATH11147_cws_06',\n",
       " 'MATH11147_ws_02, MATH11147_ws_03, MATH11147_ws_01, MATH11147_ws_04',\n",
       " 'MATH11147_ws_06, MATH11147_ws_08, MATH11147_ws_07, MATH11147_ws_05',\n",
       " 'MATH10082_ws_01',\n",
       " 'MATH10073_cws_05, MATH10073_cws_02, MATH10073_cws_03, MATH10073_cws_07, MATH10073_cws_01, MATH10073_cws_06, MATH10073_cws_04',\n",
       " 'MATH10073_ws_01',\n",
       " 'MATH11205_ws_04, MATH11205_ws_06, MATH11205_ws_02, MATH11205_ws_07, MATH11205_ws_03, MATH11205_ws_01, MATH11205_ws_05',\n",
       " 'MATH11205_ws_08, MATH11205_ws_10, MATH11205_ws_13, MATH11205_ws_09, MATH11205_ws_12, MATH11205_ws_11',\n",
       " 'MATH11205_ws_01',\n",
       " 'MATH10013_ws_01',\n",
       " 'MATH10010_ws_01',\n",
       " 'MATH10010_ws_02',\n",
       " 'MATH10010_ws_03',\n",
       " 'MATH10010_ws_04',\n",
       " 'MATH08072_ws_12, MATH08072_ws_11, MATH08072_ws_04, MATH08072_ws_06, MATH08072_ws_01, MATH08072_ws_03, MATH08072_ws_02, MATH08072_ws_05, MATH08072_ws_07, MATH08072_ws_13, MATH08072_ws_08',\n",
       " 'MATH08072_ws_15, MATH08072_ws_16, MATH08072_ws_14',\n",
       " 'MATH08073_ws_01',\n",
       " 'MATH11181_ws_01',\n",
       " 'MATH11007_ws_03, MATH11007_ws_04, MATH11007_ws_01, MATH11007_ws_02',\n",
       " 'MATH11007_ws_05, MATH11007_ws_06, MATH11007_ws_08, MATH11007_ws_07',\n",
       " 'MATH10101_ws_04, MATH10101_ws_09, MATH10101_ws_05, MATH10101_ws_03, MATH10101_ws_07, MATH10101_ws_06, MATH10101_ws_08, MATH10101_ws_02, MATH10101_ws_01',\n",
       " 'MATH10064_ws_05, MATH10064_ws_06, MATH10064_ws_01, MATH10064_ws_03, MATH10064_ws_08, MATH10064_ws_09, MATH10064_ws_02, MATH10064_ws_04, MATH10064_ws_07',\n",
       " 'MATH10064_ws_olive_01',\n",
       " 'MATH10098_cws_04, MATH10098_cws_05, MATH10098_cws_01, MATH10098_cws_02, MATH10098_cws_03',\n",
       " 'MATH10098_cws_09, MATH10098_cws_08, MATH10098_cws_10, MATH10098_cws_06, MATH10098_cws_07',\n",
       " 'MATH10098_ws_01, MATH10098_ws_02, MATH10098_ws_03, MATH10098_ws_05, MATH10098_ws_04',\n",
       " 'MATH10098_ws_08, MATH10098_ws_06, MATH10098_ws_09, MATH10098_ws_07',\n",
       " 'MATH11240_ws_01',\n",
       " 'MATH10060_cws_08, MATH10060_cws_05, MATH10060_cws_06, MATH10060_cws_03, MATH10060_cws_09, MATH10060_cws_02, MATH10060_cws_01, MATH10060_cws_07, MATH10060_cws_04',\n",
       " 'MATH10060_cws_13, MATH10060_cws_11, MATH10060_cws_14, MATH10060_cws_10, MATH10060_cws_12',\n",
       " 'MATH10060_ws_08, MATH10060_ws_05, MATH10060_ws_01, MATH10060_ws_04, MATH10060_ws_09, MATH10060_ws_03, MATH10060_ws_06, MATH10060_ws_07, MATH10060_ws_02',\n",
       " 'MATH10060_ws_10, MATH10060_ws_11, MATH10060_ws_12, MATH10060_ws_13',\n",
       " 'MATH11207_cws_01',\n",
       " 'MATH11207_ws_01',\n",
       " 'MATH11193_ws_01',\n",
       " 'MATH11158_ws_01',\n",
       " 'MATH10024_ws_01',\n",
       " 'MATH08059_ws_02, MATH08059_ws_06, MATH08059_ws_05, MATH08059_ws_07, MATH08059_ws_03, MATH08059_ws_01, MATH08059_ws_04',\n",
       " 'MATH08059_ws_08, MATH08059_ws_17, MATH08059_ws_09, MATH08059_ws_11, MATH08059_ws_16, MATH08059_ws_12, MATH08059_ws_13, MATH08059_ws_14, MATH08059_ws_15, MATH08059_ws_10, MATH08059_ws_18, MATH08059_ws_19',\n",
       " 'MATH08059_ws_27, MATH08059_ws_31, MATH08059_ws_24, MATH08059_ws_21, MATH08059_ws_20, MATH08059_ws_29, MATH08059_ws_25, MATH08059_ws_28, MATH08059_ws_22, MATH08059_ws_30, MATH08059_ws_23, MATH08059_ws_26',\n",
       " 'MATH08059_ws_34, MATH08059_ws_33, MATH08059_ws_38, MATH08059_ws_36, MATH08059_ws_37, MATH08059_ws_35, MATH08059_ws_32',\n",
       " 'MATH11199_ws_07, MATH11199_ws_15, MATH11199_ws_14, MATH11199_ws_08, MATH11199_ws_09',\n",
       " 'MATH11199_ws_06, MATH11199_ws_04, MATH11199_ws_05, MATH11199_ws_13, MATH11199_ws_12',\n",
       " 'MATH11199_ws_02, MATH11199_ws_10, MATH11199_ws_03, MATH11199_ws_17, MATH11199_ws_16, MATH11199_ws_01, MATH11199_ws_11',\n",
       " 'MATH11197_ws_01',\n",
       " 'MATH11228_ws_01',\n",
       " 'MATH11190_ws_01',\n",
       " 'MATH11157_ws_01',\n",
       " 'MATH08063_ws_27, MATH08063_ws_20, MATH08063_ws_24, MATH08063_ws_22, MATH08063_ws_21, MATH08063_ws_32, MATH08063_ws_23, MATH08063_ws_28',\n",
       " 'MATH08063_ws_11, MATH08063_ws_04, MATH08063_ws_05, MATH08063_ws_01, MATH08063_ws_02, MATH08063_ws_07, MATH08063_ws_03, MATH08063_ws_06, MATH08063_ws_09, MATH08063_ws_13, MATH08063_ws_10, MATH08063_ws_08',\n",
       " 'MATH08063_ws_14, MATH08063_ws_17, MATH08063_ws_15, MATH08063_ws_16',\n",
       " 'MATH08063_ws_30, MATH08063_ws_29, MATH08063_ws_31',\n",
       " 'MATH11028_ws_03, MATH11028_ws_01, MATH11028_ws_02',\n",
       " 'MATH11028_ws_06, MATH11028_ws_05, MATH11028_ws_04, MATH11028_ws_07',\n",
       " 'MATH10093_cws_03, MATH10093_cws_01, MATH10093_cws_05, MATH10093_cws_10, MATH10093_cws_06, MATH10093_cws_02, MATH10093_cws_07, MATH10093_cws_12, MATH10093_cws_09, MATH10093_cws_11, MATH10093_cws_04, MATH10093_cws_08',\n",
       " 'MATH10095_ws_06, MATH10095_ws_07, MATH10095_ws_09, MATH10095_ws_04, MATH10095_ws_02, MATH10095_ws_03, MATH10095_ws_05, MATH10095_ws_01, MATH10095_ws_08',\n",
       " 'MATH10095_ws_12, MATH10095_ws_10, MATH10095_ws_11, MATH10095_ws_13',\n",
       " 'MATH10095_ws_16, MATH10095_ws_18, MATH10095_ws_14, MATH10095_ws_19, MATH10095_ws_15, MATH10095_ws_17',\n",
       " 'MATH10095_ws_23, MATH10095_ws_20, MATH10095_ws_21, MATH10095_ws_22',\n",
       " 'MATH11176_cws_03, MATH11176_cws_05, MATH11176_cws_04, MATH11176_cws_02, MATH11176_cws_01',\n",
       " 'MATH11176_cws_09, MATH11176_cws_06, MATH11176_cws_07, MATH11176_cws_08, MATH11176_cws_10',\n",
       " 'MATH11188_ws_07, MATH11188_ws_04, MATH11188_ws_06, MATH11188_ws_09, MATH11188_ws_03, MATH11188_ws_08, MATH11188_ws_05, MATH11188_ws_10, MATH11188_ws_02, MATH11188_ws_01',\n",
       " 'MATH11154_ws_01',\n",
       " 'MATH11154_ws_02',\n",
       " 'MATH11150_cws_01',\n",
       " 'MATH11029_ws_01, MATH11029_ws_02, MATH11029_ws_03, MATH11029_ws_04_reserve',\n",
       " 'MATH11029_ws_07, MATH11029_ws_08_reserve, MATH11029_ws_06, MATH11029_ws_05',\n",
       " 'MATH10007_ws_05, MATH10007_ws_03, MATH10007_ws_01, MATH10007_ws_02, MATH10007_ws_04',\n",
       " 'MATH10007_ws_07, MATH10007_ws_10, MATH10007_ws_08, MATH10007_ws_09, MATH10007_ws_06',\n",
       " 'MATH10007_ws_11, MATH10007_ws_12',\n",
       " 'MATH11238_ws_01',\n",
       " 'MATH10028_ws_01',\n",
       " 'MATH11131_ws_01, MATH11131_ws_04, MATH11131_ws_03, MATH11131_ws_02, MATH11131_ws_05',\n",
       " 'MATH11183_ws_01',\n",
       " 'MATH11227_ws_01',\n",
       " 'MATH11144_ws_01',\n",
       " 'MATH11179_ws_01']"
      ]
     },
     "execution_count": 333,
     "metadata": {},
     "output_type": "execute_result"
    }
   ],
   "source": [
    "list(timetable_copy[\"aggregated_ws_groups\"].unique())\n",
    "# testing = timetable_copy[[\"Teaching Week Pattern\", \"time_periods\", \"course_classtype\", \"ws_groups\", \"aggregated_ws_groups\"]]"
   ]
  },
  {
   "cell_type": "code",
   "execution_count": 334,
   "metadata": {},
   "outputs": [],
   "source": [
    "timetable_copy.to_excel(\"Processed Data/encoded_timetable_data.xlsx\", index = False)"
   ]
  }
 ],
 "metadata": {
  "kernelspec": {
   "display_name": "base",
   "language": "python",
   "name": "python3"
  },
  "language_info": {
   "codemirror_mode": {
    "name": "ipython",
    "version": 3
   },
   "file_extension": ".py",
   "mimetype": "text/x-python",
   "name": "python",
   "nbconvert_exporter": "python",
   "pygments_lexer": "ipython3",
   "version": "3.11.8"
  }
 },
 "nbformat": 4,
 "nbformat_minor": 2
}
