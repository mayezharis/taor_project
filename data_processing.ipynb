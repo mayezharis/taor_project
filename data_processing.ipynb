{
 "cells": [
  {
   "cell_type": "code",
   "execution_count": 1,
   "metadata": {},
   "outputs": [],
   "source": [
    "import numpy as np\n",
    "import pandas as pd\n",
    "import re"
   ]
  },
  {
   "cell_type": "code",
   "execution_count": 2,
   "metadata": {},
   "outputs": [],
   "source": [
    "student_data = pd.read_excel(\"Raw Data/Anon Enrollment Data.xlsx\")\n",
    "enrol_nums_data = pd.read_excel(\"Raw Data/Course Enrollment Numbers.xlsx\", sheet_name=\"Course Numbers\")\n",
    "enrol_nums_additional = pd.read_excel(\"Raw Data/Course Enrollment Numbers.xlsx\", sheet_name=\"abbreviated course names\")\n",
    "timetable_data = pd.read_excel(\"Raw Data/School of Mathematics - Timetable Data.xlsx\")\n",
    "room_data = pd.read_excel(\"Raw Data/Timetabling KB Rooms_5205_Central.xlsx\")"
   ]
  },
  {
   "cell_type": "code",
   "execution_count": 3,
   "metadata": {},
   "outputs": [],
   "source": [
    "unique_students = student_data[\"UUN\"].unique()\n",
    "unique_years = student_data[\"Year Of Programme\"].unique()\n",
    "unique_degrees = student_data[\"Programme Of Study Sought Title\"].unique()\n",
    "unique_schools = student_data[\"Programme School Name\"].unique()\n",
    "unique_years_taken = student_data[\"Normal Year Taken\"].unique()\n",
    "unique_course_codes = student_data['Course Code'].unique()\n",
    "unique_courses = student_data['Course Name'].unique()"
   ]
  },
  {
   "cell_type": "code",
   "execution_count": 4,
   "metadata": {},
   "outputs": [],
   "source": [
    "enrol_nums_cols = list(enrol_nums_data.columns)"
   ]
  },
  {
   "cell_type": "code",
   "execution_count": 5,
   "metadata": {},
   "outputs": [],
   "source": [
    "student_cols = list(student_data.columns)"
   ]
  },
  {
   "cell_type": "code",
   "execution_count": 6,
   "metadata": {},
   "outputs": [],
   "source": [
    "math_courses_only = student_data[student_data[\"Course Code\"].str.startswith(\"MATH\")]\n",
    "math_courses = math_courses_only[\"Course Name\"].unique()\n",
    "\n",
    "enrol_nums_courses = list(enrol_nums_data[\"Course\"])\n",
    "uncommon_maths_courses = [i for i in math_courses if i not in enrol_nums_courses]"
   ]
  },
  {
   "cell_type": "code",
   "execution_count": 7,
   "metadata": {},
   "outputs": [],
   "source": [
    "# uncommon_maths_courses"
   ]
  },
  {
   "cell_type": "code",
   "execution_count": 8,
   "metadata": {},
   "outputs": [],
   "source": [
    "with open('Keys/course_abbreviation_key.txt', 'r') as file:\n",
    "    # Read the entire contents of the file\n",
    "    abbr_key = file.read()\n",
    "file.close()\n",
    "\n",
    "abbr_key = abbr_key.split(\"\\n\")\n",
    "abbr_key = [i.strip() for i in abbr_key if i.strip()]"
   ]
  },
  {
   "cell_type": "code",
   "execution_count": 9,
   "metadata": {},
   "outputs": [],
   "source": [
    "enrol_nums_copy = enrol_nums_data.copy()"
   ]
  },
  {
   "cell_type": "code",
   "execution_count": 10,
   "metadata": {},
   "outputs": [],
   "source": [
    "abbr_map = {}\n",
    "for course in abbr_key:\n",
    "    abbreviation, description, code = course.split(' = ')\n",
    "    abbr_map[code] = abbreviation\n",
    "\n",
    "enrol_nums_copy[\"Abbreviated Course Name\"] = enrol_nums_copy[\"Code\"].map(abbr_map)"
   ]
  },
  {
   "cell_type": "code",
   "execution_count": 11,
   "metadata": {},
   "outputs": [
    {
     "data": {
      "text/plain": [
       "True"
      ]
     },
     "execution_count": 11,
     "metadata": {},
     "output_type": "execute_result"
    }
   ],
   "source": [
    "len(enrol_nums_copy[\"Abbreviated Course Name\"]) == len(enrol_nums_additional[\"Abbreviated Course Name\"])"
   ]
  },
  {
   "cell_type": "code",
   "execution_count": 12,
   "metadata": {},
   "outputs": [
    {
     "data": {
      "text/plain": [
       "True"
      ]
     },
     "execution_count": 12,
     "metadata": {},
     "output_type": "execute_result"
    }
   ],
   "source": [
    "enrol_nums_copy[\"Abbreviated Course Name\"].all() == enrol_nums_additional[\"Abbreviated Course Name\"].all()"
   ]
  },
  {
   "cell_type": "markdown",
   "metadata": {},
   "source": [
    "# Changing Room Data"
   ]
  },
  {
   "cell_type": "code",
   "execution_count": 13,
   "metadata": {},
   "outputs": [],
   "source": [
    "room_copy = room_data.copy()\n",
    "new_room_cols = [\"campus\", \"building\", \"room_name\", \"capacity\",\n",
    "                 \"ownership\", \"gt_or_ts\", \"school_priority\", \"room_layout\",\"furniture_config\",\n",
    "                 \"control_system\", \"desktop\", \"induction_system\", \"lec_recording\", \"microphone\", \"pres_facilities\", \n",
    "                 \"sound_system\", \"wall_mounted_writing\"]\n",
    "\n",
    "room_copy.columns = new_room_cols"
   ]
  },
  {
   "cell_type": "code",
   "execution_count": 14,
   "metadata": {},
   "outputs": [],
   "source": [
    "unique_campuses = room_copy[\"campus\"].unique()\n",
    "unique_buildings = room_copy[\"building\"].unique()\n",
    "unique_rooms = room_copy[\"room_name\"].unique()\n",
    "unique_ownership = room_copy[\"ownership\"].unique()"
   ]
  },
  {
   "cell_type": "code",
   "execution_count": 15,
   "metadata": {},
   "outputs": [],
   "source": [
    "room_copy[\"campus\"] = room_copy[\"campus\"].replace({\"King's Buildings Campus\":\"KB\", \n",
    "                                                   \"Central\":\"central\"})\n",
    "\n",
    "\n",
    "# building_replacements = {\"Alrick\":\"ALR\",\n",
    "#                          \"Ashworth\":\"ASH\",\n",
    "#                          \"Daniel Rutherford Building\":\"DRB\",\n",
    "#                          \"Eng Sanderson Building\":\"ESB\",\n",
    "#                          \"Grant Institute\":\"GRA\",\n",
    "#                          \"Hudson Beare Building\":\"HBB\",\n",
    "#                          \"Joseph Black Building\":\"JBB\",\n",
    "#                          \"JCMB\":\"JCMB\",\n",
    "#                          \"Murchison House\":\"MH\",\n",
    "#                          \"Nucleus\":\"NUC\",\n",
    "#                          \"Swann Building\":\"SB\",\n",
    "#                          \"Gordon Aikman Lecture Theatre\":\"GALT\",\n",
    "#                          \"Appleton Tower\":\"AT\",\n",
    "#                          \"40 George Square\":\"40GS\",\n",
    "#                          \"Chrystal MacMillan Building\":\"CMC\",\n",
    "#                          \"Old College\":\"OC\",\n",
    "#                          \"Lister Learning and Teaching Centre\":\"LLTC\",\n",
    "#                          \"Robson Building\":\"ROB\"}\n",
    "\n",
    "# room_copy[\"building\"] = room_copy[\"building\"].replace(building_replacements)\n",
    "\n",
    "\n",
    "allocation_replacements = {\"1. Centrally Allocated Space\":\"centrally_allocated\", \"1. Locally Allocated Space\": \"locally_allocated\"}\n",
    "room_copy[\"ownership\"] = room_copy[\"ownership\"].replace(allocation_replacements)\n",
    "\n",
    "\n",
    "gt_ts_replacements = {\"2. General Teaching\":\"GT\", \"2. Teaching Studio\":\"TS\"}\n",
    "room_copy[\"gt_or_ts\"] = room_copy[\"gt_or_ts\"].replace(gt_ts_replacements)\n",
    "room_copy.loc[room_copy[\"room_name\"].str.contains(\"Rowan\"), \"gt_or_ts\"] = \"TS\""
   ]
  },
  {
   "cell_type": "code",
   "execution_count": 16,
   "metadata": {},
   "outputs": [],
   "source": [
    "room_copy[\"school_priority\"] = room_copy[\"school_priority\"].str.split(\" - \").str[1]\n",
    "room_copy[\"room_layout\"] = room_copy[\"room_layout\"].str.split(\" - \").str[1]"
   ]
  },
  {
   "cell_type": "code",
   "execution_count": 17,
   "metadata": {},
   "outputs": [],
   "source": [
    "room_copy[\"school_priority\"] = room_copy[\"school_priority\"].fillna(\"no priority\")\n",
    "\n",
    "priority_replacements = {\"Engineering\":\"eng\",\n",
    "                         \"Biological\":\"bio\",\n",
    "                         \"Geosciences\":\"geo\",\n",
    "                         \"Chemistry\":\"chem\",\n",
    "                         \"Mathematics\":\"maths\",\n",
    "                         \"Physics and Astronomy\":\"phys\",\n",
    "                         \"Mathematics/ Physics and Astronomy\":\"maths_phys\"}\n",
    "room_copy[\"school_priority\"] = room_copy[\"school_priority\"].replace(priority_replacements)\n",
    "\n",
    "\n",
    "layout_replacements = {\"Classroom Style\":\"classroom\",\n",
    "                       \"Theatre Style\":\"theatre\",\n",
    "                       \"Boardroom Style\":\"boardroom\", \n",
    "                       \"Computer Lab Style\":\"comp_lab\"}\n",
    "room_copy[\"room_layout\"] = room_copy[\"room_layout\"].replace(layout_replacements)\n",
    "room_copy.loc[room_copy[\"room_name\"].str.contains(\"Teaching Studio\"), \"room_layout\"] = \"classroom\"\n",
    "room_copy.loc[room_copy[\"room_name\"].str.contains(\"Rowan\"), \"room_layout\"] = \"classroom\"\n",
    "room_copy.loc[room_copy[\"room_name\"].str.contains(\"JCMB_6301\"), \"room_layout\"] = \"classroom\""
   ]
  },
  {
   "cell_type": "code",
   "execution_count": 18,
   "metadata": {},
   "outputs": [],
   "source": [
    "room_copy[\"furniture_config\"] = room_copy[\"furniture_config\"].str.split(\"\\. \").str[1]"
   ]
  },
  {
   "cell_type": "code",
   "execution_count": 19,
   "metadata": {},
   "outputs": [],
   "source": [
    "furniture_replacements = {\"Tables and Chairs\":\"tables_chairs\",\n",
    "                          \"Flexible seating (not tables)\":\"flex_seating\",\n",
    "                          \"Retractable Seating\":\"retract_seating\"}\n",
    "room_copy[\"furniture_config\"] = room_copy[\"furniture_config\"].replace(furniture_replacements)"
   ]
  },
  {
   "cell_type": "code",
   "execution_count": 20,
   "metadata": {},
   "outputs": [
    {
     "data": {
      "text/plain": [
       "['tables_chairs', 'flex_seating', nan, 'retract_seating']"
      ]
     },
     "execution_count": 20,
     "metadata": {},
     "output_type": "execute_result"
    }
   ],
   "source": [
    "list(room_copy[\"furniture_config\"].unique())"
   ]
  },
  {
   "cell_type": "code",
   "execution_count": 21,
   "metadata": {},
   "outputs": [],
   "source": [
    "true_false_cols = [\"control_system\", \"desktop\", \"induction_system\", \"lec_recording\", \"microphone\", \"pres_facilities\", \"sound_system\", \"wall_mounted_writing\"]\n",
    "\n",
    "for col in true_false_cols:\n",
    "    room_copy[col] = room_copy[col].apply(lambda x: True if pd.notna(x) and x.strip() else False)"
   ]
  },
  {
   "cell_type": "code",
   "execution_count": 22,
   "metadata": {},
   "outputs": [],
   "source": [
    "dummy_enc_cols = []\n",
    "\n",
    "room_furniture_encoded = pd.get_dummies(room_copy[\"furniture_config\"], prefix=\"furniture\")\n",
    "room_layout_encoded = pd.get_dummies(room_copy[\"room_layout\"], prefix=\"layout\")\n",
    "gt_ts_encoded = pd.get_dummies(room_copy[\"gt_or_ts\"])\n",
    "ownership_encoded = pd.get_dummies(room_copy[\"ownership\"])\n",
    "priority_encoded = pd.get_dummies(room_copy[\"school_priority\"], prefix=\"priority\")\n",
    "\n",
    "\n",
    "room_copy = pd.concat([room_copy, room_furniture_encoded, room_layout_encoded, gt_ts_encoded, ownership_encoded, priority_encoded], axis=1)\n",
    "# to_drop = [\"furniture_config\", \"room_layout\", \"gt_or_ts\", \"ownership\", \"school_priority\"]\n",
    "# room_copy = room_copy.drop(to_drop, axis=1)"
   ]
  },
  {
   "cell_type": "code",
   "execution_count": 23,
   "metadata": {},
   "outputs": [],
   "source": [
    "encoded_room_data = room_copy\n",
    "\n",
    "encoded_room_data.to_excel(\"Processed Data/encoded_room_data.xlsx\", index=False)"
   ]
  },
  {
   "cell_type": "markdown",
   "metadata": {},
   "source": [
    "# Cleaning Timetabling Data"
   ]
  },
  {
   "cell_type": "code",
   "execution_count": 46,
   "metadata": {},
   "outputs": [
    {
     "data": {
      "text/plain": [
       "True"
      ]
     },
     "execution_count": 46,
     "metadata": {},
     "output_type": "execute_result"
    }
   ],
   "source": [
    "timetable_copy = timetable_data.copy()\n",
    "timetable_copy = timetable_data.rename(columns = {\"Course Name\":\"Course\", \n",
    "                                                  \"Course Code\":\"Code\",\n",
    "                                                  \"Allocated Location Name\": \"room_name\"})\n",
    "\n",
    "timetable_copy = pd.merge(timetable_copy, enrol_nums_additional[[\"Delivery Period\", \"Normal Year Taken\", \"Code\"]], on = \"Code\", how = \"left\")\n",
    "timetable_copy = pd.merge(timetable_copy, room_copy[[\"building\", \"room_name\"]], on = \"room_name\", how = \"left\")\n",
    "timetable_copy.shape[0] == timetable_data.shape[0]"
   ]
  },
  {
   "cell_type": "code",
   "execution_count": 47,
   "metadata": {},
   "outputs": [],
   "source": [
    "day_key = {}\n",
    "with open(\"Keys/day_key.txt\") as file:\n",
    "    for line in file:\n",
    "        (day, val) = line.split(\" = \")\n",
    "        day_key[str(day)] = int(val)\n",
    "   \n",
    "timetable_copy[\"encoded_days\"] = timetable_copy[\"Scheduled Days\"].map(day_key)\n",
    "# timetable_copy = timetable_copy.infer_objects(copy=False) # this just removes a weird future warning"
   ]
  },
  {
   "cell_type": "code",
   "execution_count": 49,
   "metadata": {},
   "outputs": [
    {
     "data": {
      "text/plain": [
       "Index(['Course', 'Code', 'Linked Course', 'Activity', 'Activity Type Name',\n",
       "       'Planned Size', 'Real Size', 'Delivery Semester',\n",
       "       'Teaching Week Pattern', 'Number Of Teaching Weeks', 'Scheduled Days',\n",
       "       'Scheduled Start Time', 'Scheduled End Time', 'Duration', 'Total Hours',\n",
       "       'Zone Name', 'room_name', 'Delivery Period', 'Normal Year Taken',\n",
       "       'building', 'encoded_days'],\n",
       "      dtype='object')"
      ]
     },
     "execution_count": 49,
     "metadata": {},
     "output_type": "execute_result"
    }
   ],
   "source": [
    "timetable_copy.columns"
   ]
  },
  {
   "cell_type": "code",
   "execution_count": 50,
   "metadata": {},
   "outputs": [],
   "source": [
    "uncommon_rooms = list(timetable_copy[timetable_copy[\"building\"].isnull()][\"room_name\"].unique())"
   ]
  },
  {
   "cell_type": "code",
   "execution_count": 51,
   "metadata": {},
   "outputs": [],
   "source": [
    "timetable_copy[\"Abbreviated Course Name\"] = timetable_copy[\"Code\"].map(abbr_map)\n",
    "\n",
    "def split_on_star(entry):\n",
    "    if isinstance(entry, str) and '*' in entry:\n",
    "        return entry.split('*')[1]\n",
    "    else:\n",
    "        return entry\n",
    "\n",
    "cols_w_star = [\"Activity Type Name\", \"Delivery Semester\", \"Zone Name\"]\n",
    "\n",
    "for col in cols_w_star:\n",
    "    timetable_copy[col] = timetable_copy[col].apply(split_on_star)"
   ]
  },
  {
   "cell_type": "code",
   "execution_count": 52,
   "metadata": {},
   "outputs": [],
   "source": [
    "def num_list(entry):\n",
    "    numbers = []\n",
    "    for part in entry.split(','):\n",
    "        if '-' in part:\n",
    "            start, end = map(int, part.split('-'))\n",
    "            numbers.extend(range(start, end + 1))\n",
    "        else:\n",
    "            numbers.append(int(part))\n",
    "    return numbers\n",
    "\n",
    "timetable_copy[\"Teaching Week Pattern\"] = timetable_copy[\"Teaching Week Pattern\"].apply(num_list)\n",
    "\n",
    "\n",
    "week_key = {}\n",
    "with open(\"Keys/week_codes.txt\", 'r', encoding='utf-8') as file:\n",
    "    for line in file:\n",
    "        line = line.replace('\\u2060', '')\n",
    "        \n",
    "        line = line.strip()\n",
    "        if line:\n",
    "            key_part = line.split('=')\n",
    "            key_part[0] = int(key_part[0].strip())\n",
    "            week_key[key_part[0]] = key_part[1].strip()\n",
    "\n",
    "def convert_to_strings(numbers):\n",
    "    return [week_key[number] for number in numbers]\n",
    "\n",
    "timetable_copy[\"Teaching Week Pattern\"] = timetable_copy[\"Teaching Week Pattern\"].apply(convert_to_strings)\n",
    "timetable_copy[\"Teaching Week Pattern\"] = timetable_copy[\"Teaching Week Pattern\"].apply(lambda x: \", \".join(x))"
   ]
  },
  {
   "cell_type": "code",
   "execution_count": 53,
   "metadata": {},
   "outputs": [],
   "source": [
    "time_periods = {}\n",
    "with open('Keys/time_periods.txt', 'r') as file:\n",
    "    for line in file:\n",
    "        period, times = line.strip().split('=')\n",
    "        start, end = times[1:].split(', ')\n",
    "        time_periods[int(period.strip())] = [start.strip(\"[\"), end.strip(\"]\")]\n",
    "# time_periods"
   ]
  },
  {
   "cell_type": "code",
   "execution_count": 54,
   "metadata": {},
   "outputs": [],
   "source": [
    "def get_time_periods(start, end):\n",
    "    encompassed_periods = []\n",
    "    for period, (period_start, period_end) in time_periods.items():\n",
    "        start_hour, start_minute = map(int, period_start.split(':'))\n",
    "        end_hour, end_minute = map(int, period_end.split(':'))\n",
    "        \n",
    "        class_start_hour, class_start_minute = map(int, start.split(':'))\n",
    "        class_end_hour, class_end_minute = map(int, end.split(':'))\n",
    "        \n",
    "        # Compare hours and minutes\n",
    "        if (class_start_hour == start_hour and class_start_minute == start_minute) and (class_end_hour == end_hour and class_end_minute == end_minute):\n",
    "            encompassed_periods.append(period)\n",
    "        elif (class_start_hour < end_hour or (class_start_hour == end_hour and class_start_minute < end_minute)) and \\\n",
    "           (class_end_hour > start_hour or (class_end_hour == start_hour and class_end_minute > start_minute)):\n",
    "            encompassed_periods.append(period)\n",
    "    return encompassed_periods\n",
    "\n",
    "# Apply function to each row and create new column\n",
    "timetable_copy['time_periods'] = timetable_copy.apply(lambda x: get_time_periods(x['Scheduled Start Time'], x['Scheduled End Time']), axis=1)\n",
    "timetable_copy[\"time_periods\"] = timetable_copy[\"time_periods\"].apply(lambda x: \", \".join(map(str,x)))"
   ]
  },
  {
   "cell_type": "code",
   "execution_count": 55,
   "metadata": {},
   "outputs": [],
   "source": [
    "hm_duration = [map(int, time.split(':')) for time in timetable_copy[\"Duration\"]]\n",
    "nhours_duration = [(h + m / 60) for h, m in hm_duration]\n",
    "timetable_copy[\"duration_hours\"] = nhours_duration\n",
    "\n",
    "hm_total = [map(int, time.split(':')) for time in timetable_copy[\"Total Hours\"]]\n",
    "nhours_total = [(h + m / 60) for h, m in hm_total]\n",
    "timetable_copy[\"total_duration_hours\"] = nhours_total"
   ]
  },
  {
   "cell_type": "code",
   "execution_count": 56,
   "metadata": {},
   "outputs": [],
   "source": [
    "class_type_map = {}\n",
    "with open(\"Keys/class_type_key.txt\", \"r\") as file:\n",
    "    for line in file:\n",
    "        type_orig, type_abbr = line.split(\" = \")\n",
    "        class_type_map[type_orig] = type_abbr.strip()\n",
    "\n",
    "timetable_copy[\"course_classtype\"] = timetable_copy[\"Code\"] + \"_\" + timetable_copy[\"Activity Type Name\"].map(class_type_map)"
   ]
  },
  {
   "cell_type": "code",
   "execution_count": 57,
   "metadata": {},
   "outputs": [],
   "source": [
    "def clean_ws_names(class_info):\n",
    "    if \"<\" in class_info and \">\" in class_info:\n",
    "        return class_info.split(\"<\")[0]\n",
    "    else: \n",
    "        return class_info\n",
    "    \n",
    "timetable_copy[\"Activity\"] = timetable_copy [\"Activity\"].apply(clean_ws_names)\n",
    "\n",
    "def extract_ws_group(class_info):\n",
    "    if \"Workshop\" in class_info and \"/\" in class_info:\n",
    "        return class_info.split(\"/\")[-1].strip()\n",
    "    elif \"Workshop\" in class_info and class_info.split(\" - \")[-1].strip() == \"Workshop\":\n",
    "        return \"00\"\n",
    "    elif \"Workshop\" in class_info:\n",
    "        return \"00\"\n",
    "    else:\n",
    "        return np.nan\n",
    "    \n",
    "def clean_brackets(group):\n",
    "    if \"(reserve)\" in str(group) or \"(reserved)\" in str(group):\n",
    "        group = group.replace(\"(\", \"\").replace(\")\", \"\").replace(\"d\", \"\")\n",
    "        group = group.replace(\" \", \"_\")\n",
    "        return group\n",
    "    else:\n",
    "        return group\n",
    "    \n",
    "timetable_copy[\"ws_groups\"] = timetable_copy[\"course_classtype\"] + \"_\" + timetable_copy[\"Activity\"].apply(extract_ws_group)\n",
    "timetable_copy[\"ws_groups\"] = timetable_copy[\"ws_groups\"].apply(clean_brackets)"
   ]
  },
  {
   "cell_type": "code",
   "execution_count": 58,
   "metadata": {},
   "outputs": [],
   "source": [
    "unique_classes = timetable_copy.groupby([\"Teaching Week Pattern\", \n",
    "                                         \"Scheduled Days\", \n",
    "                                         \"time_periods\", \n",
    "                                         \"course_classtype\"]).size().reset_index()\n",
    "\n",
    "# Custom function to aggregate ws_groups for each unique combination\n",
    "def aggregate_ws_groups(combination):\n",
    "    # Filter the DataFrame based on the current combination of columns\n",
    "    filtered_df = timetable_copy[\n",
    "        (timetable_copy[\"Teaching Week Pattern\"] == combination[\"Teaching Week Pattern\"]) &\n",
    "        (timetable_copy[\"Scheduled Days\"] == combination[\"Scheduled Days\"]) &\n",
    "        (timetable_copy[\"time_periods\"] == combination[\"time_periods\"]) &\n",
    "        (timetable_copy[\"course_classtype\"] == combination[\"course_classtype\"])\n",
    "    ]\n",
    "    # Aggregate ws_groups for the filtered DataFrame\n",
    "    aggregated_ws_groups = set(filtered_df[\"ws_groups\"])\n",
    "    return aggregated_ws_groups\n",
    "\n",
    "# Apply the custom function to each unique combination\n",
    "unique_classes[\"aggregated_ws_groups\"] = unique_classes.apply(aggregate_ws_groups, axis=1)\n",
    "\n",
    "\n",
    "timetable_copy = pd.merge(timetable_copy, unique_classes, on=['Teaching Week Pattern', \n",
    "                                                              'Scheduled Days', \n",
    "                                                              'time_periods', \n",
    "                                                              'course_classtype'], how='left')\n",
    "\n",
    "def update_ws_groups(row):\n",
    "    aggregated_ws_groups = row['aggregated_ws_groups']\n",
    "    \n",
    "    if pd.isna(aggregated_ws_groups):\n",
    "        aggregated_ws_groups = np.nan\n",
    "    else:\n",
    "        aggregated_ws_groups = [aggregated_ws_groups]\n",
    "    \n",
    "    return aggregated_ws_groups\n",
    "\n",
    "timetable_copy['aggregated_ws_groups'] = timetable_copy.apply(update_ws_groups, axis=1)\n",
    "timetable_copy[\"aggregated_ws_groups\"] = timetable_copy[\"aggregated_ws_groups\"].apply(lambda x: \", \".join(map(str,x)))"
   ]
  },
  {
   "cell_type": "code",
   "execution_count": 59,
   "metadata": {},
   "outputs": [],
   "source": [
    "def extract_elements(text):\n",
    "    return re.findall(r\"'([^']*)'\", text)\n",
    "\n",
    "# Apply the function to the column\n",
    "timetable_copy['aggregated_ws_groups'] = timetable_copy['aggregated_ws_groups'].apply(extract_elements)\n",
    "timetable_copy[\"aggregated_ws_groups\"] = timetable_copy[\"aggregated_ws_groups\"].apply(lambda x: \", \".join(map(str,x)))\n",
    "\n",
    "timetable_copy[\"aggregated_ws_groups\"] = timetable_copy[\"aggregated_ws_groups\"].mask(timetable_copy[\"aggregated_ws_groups\"] == '', np.nan)\n",
    "\n",
    "\n",
    "timetable_copy.rename(columns = {0 : \"no_of_agg_ws_groups\"}, inplace=True)"
   ]
  },
  {
   "cell_type": "code",
   "execution_count": 60,
   "metadata": {},
   "outputs": [
    {
     "data": {
      "text/plain": [
       "{'MATH08074',\n",
       " 'MATH10010',\n",
       " 'MATH10024',\n",
       " 'MATH10067',\n",
       " 'MATH10068',\n",
       " 'MATH10079',\n",
       " 'MATH10099',\n",
       " 'MATH11148',\n",
       " 'MATH11197'}"
      ]
     },
     "execution_count": 60,
     "metadata": {},
     "output_type": "execute_result"
    }
   ],
   "source": [
    "cleaned_wsg_agg = timetable_copy[\"ws_groups\"].dropna()\n",
    "\n",
    "wsg_agg_dups = list(cleaned_wsg_agg[cleaned_wsg_agg.duplicated(keep=False)])\n",
    "\n",
    "set([wsg_agg_dups[i][:9] for i in range(len(wsg_agg_dups))])"
   ]
  },
  {
   "cell_type": "markdown",
   "metadata": {},
   "source": [
    "### Need to use the `Teaching Week Pattern` column to add in data for the `Delivery Semester` column."
   ]
  },
  {
   "cell_type": "code",
   "execution_count": 61,
   "metadata": {},
   "outputs": [],
   "source": [
    "unique_patterns = list(timetable_copy[\"Teaching Week Pattern\"].unique())\n",
    "\n",
    "sem1_class_patterns = [pattern for pattern in unique_patterns if \"s1\" in str(pattern)]\n",
    "sem2_class_patterns = [pattern for pattern in unique_patterns if \"s2\" in str(pattern)]"
   ]
  },
  {
   "cell_type": "code",
   "execution_count": 62,
   "metadata": {},
   "outputs": [],
   "source": [
    "# sorted(unique_patterns, key=len)"
   ]
  },
  {
   "cell_type": "code",
   "execution_count": 63,
   "metadata": {},
   "outputs": [],
   "source": [
    "# sorted(sem2_class_patterns, key = len)"
   ]
  },
  {
   "cell_type": "code",
   "execution_count": 64,
   "metadata": {},
   "outputs": [],
   "source": [
    "# Function to extract unique elements from all lists in the column\n",
    "def extract_unique_elements(lst):\n",
    "    unique_elements = set()\n",
    "    for item in lst:\n",
    "        unique_elements.update(item.split(', '))\n",
    "\n",
    "    def sort_week(week):\n",
    "        if \"s1w\" in str(week):\n",
    "            numeric_part = int(week.split(\"s1w\")[1])\n",
    "        elif \"s2w\" in str(week):\n",
    "            numeric_part = int(week.split(\"s2w\")[1])\n",
    "        else:\n",
    "            return np.nan\n",
    "        return numeric_part\n",
    "    \n",
    "    # Sort the unique elements based on the custom sorting function\n",
    "    sorted_unique_elements = sorted(list(unique_elements), key=sort_week)\n",
    "    return sorted_unique_elements\n",
    "\n",
    "# Extract unique elements from all lists in the column\n",
    "unique_elements_sem1 = extract_unique_elements(sem1_class_patterns)\n",
    "unique_elements_sem2 = extract_unique_elements(sem2_class_patterns)\n",
    "\n",
    "# Function to generate 0's and 1's list based on the presence of elements\n",
    "def generate_binary_list(lst, unique_elements):\n",
    "    binary_list = []\n",
    "    for element in unique_elements:\n",
    "        if element in lst:\n",
    "            binary_list.append(1)\n",
    "        else:\n",
    "            binary_list.append(0)\n",
    "    return binary_list\n",
    "\n",
    "# Apply the function to each row in the column to create the new column\n",
    "timetable_copy[\"sem1_pattern_one_hot\"] = timetable_copy[\"Teaching Week Pattern\"].apply(lambda x: generate_binary_list(x.split(\", \"), unique_elements_sem1))\n",
    "timetable_copy[\"sem1_pattern_one_hot\"] = timetable_copy[\"sem1_pattern_one_hot\"].apply(lambda x: \", \".join(map(str,x)))\n",
    "\n",
    "timetable_copy[\"sem2_pattern_one_hot\"] = timetable_copy[\"Teaching Week Pattern\"].apply(lambda x: generate_binary_list(x.split(\", \"), unique_elements_sem2))\n",
    "timetable_copy[\"sem2_pattern_one_hot\"] = timetable_copy[\"sem2_pattern_one_hot\"].apply(lambda x: \", \".join(map(str,x)))"
   ]
  },
  {
   "cell_type": "code",
   "execution_count": 65,
   "metadata": {},
   "outputs": [],
   "source": [
    "timetable_copy[\"room_name\"] = timetable_copy[\"room_name\"].str.split(',')\n",
    "timetable_copy = timetable_copy.explode(\"room_name\")\n",
    "timetable_copy.reset_index(drop=True, inplace=True)"
   ]
  },
  {
   "cell_type": "code",
   "execution_count": 66,
   "metadata": {},
   "outputs": [],
   "source": [
    "timetable_copy.loc[(timetable_copy['Code'] == 'MATH10069') & (timetable_copy['Activity'].str.contains('Skills Computer Workshop')), 'Activity Type Name'] = 'Workshop'"
   ]
  },
  {
   "cell_type": "code",
   "execution_count": 67,
   "metadata": {},
   "outputs": [],
   "source": [
    "timetable_copy.to_excel(\"Processed Data/encoded_timetable_data.xlsx\", index = False)"
   ]
  },
  {
   "cell_type": "markdown",
   "metadata": {},
   "source": [
    "# Testing"
   ]
  },
  {
   "cell_type": "code",
   "execution_count": 68,
   "metadata": {},
   "outputs": [
    {
     "data": {
      "text/plain": [
       "['Course',\n",
       " 'Code',\n",
       " 'Linked Course',\n",
       " 'Activity',\n",
       " 'Activity Type Name',\n",
       " 'Planned Size',\n",
       " 'Real Size',\n",
       " 'Delivery Semester',\n",
       " 'Teaching Week Pattern',\n",
       " 'Number Of Teaching Weeks',\n",
       " 'Scheduled Days',\n",
       " 'Scheduled Start Time',\n",
       " 'Scheduled End Time',\n",
       " 'Duration',\n",
       " 'Total Hours',\n",
       " 'Zone Name',\n",
       " 'room_name',\n",
       " 'Delivery Period',\n",
       " 'Normal Year Taken',\n",
       " 'building',\n",
       " 'encoded_days',\n",
       " 'Abbreviated Course Name',\n",
       " 'time_periods',\n",
       " 'duration_hours',\n",
       " 'total_duration_hours',\n",
       " 'course_classtype',\n",
       " 'ws_groups',\n",
       " 'no_of_agg_ws_groups',\n",
       " 'aggregated_ws_groups',\n",
       " 'sem1_pattern_one_hot',\n",
       " 'sem2_pattern_one_hot']"
      ]
     },
     "execution_count": 68,
     "metadata": {},
     "output_type": "execute_result"
    }
   ],
   "source": [
    "list(timetable_copy.columns)"
   ]
  }
 ],
 "metadata": {
  "kernelspec": {
   "display_name": "base",
   "language": "python",
   "name": "python3"
  },
  "language_info": {
   "codemirror_mode": {
    "name": "ipython",
    "version": 3
   },
   "file_extension": ".py",
   "mimetype": "text/x-python",
   "name": "python",
   "nbconvert_exporter": "python",
   "pygments_lexer": "ipython3",
   "version": "3.11.8"
  }
 },
 "nbformat": 4,
 "nbformat_minor": 2
}
