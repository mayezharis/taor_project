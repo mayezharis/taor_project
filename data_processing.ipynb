{
 "cells": [
  {
   "cell_type": "code",
   "execution_count": 10,
   "metadata": {},
   "outputs": [],
   "source": [
    "import numpy as np\n",
    "import pandas as pd"
   ]
  },
  {
   "cell_type": "code",
   "execution_count": 77,
   "metadata": {},
   "outputs": [],
   "source": [
    "student_data = pd.read_excel(\"Raw Data/Anon Enrollment Data.xlsx\")\n",
    "enrol_nums_data = pd.read_excel(\"Raw Data/Course Enrollment Numbers.xlsx\", sheet_name=\"Course Numbers\")\n",
    "enrol_nums_additional = pd.read_excel(\"Raw Data/Course Enrollment Numbers.xlsx\", sheet_name=\"abbreviated course names\")\n",
    "timetable_data = pd.read_excel(\"Raw Data/School of Mathematics - Timetable Data.xlsx\")\n",
    "room_data = pd.read_excel(\"Raw Data/Timetabling KB Rooms_5205.xlsx\")"
   ]
  },
  {
   "cell_type": "code",
   "execution_count": 12,
   "metadata": {},
   "outputs": [],
   "source": [
    "unique_students = student_data[\"UUN\"].unique()\n",
    "unique_years = student_data[\"Year Of Programme\"].unique()\n",
    "unique_degrees = student_data[\"Programme Of Study Sought Title\"].unique()\n",
    "unique_schools = student_data[\"Programme School Name\"].unique()\n",
    "unique_years_taken = student_data[\"Normal Year Taken\"].unique()\n",
    "unique_course_codes = student_data['Course Code'].unique()\n",
    "unique_courses = student_data['Course Name'].unique()"
   ]
  },
  {
   "cell_type": "code",
   "execution_count": 13,
   "metadata": {},
   "outputs": [],
   "source": [
    "enrol_nums_cols = list(enrol_nums_data.columns)"
   ]
  },
  {
   "cell_type": "code",
   "execution_count": 14,
   "metadata": {},
   "outputs": [],
   "source": [
    "student_cols = list(student_data.columns)"
   ]
  },
  {
   "cell_type": "code",
   "execution_count": 15,
   "metadata": {},
   "outputs": [],
   "source": [
    "math_courses_only = student_data[student_data[\"Course Code\"].str.startswith(\"MATH\")]\n",
    "math_courses = math_courses_only[\"Course Name\"].unique()\n",
    "\n",
    "enrol_nums_courses = list(enrol_nums_data[\"Course\"])\n",
    "uncommon_maths_courses = [i for i in math_courses if i not in enrol_nums_courses]"
   ]
  },
  {
   "cell_type": "code",
   "execution_count": 16,
   "metadata": {},
   "outputs": [
    {
     "data": {
      "text/plain": [
       "['Dissertation (CAM)',\n",
       " 'Dissertation (CMF)',\n",
       " 'Dissertation (FMO)',\n",
       " 'Dissertation (Op. Res.)',\n",
       " 'Dissertation (SDS)',\n",
       " 'Dissertation (Statistics)',\n",
       " 'Dissertation (Stats. Op. Res.)',\n",
       " 'Mathematics Dissertation',\n",
       " 'Mathematics Project',\n",
       " 'Mathematics Reading Course - S1',\n",
       " 'Mathematics Reading Course - S2',\n",
       " 'MIGS: Advanced Course 1',\n",
       " 'MIGS: Asymptotic and Analytical Methods',\n",
       " 'MIGS: Computational Methods for Data Driven Modelling',\n",
       " 'MIGS: Continuum Mechanics',\n",
       " 'MIGS: Dynamical Systems and Conservation Laws',\n",
       " 'MIGS: Elliptic and Parabolic PDEs',\n",
       " 'MIGS: Extended Project',\n",
       " 'MIGS: Foundations of Probability',\n",
       " 'MIGS: Functional Analysis',\n",
       " 'MIGS: Mathematical Modelling and Applied Analysis',\n",
       " 'MIGS: Measure and Integration',\n",
       " 'MIGS: Modern Regression and Bayesian Methods',\n",
       " 'MIGS: Numerical Methods',\n",
       " 'MIGS: Project 1',\n",
       " 'MIGS: Project 2',\n",
       " 'MIGS: Regression and Simulation Methods',\n",
       " 'MIGS: Stochastic Processes',\n",
       " 'Project in Mathematics (Double)']"
      ]
     },
     "execution_count": 16,
     "metadata": {},
     "output_type": "execute_result"
    }
   ],
   "source": [
    "uncommon_maths_courses"
   ]
  },
  {
   "cell_type": "code",
   "execution_count": 17,
   "metadata": {},
   "outputs": [],
   "source": [
    "with open('course_abbreviation_key.txt', 'r') as file:\n",
    "    # Read the entire contents of the file\n",
    "    abbr_key = file.read()\n",
    "file.close()\n",
    "\n",
    "abbr_key = abbr_key.split(\"\\n\")\n",
    "abbr_key = [i.strip() for i in abbr_key if i.strip()]"
   ]
  },
  {
   "cell_type": "code",
   "execution_count": 18,
   "metadata": {},
   "outputs": [],
   "source": [
    "enrol_nums_copy = enrol_nums_data.copy()"
   ]
  },
  {
   "cell_type": "code",
   "execution_count": 19,
   "metadata": {},
   "outputs": [],
   "source": [
    "abbr_map = {}\n",
    "for course in abbr_key:\n",
    "    abbreviation, description, code = course.split(' = ')\n",
    "    abbr_map[code] = abbreviation\n",
    "\n",
    "enrol_nums_copy[\"Abbreviated Course Name\"] = enrol_nums_copy[\"Code\"].map(abbr_map)"
   ]
  },
  {
   "cell_type": "code",
   "execution_count": 20,
   "metadata": {},
   "outputs": [
    {
     "data": {
      "text/plain": [
       "True"
      ]
     },
     "execution_count": 20,
     "metadata": {},
     "output_type": "execute_result"
    }
   ],
   "source": [
    "len(enrol_nums_copy[\"Abbreviated Course Name\"]) == len(enrol_nums_additional[\"Abbreviated Course Name\"])"
   ]
  },
  {
   "cell_type": "code",
   "execution_count": 21,
   "metadata": {},
   "outputs": [
    {
     "data": {
      "text/plain": [
       "True"
      ]
     },
     "execution_count": 21,
     "metadata": {},
     "output_type": "execute_result"
    }
   ],
   "source": [
    "enrol_nums_copy[\"Abbreviated Course Name\"].all() == enrol_nums_additional[\"Abbreviated Course Name\"].all()"
   ]
  },
  {
   "cell_type": "markdown",
   "metadata": {},
   "source": [
    "# Changing Room Data"
   ]
  },
  {
   "cell_type": "code",
   "execution_count": 22,
   "metadata": {},
   "outputs": [],
   "source": [
    "room_copy = room_data.copy()\n",
    "new_room_cols = [\"campus\", \"building\", \"room_name\", \"capacity\",\n",
    "                 \"ownership\", \"gt_or_ts\", \"school_priority\", \"room_layout\",\"furniture_config\",\n",
    "                 \"control_system\", \"desktop\", \"induction_system\", \"lec_recording\", \"microphone\", \"pres_facilities\", \n",
    "                 \"sound_system\", \"wall_mounted_writing\"]\n",
    "\n",
    "room_copy.columns = new_room_cols"
   ]
  },
  {
   "cell_type": "code",
   "execution_count": 23,
   "metadata": {},
   "outputs": [],
   "source": [
    "unique_campuses = room_copy[\"campus\"].unique()\n",
    "unique_buildings = room_copy[\"building\"].unique()\n",
    "unique_rooms = room_copy[\"room_name\"].unique()\n",
    "unique_ownership = room_copy[\"ownership\"].unique()"
   ]
  },
  {
   "cell_type": "code",
   "execution_count": 24,
   "metadata": {},
   "outputs": [],
   "source": [
    "if len(unique_campuses)==1:\n",
    "    if unique_campuses.all() == \"King's Buildings Campus\":\n",
    "        room_copy[\"campus\"] = room_copy[\"campus\"].replace(\"King's Buildings Campus\", \"KB\")\n",
    "else:\n",
    "    print(\"There is more than one campus in the dataset.\")\n",
    "\n",
    "\n",
    "building_replacements = {\"Alrick\":\"ALR\",\n",
    "                         \"Ashworth\":\"ASH\",\n",
    "                         \"Daniel Rutherford Building\":\"DRB\",\n",
    "                         \"Eng Sanderson Building\":\"ESB\",\n",
    "                         \"Grant Institute\":\"GRA\",\n",
    "                         \"Hudson Beare Building\":\"HBB\",\n",
    "                         \"Joseph Black Building\":\"JBB\",\n",
    "                         \"JCMB\":\"JCMB\",\n",
    "                         \"Murchison House\":\"MH\",\n",
    "                         \"Nucleus\":\"NUC\",\n",
    "                         \"Swann Building\":\"SB\"}\n",
    "\n",
    "room_copy[\"building\"] = room_copy[\"building\"].replace(building_replacements)\n",
    "\n",
    "\n",
    "allocation_replacements = {\"1. Centrally Allocated Space\":\"centrally_allocated\", \"1. Locally Allocated Space\": \"locally_allocated\"}\n",
    "room_copy[\"ownership\"] = room_copy[\"ownership\"].replace(allocation_replacements)\n",
    "\n",
    "\n",
    "gt_ts_replacements = {\"2. General Teaching\":\"GT\", \"2. Teaching Studio\":\"TS\"}\n",
    "room_copy[\"gt_or_ts\"] = room_copy[\"gt_or_ts\"].replace(gt_ts_replacements)"
   ]
  },
  {
   "cell_type": "code",
   "execution_count": 25,
   "metadata": {},
   "outputs": [],
   "source": [
    "room_copy[\"school_priority\"] = room_copy[\"school_priority\"].str.split(\" - \").str[1]\n",
    "room_copy[\"room_layout\"] = room_copy[\"room_layout\"].str.split(\" - \").str[1]"
   ]
  },
  {
   "cell_type": "code",
   "execution_count": 26,
   "metadata": {},
   "outputs": [],
   "source": [
    "room_copy[\"school_priority\"] = room_copy[\"school_priority\"].fillna(\"no priority\")\n",
    "\n",
    "priority_replacements = {\"Engineering\":\"eng\",\n",
    "                         \"Biological\":\"bio\",\n",
    "                         \"Geosciences\":\"geo\",\n",
    "                         \"Chemistry\":\"chem\",\n",
    "                         \"Mathematics\":\"maths\",\n",
    "                         \"Physics and Astronomy\":\"phys\",\n",
    "                         \"Mathematics/ Physics and Astronomy\":\"maths_phys\"}\n",
    "room_copy[\"school_priority\"] = room_copy[\"school_priority\"].replace(priority_replacements)\n",
    "\n",
    "\n",
    "layout_replacements = {\"Classroom Style\":\"classroom\",\n",
    "                       \"Theatre Style\":\"theatre\",\n",
    "                       \"Boardroom Style\":\"boardroom\"}\n",
    "room_copy[\"room_layout\"] = room_copy[\"room_layout\"].replace(layout_replacements)"
   ]
  },
  {
   "cell_type": "code",
   "execution_count": 27,
   "metadata": {},
   "outputs": [],
   "source": [
    "room_copy[\"furniture_config\"] = room_copy[\"furniture_config\"].str.split(\"\\. \").str[1]"
   ]
  },
  {
   "cell_type": "code",
   "execution_count": 28,
   "metadata": {},
   "outputs": [],
   "source": [
    "furniture_replacements = {\"Tables and Chairs\":\"tables_chairs\",\n",
    "                          \"Flexible seating (not tables)\":\"flex_seating\",\n",
    "                          \"Retractable Seating\":\"retract_seating\"}\n",
    "room_copy[\"furniture_config\"] = room_copy[\"furniture_config\"].replace(furniture_replacements)"
   ]
  },
  {
   "cell_type": "code",
   "execution_count": 29,
   "metadata": {},
   "outputs": [
    {
     "data": {
      "text/plain": [
       "['tables_chairs', 'flex_seating', nan, 'retract_seating']"
      ]
     },
     "execution_count": 29,
     "metadata": {},
     "output_type": "execute_result"
    }
   ],
   "source": [
    "list(room_copy[\"furniture_config\"].unique())"
   ]
  },
  {
   "cell_type": "code",
   "execution_count": 30,
   "metadata": {},
   "outputs": [],
   "source": [
    "true_false_cols = [\"control_system\", \"desktop\", \"induction_system\", \"lec_recording\", \"microphone\", \"pres_facilities\", \"sound_system\", \"wall_mounted_writing\"]\n",
    "\n",
    "for col in true_false_cols:\n",
    "    room_copy[col] = room_copy[col].apply(lambda x: True if pd.notna(x) and x.strip() else False)"
   ]
  },
  {
   "cell_type": "code",
   "execution_count": 31,
   "metadata": {},
   "outputs": [],
   "source": [
    "dummy_enc_cols = []\n",
    "\n",
    "\n",
    "room_furniture_encoded = pd.get_dummies(room_copy[\"furniture_config\"], prefix=\"furniture\")\n",
    "room_layout_encoded = pd.get_dummies(room_copy[\"room_layout\"], prefix=\"layout\")\n",
    "gt_ts_encoded = pd.get_dummies(room_copy[\"gt_or_ts\"])\n",
    "ownership_encoded = pd.get_dummies(room_copy[\"ownership\"])\n",
    "priority_encoded = pd.get_dummies(room_copy[\"school_priority\"], prefix=\"priority\")\n",
    "\n",
    "\n",
    "room_copy = pd.concat([room_copy, room_furniture_encoded, room_layout_encoded, gt_ts_encoded, ownership_encoded, priority_encoded], axis=1)\n",
    "to_drop = [\"furniture_config\", \"room_layout\", \"gt_or_ts\", \"ownership\", \"school_priority\"]\n",
    "room_copy = room_copy.drop(to_drop, axis=1)"
   ]
  },
  {
   "cell_type": "code",
   "execution_count": 78,
   "metadata": {},
   "outputs": [],
   "source": [
    "# room_copy.drop(\"furniture_config\", axis=1)\n",
    "encoded_room_data = room_copy\n",
    "\n",
    "encoded_room_data.to_excel('encoded_room_data.xlsx', index=False)"
   ]
  },
  {
   "cell_type": "markdown",
   "metadata": {},
   "source": [
    "# Figuring out data"
   ]
  },
  {
   "cell_type": "code",
   "execution_count": 127,
   "metadata": {},
   "outputs": [],
   "source": [
    "timetable_copy = timetable_data.copy()"
   ]
  },
  {
   "cell_type": "code",
   "execution_count": 128,
   "metadata": {},
   "outputs": [],
   "source": [
    "timetable_copy = timetable_data.rename(columns = {\"Course Name\":\"Course\", \"Course Code\":\"Code\"})"
   ]
  },
  {
   "cell_type": "code",
   "execution_count": 129,
   "metadata": {},
   "outputs": [],
   "source": [
    "y1s1_courses = enrol_nums_additional[(enrol_nums_additional[\"Normal Year Taken\"]==\"1\") & (enrol_nums_additional[\"Delivery Period\"]==\"Semester 1\")]\n",
    "y1s2_courses = enrol_nums_additional[(enrol_nums_additional[\"Normal Year Taken\"]==\"1\") & (enrol_nums_additional[\"Delivery Period\"]==\"Semester 2\")]"
   ]
  },
  {
   "cell_type": "code",
   "execution_count": 130,
   "metadata": {},
   "outputs": [
    {
     "data": {
      "text/plain": [
       "True"
      ]
     },
     "execution_count": 130,
     "metadata": {},
     "output_type": "execute_result"
    }
   ],
   "source": [
    "timetable_copy = pd.merge(timetable_copy, enrol_nums_additional[[\"Delivery Period\", \"Normal Year Taken\", \"Code\"]], on = \"Code\", how = \"left\")\n",
    "timetable_copy.shape[0] == timetable_data.shape[0]"
   ]
  },
  {
   "cell_type": "code",
   "execution_count": 133,
   "metadata": {},
   "outputs": [
    {
     "ename": "TypeError",
     "evalue": "argument of type 'float' is not iterable",
     "output_type": "error",
     "traceback": [
      "\u001b[1;31m---------------------------------------------------------------------------\u001b[0m",
      "\u001b[1;31mTypeError\u001b[0m                                 Traceback (most recent call last)",
      "Cell \u001b[1;32mIn[133], line 17\u001b[0m\n\u001b[0;32m     14\u001b[0m timetable_copy[\u001b[38;5;124m\"\u001b[39m\u001b[38;5;124mActivity Type Name\u001b[39m\u001b[38;5;124m\"\u001b[39m] \u001b[38;5;241m=\u001b[39m timetable_copy[\u001b[38;5;124m\"\u001b[39m\u001b[38;5;124mActivity Type Name\u001b[39m\u001b[38;5;124m\"\u001b[39m]\u001b[38;5;241m.\u001b[39mapply(split_on_star)\n\u001b[0;32m     15\u001b[0m \u001b[38;5;66;03m# timetable_copy[\"Delivery Period\"] = timetable_copy[\"Delivery Period\"].apply(split_on_star)\u001b[39;00m\n\u001b[0;32m     16\u001b[0m \u001b[38;5;66;03m# timetable_copy[\"Delivery Semester\"] = timetable_copy[\"Delivery Semester\"].apply(split_on_star)\u001b[39;00m\n\u001b[1;32m---> 17\u001b[0m timetable_copy[\u001b[38;5;124m\"\u001b[39m\u001b[38;5;124mZone Name\u001b[39m\u001b[38;5;124m\"\u001b[39m] \u001b[38;5;241m=\u001b[39m \u001b[43mtimetable_copy\u001b[49m\u001b[43m[\u001b[49m\u001b[38;5;124;43m\"\u001b[39;49m\u001b[38;5;124;43mZone Name\u001b[39;49m\u001b[38;5;124;43m\"\u001b[39;49m\u001b[43m]\u001b[49m\u001b[38;5;241;43m.\u001b[39;49m\u001b[43mapply\u001b[49m\u001b[43m(\u001b[49m\u001b[43msplit_on_star\u001b[49m\u001b[43m)\u001b[49m\n",
      "File \u001b[1;32m~\\AppData\\Local\\Packages\\PythonSoftwareFoundation.Python.3.11_qbz5n2kfra8p0\\LocalCache\\local-packages\\Python311\\site-packages\\pandas\\core\\series.py:4904\u001b[0m, in \u001b[0;36mSeries.apply\u001b[1;34m(self, func, convert_dtype, args, by_row, **kwargs)\u001b[0m\n\u001b[0;32m   4769\u001b[0m \u001b[38;5;28;01mdef\u001b[39;00m \u001b[38;5;21mapply\u001b[39m(\n\u001b[0;32m   4770\u001b[0m     \u001b[38;5;28mself\u001b[39m,\n\u001b[0;32m   4771\u001b[0m     func: AggFuncType,\n\u001b[1;32m   (...)\u001b[0m\n\u001b[0;32m   4776\u001b[0m     \u001b[38;5;241m*\u001b[39m\u001b[38;5;241m*\u001b[39mkwargs,\n\u001b[0;32m   4777\u001b[0m ) \u001b[38;5;241m-\u001b[39m\u001b[38;5;241m>\u001b[39m DataFrame \u001b[38;5;241m|\u001b[39m Series:\n\u001b[0;32m   4778\u001b[0m \u001b[38;5;250m    \u001b[39m\u001b[38;5;124;03m\"\"\"\u001b[39;00m\n\u001b[0;32m   4779\u001b[0m \u001b[38;5;124;03m    Invoke function on values of Series.\u001b[39;00m\n\u001b[0;32m   4780\u001b[0m \n\u001b[1;32m   (...)\u001b[0m\n\u001b[0;32m   4895\u001b[0m \u001b[38;5;124;03m    dtype: float64\u001b[39;00m\n\u001b[0;32m   4896\u001b[0m \u001b[38;5;124;03m    \"\"\"\u001b[39;00m\n\u001b[0;32m   4897\u001b[0m     \u001b[38;5;28;01mreturn\u001b[39;00m \u001b[43mSeriesApply\u001b[49m\u001b[43m(\u001b[49m\n\u001b[0;32m   4898\u001b[0m \u001b[43m        \u001b[49m\u001b[38;5;28;43mself\u001b[39;49m\u001b[43m,\u001b[49m\n\u001b[0;32m   4899\u001b[0m \u001b[43m        \u001b[49m\u001b[43mfunc\u001b[49m\u001b[43m,\u001b[49m\n\u001b[0;32m   4900\u001b[0m \u001b[43m        \u001b[49m\u001b[43mconvert_dtype\u001b[49m\u001b[38;5;241;43m=\u001b[39;49m\u001b[43mconvert_dtype\u001b[49m\u001b[43m,\u001b[49m\n\u001b[0;32m   4901\u001b[0m \u001b[43m        \u001b[49m\u001b[43mby_row\u001b[49m\u001b[38;5;241;43m=\u001b[39;49m\u001b[43mby_row\u001b[49m\u001b[43m,\u001b[49m\n\u001b[0;32m   4902\u001b[0m \u001b[43m        \u001b[49m\u001b[43margs\u001b[49m\u001b[38;5;241;43m=\u001b[39;49m\u001b[43margs\u001b[49m\u001b[43m,\u001b[49m\n\u001b[0;32m   4903\u001b[0m \u001b[43m        \u001b[49m\u001b[43mkwargs\u001b[49m\u001b[38;5;241;43m=\u001b[39;49m\u001b[43mkwargs\u001b[49m\u001b[43m,\u001b[49m\n\u001b[1;32m-> 4904\u001b[0m \u001b[43m    \u001b[49m\u001b[43m)\u001b[49m\u001b[38;5;241;43m.\u001b[39;49m\u001b[43mapply\u001b[49m\u001b[43m(\u001b[49m\u001b[43m)\u001b[49m\n",
      "File \u001b[1;32m~\\AppData\\Local\\Packages\\PythonSoftwareFoundation.Python.3.11_qbz5n2kfra8p0\\LocalCache\\local-packages\\Python311\\site-packages\\pandas\\core\\apply.py:1427\u001b[0m, in \u001b[0;36mSeriesApply.apply\u001b[1;34m(self)\u001b[0m\n\u001b[0;32m   1424\u001b[0m     \u001b[38;5;28;01mreturn\u001b[39;00m \u001b[38;5;28mself\u001b[39m\u001b[38;5;241m.\u001b[39mapply_compat()\n\u001b[0;32m   1426\u001b[0m \u001b[38;5;66;03m# self.func is Callable\u001b[39;00m\n\u001b[1;32m-> 1427\u001b[0m \u001b[38;5;28;01mreturn\u001b[39;00m \u001b[38;5;28;43mself\u001b[39;49m\u001b[38;5;241;43m.\u001b[39;49m\u001b[43mapply_standard\u001b[49m\u001b[43m(\u001b[49m\u001b[43m)\u001b[49m\n",
      "File \u001b[1;32m~\\AppData\\Local\\Packages\\PythonSoftwareFoundation.Python.3.11_qbz5n2kfra8p0\\LocalCache\\local-packages\\Python311\\site-packages\\pandas\\core\\apply.py:1507\u001b[0m, in \u001b[0;36mSeriesApply.apply_standard\u001b[1;34m(self)\u001b[0m\n\u001b[0;32m   1501\u001b[0m \u001b[38;5;66;03m# row-wise access\u001b[39;00m\n\u001b[0;32m   1502\u001b[0m \u001b[38;5;66;03m# apply doesn't have a `na_action` keyword and for backward compat reasons\u001b[39;00m\n\u001b[0;32m   1503\u001b[0m \u001b[38;5;66;03m# we need to give `na_action=\"ignore\"` for categorical data.\u001b[39;00m\n\u001b[0;32m   1504\u001b[0m \u001b[38;5;66;03m# TODO: remove the `na_action=\"ignore\"` when that default has been changed in\u001b[39;00m\n\u001b[0;32m   1505\u001b[0m \u001b[38;5;66;03m#  Categorical (GH51645).\u001b[39;00m\n\u001b[0;32m   1506\u001b[0m action \u001b[38;5;241m=\u001b[39m \u001b[38;5;124m\"\u001b[39m\u001b[38;5;124mignore\u001b[39m\u001b[38;5;124m\"\u001b[39m \u001b[38;5;28;01mif\u001b[39;00m \u001b[38;5;28misinstance\u001b[39m(obj\u001b[38;5;241m.\u001b[39mdtype, CategoricalDtype) \u001b[38;5;28;01melse\u001b[39;00m \u001b[38;5;28;01mNone\u001b[39;00m\n\u001b[1;32m-> 1507\u001b[0m mapped \u001b[38;5;241m=\u001b[39m \u001b[43mobj\u001b[49m\u001b[38;5;241;43m.\u001b[39;49m\u001b[43m_map_values\u001b[49m\u001b[43m(\u001b[49m\n\u001b[0;32m   1508\u001b[0m \u001b[43m    \u001b[49m\u001b[43mmapper\u001b[49m\u001b[38;5;241;43m=\u001b[39;49m\u001b[43mcurried\u001b[49m\u001b[43m,\u001b[49m\u001b[43m \u001b[49m\u001b[43mna_action\u001b[49m\u001b[38;5;241;43m=\u001b[39;49m\u001b[43maction\u001b[49m\u001b[43m,\u001b[49m\u001b[43m \u001b[49m\u001b[43mconvert\u001b[49m\u001b[38;5;241;43m=\u001b[39;49m\u001b[38;5;28;43mself\u001b[39;49m\u001b[38;5;241;43m.\u001b[39;49m\u001b[43mconvert_dtype\u001b[49m\n\u001b[0;32m   1509\u001b[0m \u001b[43m\u001b[49m\u001b[43m)\u001b[49m\n\u001b[0;32m   1511\u001b[0m \u001b[38;5;28;01mif\u001b[39;00m \u001b[38;5;28mlen\u001b[39m(mapped) \u001b[38;5;129;01mand\u001b[39;00m \u001b[38;5;28misinstance\u001b[39m(mapped[\u001b[38;5;241m0\u001b[39m], ABCSeries):\n\u001b[0;32m   1512\u001b[0m     \u001b[38;5;66;03m# GH#43986 Need to do list(mapped) in order to get treated as nested\u001b[39;00m\n\u001b[0;32m   1513\u001b[0m     \u001b[38;5;66;03m#  See also GH#25959 regarding EA support\u001b[39;00m\n\u001b[0;32m   1514\u001b[0m     \u001b[38;5;28;01mreturn\u001b[39;00m obj\u001b[38;5;241m.\u001b[39m_constructor_expanddim(\u001b[38;5;28mlist\u001b[39m(mapped), index\u001b[38;5;241m=\u001b[39mobj\u001b[38;5;241m.\u001b[39mindex)\n",
      "File \u001b[1;32m~\\AppData\\Local\\Packages\\PythonSoftwareFoundation.Python.3.11_qbz5n2kfra8p0\\LocalCache\\local-packages\\Python311\\site-packages\\pandas\\core\\base.py:921\u001b[0m, in \u001b[0;36mIndexOpsMixin._map_values\u001b[1;34m(self, mapper, na_action, convert)\u001b[0m\n\u001b[0;32m    918\u001b[0m \u001b[38;5;28;01mif\u001b[39;00m \u001b[38;5;28misinstance\u001b[39m(arr, ExtensionArray):\n\u001b[0;32m    919\u001b[0m     \u001b[38;5;28;01mreturn\u001b[39;00m arr\u001b[38;5;241m.\u001b[39mmap(mapper, na_action\u001b[38;5;241m=\u001b[39mna_action)\n\u001b[1;32m--> 921\u001b[0m \u001b[38;5;28;01mreturn\u001b[39;00m \u001b[43malgorithms\u001b[49m\u001b[38;5;241;43m.\u001b[39;49m\u001b[43mmap_array\u001b[49m\u001b[43m(\u001b[49m\u001b[43marr\u001b[49m\u001b[43m,\u001b[49m\u001b[43m \u001b[49m\u001b[43mmapper\u001b[49m\u001b[43m,\u001b[49m\u001b[43m \u001b[49m\u001b[43mna_action\u001b[49m\u001b[38;5;241;43m=\u001b[39;49m\u001b[43mna_action\u001b[49m\u001b[43m,\u001b[49m\u001b[43m \u001b[49m\u001b[43mconvert\u001b[49m\u001b[38;5;241;43m=\u001b[39;49m\u001b[43mconvert\u001b[49m\u001b[43m)\u001b[49m\n",
      "File \u001b[1;32m~\\AppData\\Local\\Packages\\PythonSoftwareFoundation.Python.3.11_qbz5n2kfra8p0\\LocalCache\\local-packages\\Python311\\site-packages\\pandas\\core\\algorithms.py:1743\u001b[0m, in \u001b[0;36mmap_array\u001b[1;34m(arr, mapper, na_action, convert)\u001b[0m\n\u001b[0;32m   1741\u001b[0m values \u001b[38;5;241m=\u001b[39m arr\u001b[38;5;241m.\u001b[39mastype(\u001b[38;5;28mobject\u001b[39m, copy\u001b[38;5;241m=\u001b[39m\u001b[38;5;28;01mFalse\u001b[39;00m)\n\u001b[0;32m   1742\u001b[0m \u001b[38;5;28;01mif\u001b[39;00m na_action \u001b[38;5;129;01mis\u001b[39;00m \u001b[38;5;28;01mNone\u001b[39;00m:\n\u001b[1;32m-> 1743\u001b[0m     \u001b[38;5;28;01mreturn\u001b[39;00m \u001b[43mlib\u001b[49m\u001b[38;5;241;43m.\u001b[39;49m\u001b[43mmap_infer\u001b[49m\u001b[43m(\u001b[49m\u001b[43mvalues\u001b[49m\u001b[43m,\u001b[49m\u001b[43m \u001b[49m\u001b[43mmapper\u001b[49m\u001b[43m,\u001b[49m\u001b[43m \u001b[49m\u001b[43mconvert\u001b[49m\u001b[38;5;241;43m=\u001b[39;49m\u001b[43mconvert\u001b[49m\u001b[43m)\u001b[49m\n\u001b[0;32m   1744\u001b[0m \u001b[38;5;28;01melse\u001b[39;00m:\n\u001b[0;32m   1745\u001b[0m     \u001b[38;5;28;01mreturn\u001b[39;00m lib\u001b[38;5;241m.\u001b[39mmap_infer_mask(\n\u001b[0;32m   1746\u001b[0m         values, mapper, mask\u001b[38;5;241m=\u001b[39misna(values)\u001b[38;5;241m.\u001b[39mview(np\u001b[38;5;241m.\u001b[39muint8), convert\u001b[38;5;241m=\u001b[39mconvert\n\u001b[0;32m   1747\u001b[0m     )\n",
      "File \u001b[1;32mlib.pyx:2972\u001b[0m, in \u001b[0;36mpandas._libs.lib.map_infer\u001b[1;34m()\u001b[0m\n",
      "Cell \u001b[1;32mIn[133], line 4\u001b[0m, in \u001b[0;36msplit_on_star\u001b[1;34m(entry)\u001b[0m\n\u001b[0;32m      3\u001b[0m \u001b[38;5;28;01mdef\u001b[39;00m \u001b[38;5;21msplit_on_star\u001b[39m(entry):\n\u001b[1;32m----> 4\u001b[0m     \u001b[38;5;28;01mif\u001b[39;00m \u001b[38;5;124;43m'\u001b[39;49m\u001b[38;5;124;43m*\u001b[39;49m\u001b[38;5;124;43m'\u001b[39;49m\u001b[43m \u001b[49m\u001b[38;5;129;43;01min\u001b[39;49;00m\u001b[43m \u001b[49m\u001b[43mentry\u001b[49m:\n\u001b[0;32m      5\u001b[0m         \u001b[38;5;28;01mreturn\u001b[39;00m entry\u001b[38;5;241m.\u001b[39msplit(\u001b[38;5;124m'\u001b[39m\u001b[38;5;124m*\u001b[39m\u001b[38;5;124m'\u001b[39m)[\u001b[38;5;241m1\u001b[39m]\n\u001b[0;32m      6\u001b[0m     \u001b[38;5;28;01melse\u001b[39;00m:\n",
      "\u001b[1;31mTypeError\u001b[0m: argument of type 'float' is not iterable"
     ]
    }
   ],
   "source": [
    "timetable_copy[\"Abbreviated Course Name\"] = timetable_copy[\"Code\"].map(abbr_map)\n",
    "\n",
    "def split_on_star(entry):\n",
    "    if '*' in entry:\n",
    "        return entry.split('*')[1]\n",
    "    else:\n",
    "        return entry\n",
    "\n",
    "cols_w_star = [\"Activity Type Name\", \"Delivery Period\", \"Delivery Semester\", \"Zone Name\"]\n",
    "\n",
    "# for col in cols_w_star:\n",
    "#     timetable_copy[col] = timetable_copy[col].apply(split_on_star)\n",
    "\n",
    "timetable_copy[\"Activity Type Name\"] = timetable_copy[\"Activity Type Name\"].apply(split_on_star)\n",
    "# timetable_copy[\"Delivery Period\"] = timetable_copy[\"Delivery Period\"].apply(split_on_star)\n",
    "# timetable_copy[\"Delivery Semester\"] = timetable_copy[\"Delivery Semester\"].apply(split_on_star)\n",
    "timetable_copy[\"Zone Name\"] = timetable_copy[\"Zone Name\"].apply(split_on_star)"
   ]
  },
  {
   "cell_type": "code",
   "execution_count": 105,
   "metadata": {},
   "outputs": [],
   "source": [
    "list(timetable_copy[\"Teaching Week Pattern\"].unique())\n",
    "\n",
    "def num_list(entry):\n",
    "    numbers = []\n",
    "    for part in entry.split(','):\n",
    "        if '-' in part:\n",
    "            start, end = map(int, part.split('-'))\n",
    "            numbers.extend(range(start, end + 1))\n",
    "        else:\n",
    "            numbers.append(int(part))\n",
    "    return numbers\n",
    "\n",
    "timetable_copy[\"Teaching Week Pattern\"] = timetable_copy[\"Teaching Week Pattern\"].apply(num_list)"
   ]
  },
  {
   "cell_type": "code",
   "execution_count": 118,
   "metadata": {},
   "outputs": [],
   "source": [
    "week_key = {}\n",
    "with open(\"week_codes.txt\", 'r', encoding='utf-8') as file:\n",
    "    for line in file:\n",
    "        # Remove the word joiner character (U+2060) from the line\n",
    "        line = line.replace('\\u2060', '')\n",
    "        \n",
    "        line = line.strip()\n",
    "        if line:  # Skip empty lines\n",
    "            key_part = line.split('=')\n",
    "            key_part[0] = int(key_part[0].strip())\n",
    "            week_key[key_part[0]] = key_part[1].strip()\n",
    "\n",
    "def convert_to_strings(numbers):\n",
    "    return [week_key[number] for number in numbers]\n",
    "week_key\n",
    "\n",
    "timetable_copy[\"Teaching Week Pattern\"] = timetable_copy[\"Teaching Week Pattern\"].apply(convert_to_strings)"
   ]
  }
 ],
 "metadata": {
  "kernelspec": {
   "display_name": "base",
   "language": "python",
   "name": "python3"
  },
  "language_info": {
   "codemirror_mode": {
    "name": "ipython",
    "version": 3
   },
   "file_extension": ".py",
   "mimetype": "text/x-python",
   "name": "python",
   "nbconvert_exporter": "python",
   "pygments_lexer": "ipython3",
   "version": "3.11.8"
  }
 },
 "nbformat": 4,
 "nbformat_minor": 2
}
