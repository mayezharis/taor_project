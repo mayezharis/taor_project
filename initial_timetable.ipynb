{
 "cells": [
  {
   "cell_type": "markdown",
   "metadata": {},
   "source": [
    "# Making the initial timetable"
   ]
  },
  {
   "cell_type": "code",
   "execution_count": 1,
   "metadata": {},
   "outputs": [],
   "source": [
    "import pandas as pd\n",
    "import numpy as np"
   ]
  },
  {
   "cell_type": "code",
   "execution_count": 2,
   "metadata": {},
   "outputs": [
    {
     "name": "stdout",
     "output_type": "stream",
     "text": [
      "Index(['Course', 'Code', 'Linked Course', 'Activity', 'Activity Type Name',\n",
      "       'Planned Size', 'Real Size', 'Delivery Semester',\n",
      "       'Teaching Week Pattern', 'Number Of Teaching Weeks', 'Scheduled Days',\n",
      "       'Scheduled Start Time', 'Scheduled End Time', 'Duration', 'Total Hours',\n",
      "       'Zone Name', 'room_name', 'Delivery Period', 'Normal Year Taken',\n",
      "       'building', 'encoded_days', 'Abbreviated Course Name', 'time_periods',\n",
      "       'duration_hours', 'total_duration_hours', 'course_classtype',\n",
      "       'ws_groups', 'no_of_agg_ws_groups', 'aggregated_ws_groups',\n",
      "       'sem1_pattern_one_hot', 'sem2_pattern_one_hot'],\n",
      "      dtype='object')\n",
      "Shape of dataframe:  (1259, 31)\n"
     ]
    }
   ],
   "source": [
    "proc_tt = pd.read_excel(\"Processed Data/encoded_timetable_data.xlsx\").copy()\n",
    "print(proc_tt.columns)\n",
    "print(\"Shape of dataframe: \", proc_tt.shape)"
   ]
  },
  {
   "cell_type": "markdown",
   "metadata": {},
   "source": [
    "## Cleaning data"
   ]
  },
  {
   "cell_type": "code",
   "execution_count": 3,
   "metadata": {},
   "outputs": [],
   "source": [
    "# Drop MIGS course as we are not considering it for SoM\n",
    "proc_tt.drop(proc_tt.index[proc_tt.Code == \"MATH11220\"].tolist(), inplace = True)"
   ]
  },
  {
   "cell_type": "markdown",
   "metadata": {},
   "source": [
    "## Choosing weeks in semester 1 and semester 2 for timetabling"
   ]
  },
  {
   "cell_type": "code",
   "execution_count": 4,
   "metadata": {},
   "outputs": [],
   "source": [
    "sem1_tt = proc_tt[proc_tt[\"sem1_pattern_one_hot\"].str.contains('1')]\n",
    "sem2_tt = proc_tt[proc_tt[\"sem2_pattern_one_hot\"].str.contains('1')]\n",
    "s2w3_tt = sem2_tt[sem2_tt[\"Teaching Week Pattern\"].str.contains('s2w3')]\n",
    "s2w4_tt = sem2_tt[sem2_tt[\"Teaching Week Pattern\"].str.contains('s2w4')]"
   ]
  },
  {
   "cell_type": "code",
   "execution_count": 5,
   "metadata": {},
   "outputs": [],
   "source": [
    "init_tt_s2w3 = np.zeros((9, 5), dtype = \"O\")\n",
    "init_tt_s2w4 = np.zeros((9, 5), dtype = \"O\")\n",
    "\n",
    "days = [\"Monday\", \"Tuesday\", \"Wednesday\", \"Thursday\", \"Friday\"]\n",
    "periods = ['1', '2', '3', '4', '5', '6', '7', '8', '9']"
   ]
  },
  {
   "cell_type": "markdown",
   "metadata": {},
   "source": [
    "### Create initial timetable for any week"
   ]
  },
  {
   "cell_type": "code",
   "execution_count": 38,
   "metadata": {},
   "outputs": [],
   "source": [
    "def create_init_tt(sem, week, days, periods, full_tt = proc_tt):\n",
    "    sem_tt = full_tt[full_tt[\"sem\"+str(sem)+\"_pattern_one_hot\"].str.contains('1')]\n",
    "    sw_tt = sem_tt[sem_tt[\"Teaching Week Pattern\"].str.contains('s'+str(sem)+'w'+str(week))]\n",
    "    init_tt = pd.DataFrame(np.zeros((9, 5), dtype = \"O\"), index = periods, columns = days)\n",
    "    \n",
    "    # # For cross checking\n",
    "    # sw_copy = sw_tt.copy()\n",
    "    # sw_copy[\"time_periods\"] = sw_copy[\"time_periods\"].str.split(',')\n",
    "    # sw_copy = sw_copy.explode(\"time_periods\")\n",
    "\n",
    "    # count = 0\n",
    "\n",
    "    for d, day in enumerate(days):\n",
    "        # sw_check = sw_copy[sw_copy[\"Scheduled Days\"] == day]\n",
    "        # day_tt = sw_check.drop_duplicates(subset = [\"course_classtype\", \"room_name\", \"time_periods\"])\n",
    "        # count_check = 0\n",
    "        # indices = []\n",
    "        for t, period in enumerate(periods):\n",
    "            # print(day, period)\n",
    "            sw_day_time_tt = sw_tt[(sw_tt[\"Scheduled Days\"] == day) & (sw_tt[\"time_periods\"].str.contains(period))]\n",
    "            sw_dt_tt_unique = sw_day_time_tt.drop_duplicates(subset = [\"course_classtype\", \"room_name\", \"Scheduled Start Time\"])\n",
    "            # count_check += sw_dt_tt_unique.shape[0]\n",
    "            # unique_indices = sw_dt_tt_unique.index.tolist()\n",
    "            # indices.extend(unique_indices)\n",
    "            classes_rooms = []\n",
    "            for row in sw_dt_tt_unique.itertuples():\n",
    "                classes_rooms.append([row.course_classtype, row.room_name])\n",
    "                # count += 1\n",
    "            \n",
    "            init_tt.loc[period, day] = str(classes_rooms).replace(\", \", \"\")\n",
    "\n",
    "        # print(count_check, day_tt.shape[0])\n",
    "        # print(np.sort(np.array(indices)), np.sort(np.array(day_tt.index.tolist())))\n",
    "\n",
    "    # print(count, sw_copy.drop_duplicates(subset = [\"course_classtype\", \"room_name\", \"Scheduled Days\", \"time_periods\"]).shape[0])\n",
    "    return init_tt\n",
    "    \n",
    "init_tt_s2w4 = create_init_tt(sem=2, week=4, days=days, periods=periods)\n",
    "init_tt_s2w3 = create_init_tt(sem=2, week=3, days=days, periods=periods)\n",
    "\n",
    "init_tt_s2w4.to_csv(f\"Initial_timetables/init_tt_s2w4.csv\", sep = \" \")\n",
    "init_tt_s2w3.to_csv(f\"Initial_timetables/init_tt_s2w3.csv\", sep = \" \")"
   ]
  },
  {
   "cell_type": "code",
   "execution_count": 42,
   "metadata": {},
   "outputs": [],
   "source": [
    "init_tt_s2w4.to_csv(f\"Initial_timetables/init_tt_s2w4.csv\", sep = \",\")\n",
    "init_tt_s2w3.to_csv(f\"Initial_timetables/init_tt_s2w3.csv\", sep = \",\")"
   ]
  }
 ],
 "metadata": {
  "kernelspec": {
   "display_name": "base",
   "language": "python",
   "name": "python3"
  },
  "language_info": {
   "codemirror_mode": {
    "name": "ipython",
    "version": 3
   },
   "file_extension": ".py",
   "mimetype": "text/x-python",
   "name": "python",
   "nbconvert_exporter": "python",
   "pygments_lexer": "ipython3",
   "version": "3.8.5"
  }
 },
 "nbformat": 4,
 "nbformat_minor": 2
}
