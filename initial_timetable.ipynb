{
 "cells": [
  {
   "cell_type": "markdown",
   "metadata": {},
   "source": [
    "# Making the initial timetable"
   ]
  },
  {
   "cell_type": "code",
   "execution_count": 1,
   "metadata": {},
   "outputs": [],
   "source": [
    "import pandas as pd\n",
    "import numpy as np"
   ]
  },
  {
   "cell_type": "code",
   "execution_count": 2,
   "metadata": {},
   "outputs": [
    {
     "name": "stdout",
     "output_type": "stream",
     "text": [
      "Index(['Course', 'Code', 'Linked Course', 'Activity', 'Activity Type Name',\n",
      "       'Planned Size', 'Real Size', 'Delivery Semester',\n",
      "       'Teaching Week Pattern', 'Number Of Teaching Weeks', 'Scheduled Days',\n",
      "       'Scheduled Start Time', 'Scheduled End Time', 'Duration', 'Total Hours',\n",
      "       'Zone Name', 'room_name', 'Delivery Period', 'Normal Year Taken',\n",
      "       'building', 'encoded_days', 'Abbreviated Course Name', 'time_periods',\n",
      "       'duration_hours', 'total_duration_hours', 'course_classtype',\n",
      "       'ws_groups', 'no_of_agg_ws_groups', 'aggregated_ws_groups',\n",
      "       'sem1_pattern_one_hot', 'sem2_pattern_one_hot'],\n",
      "      dtype='object')\n",
      "Shape of dataframe:  (1259, 31)\n"
     ]
    }
   ],
   "source": [
    "proc_tt = pd.read_excel(\"Processed Data/encoded_timetable_data.xlsx\").copy()\n",
    "print(proc_tt.columns)\n",
    "print(\"Shape of dataframe: \", proc_tt.shape)"
   ]
  },
  {
   "cell_type": "markdown",
   "metadata": {},
   "source": [
    "## Cleaning data"
   ]
  },
  {
   "cell_type": "code",
   "execution_count": 3,
   "metadata": {},
   "outputs": [],
   "source": [
    "# Drop MIGS course as we are not considering it for SoM\n",
    "proc_tt.drop(proc_tt.index[proc_tt.Code == \"MATH11220\"].tolist(), inplace = True)"
   ]
  },
  {
   "cell_type": "markdown",
   "metadata": {},
   "source": [
    "## Choosing weeks in semester 1 and semester 2 for timetabling"
   ]
  },
  {
   "cell_type": "code",
   "execution_count": 4,
   "metadata": {},
   "outputs": [],
   "source": [
    "sem1_tt = proc_tt[proc_tt[\"sem1_pattern_one_hot\"].str.contains('1')]\n",
    "sem2_tt = proc_tt[proc_tt[\"sem2_pattern_one_hot\"].str.contains('1')]\n",
    "s2w3_tt = sem2_tt[sem2_tt[\"Teaching Week Pattern\"].str.contains('s2w3')]\n",
    "s2w4_tt = sem2_tt[sem2_tt[\"Teaching Week Pattern\"].str.contains('s2w4')]"
   ]
  },
  {
   "cell_type": "code",
   "execution_count": 5,
   "metadata": {},
   "outputs": [],
   "source": [
    "init_tt_s2w3 = np.zeros((9, 5), dtype = \"O\")\n",
    "init_tt_s2w4 = np.zeros((9, 5), dtype = \"O\")\n",
    "\n",
    "days = [\"Monday\", \"Tuesday\", \"Wednesday\", \"Thursday\", \"Friday\"]\n",
    "periods = ['1', '2', '3', '4', '5', '6', '7', '8', '9']"
   ]
  },
  {
   "cell_type": "markdown",
   "metadata": {},
   "source": [
    "### Create initial timetable for any week"
   ]
  },
  {
   "cell_type": "code",
   "execution_count": 50,
   "metadata": {},
   "outputs": [
    {
     "name": "stdout",
     "output_type": "stream",
     "text": [
      "242 242\n",
      "234 234\n"
     ]
    }
   ],
   "source": [
    "def create_init_tt(sem, week, days, periods, full_tt = proc_tt):\n",
    "    sem_tt = full_tt[full_tt[\"sem\"+str(sem)+\"_pattern_one_hot\"].str.contains('1')]\n",
    "    sw_tt = sem_tt[sem_tt[\"Teaching Week Pattern\"].str.contains('s'+str(sem)+'w'+str(week))]\n",
    "    init_tt = pd.DataFrame(np.zeros((9, 5), dtype = \"O\"), index = periods, columns = days)\n",
    "    \n",
    "    # # For cross checking\n",
    "    sw_copy = sw_tt.copy()\n",
    "    sw_copy[\"time_periods\"] = sw_copy[\"time_periods\"].str.split(',')\n",
    "    sw_copy = sw_copy.explode(\"time_periods\")\n",
    "\n",
    "    count = 0\n",
    "\n",
    "    for d, day in enumerate(days):\n",
    "        # sw_check = sw_copy[sw_copy[\"Scheduled Days\"] == day]\n",
    "        # day_tt = sw_check.drop_duplicates(subset = [\"course_classtype\", \"room_name\", \"time_periods\"])\n",
    "        # count_check = 0\n",
    "        # indices = []\n",
    "        for t, period in enumerate(periods):\n",
    "            # print(day, period)\n",
    "            sw_day_time_tt = sw_tt[(sw_tt[\"Scheduled Days\"] == day) & (sw_tt[\"time_periods\"].str.contains(period))]\n",
    "            sw_dt_tt_unique = sw_day_time_tt.drop_duplicates(subset = [\"course_classtype\", \"room_name\", \"Scheduled Start Time\"])\n",
    "            # count_check += sw_dt_tt_unique.shape[0]\n",
    "            # unique_indices = sw_dt_tt_unique.index.tolist()\n",
    "            # indices.extend(unique_indices)\n",
    "            classes_rooms = []\n",
    "            for row in sw_dt_tt_unique.itertuples():\n",
    "                classes_rooms.append([row.course_classtype, row.room_name])\n",
    "                count += 1\n",
    "            \n",
    "            init_tt.loc[period, day] = str(classes_rooms).replace(\", \", \"\")\n",
    "\n",
    "        # print(count_check, day_tt.shape[0])\n",
    "        # print(np.sort(np.array(indices)), np.sort(np.array(day_tt.index.tolist())))\n",
    "\n",
    "    print(count, sw_copy.drop_duplicates(subset = [\"course_classtype\", \"room_name\", \"Scheduled Days\", \"time_periods\"]).shape[0])\n",
    "    return init_tt\n",
    "    \n",
    "init_tt_s2w4 = create_init_tt(sem=2, week=4, days=days, periods=periods)\n",
    "init_tt_s2w3 = create_init_tt(sem=2, week=3, days=days, periods=periods)\n",
    "\n",
    "init_tt_s2w4.to_csv(f\"Initial_timetables/init_tt_s2w4.csv\")\n",
    "init_tt_s2w3.to_csv(f\"Initial_timetables/init_tt_s2w3.csv\")"
   ]
  },
  {
   "cell_type": "code",
   "execution_count": 49,
   "metadata": {},
   "outputs": [
    {
     "data": {
      "text/html": [
       "<div>\n",
       "<style scoped>\n",
       "    .dataframe tbody tr th:only-of-type {\n",
       "        vertical-align: middle;\n",
       "    }\n",
       "\n",
       "    .dataframe tbody tr th {\n",
       "        vertical-align: top;\n",
       "    }\n",
       "\n",
       "    .dataframe thead th {\n",
       "        text-align: right;\n",
       "    }\n",
       "</style>\n",
       "<table border=\"1\" class=\"dataframe\">\n",
       "  <thead>\n",
       "    <tr style=\"text-align: right;\">\n",
       "      <th></th>\n",
       "      <th>Monday</th>\n",
       "      <th>Tuesday</th>\n",
       "      <th>Wednesday</th>\n",
       "      <th>Thursday</th>\n",
       "      <th>Friday</th>\n",
       "    </tr>\n",
       "  </thead>\n",
       "  <tbody>\n",
       "    <tr>\n",
       "      <th>1</th>\n",
       "      <td>[['MATH10077_lec''JCMB_5327']['MATH10069_lec''...</td>\n",
       "      <td>[['MATH08058_ws''AT_M2 - Teaching Studio']['MA...</td>\n",
       "      <td>[['MATH08075_ws''NUC_2.03 - Hawthorn Teaching ...</td>\n",
       "      <td>[['MATH10077_lec''JCMB_6206']['MATH10069_lec''...</td>\n",
       "      <td>[['MATH08065_cws''NUC_2.06 - Rowan Teaching St...</td>\n",
       "    </tr>\n",
       "    <tr>\n",
       "      <th>2</th>\n",
       "      <td>[['MATH11120_lec''JCMB_1501']['MATH11181_lec''...</td>\n",
       "      <td>[['MATH08058_ws''AT_M2 - Teaching Studio']['MA...</td>\n",
       "      <td>[['MATH10077_ws''JCMB_1501']['MATH08075_ws''NU...</td>\n",
       "      <td>[['MATH10086_lec''JCMB_Lecture Theatre C']['MA...</td>\n",
       "      <td>[['MATH10086_lec''JCMB_Lecture Theatre C']['MA...</td>\n",
       "    </tr>\n",
       "    <tr>\n",
       "      <th>3</th>\n",
       "      <td>[['MATH11148_lec''JCMB_Lecture Theatre A']['MA...</td>\n",
       "      <td>[['MATH10086_lec''JCMB_Lecture Theatre A']['MA...</td>\n",
       "      <td>[['MATH08065_lec''NUC_1.14 - Oak Lecture Theat...</td>\n",
       "      <td>[['MATH08064_ws''NUC_2.03 - Hawthorn Teaching ...</td>\n",
       "      <td>[['MATH11174_ws''MH_1.20 - Open Access/Teachin...</td>\n",
       "    </tr>\n",
       "    <tr>\n",
       "      <th>4</th>\n",
       "      <td>[['MATH11148_lec''JCMB_Lecture Theatre A']['MA...</td>\n",
       "      <td>[['MATH08058_ws''AT_M2 - Teaching Studio']['MA...</td>\n",
       "      <td>[['MATH11206_lec''JCMB_6206']['MATH08064_lec''...</td>\n",
       "      <td>[['MATH08075_lec''NUC_1.14 - Oak Lecture Theat...</td>\n",
       "      <td>[['MATH11174_ws''MH_LG.12 - Open Access Comput...</td>\n",
       "    </tr>\n",
       "    <tr>\n",
       "      <th>5</th>\n",
       "      <td>[['MATH08058_lec''GALT_ Gordon Aikman Lecture ...</td>\n",
       "      <td>[['MATH08058_ws''AT_M2 - Teaching Studio']['MA...</td>\n",
       "      <td>[['MATH08075_ws''JCMB_3211 - Teaching Studio']...</td>\n",
       "      <td>[['MATH08058_lec''GALT_ Gordon Aikman Lecture ...</td>\n",
       "      <td>[['MATH11140_lec''HBB_Lecture Theatre 2']['MAT...</td>\n",
       "    </tr>\n",
       "    <tr>\n",
       "      <th>6</th>\n",
       "      <td>[['MATH08058_lec''GALT_ Gordon Aikman Lecture ...</td>\n",
       "      <td>[['MATH08058_ws''AT_M2 - Teaching Studio']['MA...</td>\n",
       "      <td>[['MATH10010_ws''JCMB_3211 - Teaching Studio']...</td>\n",
       "      <td>[['MATH08058_lec''GALT_ Gordon Aikman Lecture ...</td>\n",
       "      <td>[['MATH10086_ws''JCMB_1206c - Teaching Studio'...</td>\n",
       "    </tr>\n",
       "    <tr>\n",
       "      <th>7</th>\n",
       "      <td>[['MATH11148_cws''MH_1.20 - Open Access/Teachi...</td>\n",
       "      <td>[['MATH08058_ws''AT_M2 - Teaching Studio']['MA...</td>\n",
       "      <td>[['MATH10010_ws''JCMB_3211 - Teaching Studio']...</td>\n",
       "      <td>[['MATH10003_lec''JCMB_Lecture Theatre A']['MA...</td>\n",
       "      <td>[['MATH10069_cws''MH_G.07 - Teaching Studio']]</td>\n",
       "    </tr>\n",
       "    <tr>\n",
       "      <th>8</th>\n",
       "      <td>[['MATH11148_cws''MH_1.20 - Open Access/Teachi...</td>\n",
       "      <td>[['MATH11140_lec''MH_G.26 - Charlotte Murchiso...</td>\n",
       "      <td>[['MATH11174_lec''JCMB_Lecture Theatre C']]</td>\n",
       "      <td>[['MATH10069_ws''JCMB_1206c - Teaching Studio'...</td>\n",
       "      <td>[['MATH10067_lec''NUC_1.14 - Oak Lecture Theat...</td>\n",
       "    </tr>\n",
       "    <tr>\n",
       "      <th>9</th>\n",
       "      <td>[['MATH10060_ws''JCMB_1206c - Teaching Studio'...</td>\n",
       "      <td>[['MATH08058_ws''AT_M2 - Teaching Studio']['MA...</td>\n",
       "      <td>[['MATH11174_lec''JCMB_Lecture Theatre C']]</td>\n",
       "      <td>[['MATH10060_qna''JCMB_Lecture Theatre A']]</td>\n",
       "      <td>[]</td>\n",
       "    </tr>\n",
       "  </tbody>\n",
       "</table>\n",
       "</div>"
      ],
      "text/plain": [
       "                                              Monday  \\\n",
       "1  [['MATH10077_lec''JCMB_5327']['MATH10069_lec''...   \n",
       "2  [['MATH11120_lec''JCMB_1501']['MATH11181_lec''...   \n",
       "3  [['MATH11148_lec''JCMB_Lecture Theatre A']['MA...   \n",
       "4  [['MATH11148_lec''JCMB_Lecture Theatre A']['MA...   \n",
       "5  [['MATH08058_lec''GALT_ Gordon Aikman Lecture ...   \n",
       "6  [['MATH08058_lec''GALT_ Gordon Aikman Lecture ...   \n",
       "7  [['MATH11148_cws''MH_1.20 - Open Access/Teachi...   \n",
       "8  [['MATH11148_cws''MH_1.20 - Open Access/Teachi...   \n",
       "9  [['MATH10060_ws''JCMB_1206c - Teaching Studio'...   \n",
       "\n",
       "                                             Tuesday  \\\n",
       "1  [['MATH08058_ws''AT_M2 - Teaching Studio']['MA...   \n",
       "2  [['MATH08058_ws''AT_M2 - Teaching Studio']['MA...   \n",
       "3  [['MATH10086_lec''JCMB_Lecture Theatre A']['MA...   \n",
       "4  [['MATH08058_ws''AT_M2 - Teaching Studio']['MA...   \n",
       "5  [['MATH08058_ws''AT_M2 - Teaching Studio']['MA...   \n",
       "6  [['MATH08058_ws''AT_M2 - Teaching Studio']['MA...   \n",
       "7  [['MATH08058_ws''AT_M2 - Teaching Studio']['MA...   \n",
       "8  [['MATH11140_lec''MH_G.26 - Charlotte Murchiso...   \n",
       "9  [['MATH08058_ws''AT_M2 - Teaching Studio']['MA...   \n",
       "\n",
       "                                           Wednesday  \\\n",
       "1  [['MATH08075_ws''NUC_2.03 - Hawthorn Teaching ...   \n",
       "2  [['MATH10077_ws''JCMB_1501']['MATH08075_ws''NU...   \n",
       "3  [['MATH08065_lec''NUC_1.14 - Oak Lecture Theat...   \n",
       "4  [['MATH11206_lec''JCMB_6206']['MATH08064_lec''...   \n",
       "5  [['MATH08075_ws''JCMB_3211 - Teaching Studio']...   \n",
       "6  [['MATH10010_ws''JCMB_3211 - Teaching Studio']...   \n",
       "7  [['MATH10010_ws''JCMB_3211 - Teaching Studio']...   \n",
       "8        [['MATH11174_lec''JCMB_Lecture Theatre C']]   \n",
       "9        [['MATH11174_lec''JCMB_Lecture Theatre C']]   \n",
       "\n",
       "                                            Thursday  \\\n",
       "1  [['MATH10077_lec''JCMB_6206']['MATH10069_lec''...   \n",
       "2  [['MATH10086_lec''JCMB_Lecture Theatre C']['MA...   \n",
       "3  [['MATH08064_ws''NUC_2.03 - Hawthorn Teaching ...   \n",
       "4  [['MATH08075_lec''NUC_1.14 - Oak Lecture Theat...   \n",
       "5  [['MATH08058_lec''GALT_ Gordon Aikman Lecture ...   \n",
       "6  [['MATH08058_lec''GALT_ Gordon Aikman Lecture ...   \n",
       "7  [['MATH10003_lec''JCMB_Lecture Theatre A']['MA...   \n",
       "8  [['MATH10069_ws''JCMB_1206c - Teaching Studio'...   \n",
       "9        [['MATH10060_qna''JCMB_Lecture Theatre A']]   \n",
       "\n",
       "                                              Friday  \n",
       "1  [['MATH08065_cws''NUC_2.06 - Rowan Teaching St...  \n",
       "2  [['MATH10086_lec''JCMB_Lecture Theatre C']['MA...  \n",
       "3  [['MATH11174_ws''MH_1.20 - Open Access/Teachin...  \n",
       "4  [['MATH11174_ws''MH_LG.12 - Open Access Comput...  \n",
       "5  [['MATH11140_lec''HBB_Lecture Theatre 2']['MAT...  \n",
       "6  [['MATH10086_ws''JCMB_1206c - Teaching Studio'...  \n",
       "7     [['MATH10069_cws''MH_G.07 - Teaching Studio']]  \n",
       "8  [['MATH10067_lec''NUC_1.14 - Oak Lecture Theat...  \n",
       "9                                                 []  "
      ]
     },
     "execution_count": 49,
     "metadata": {},
     "output_type": "execute_result"
    }
   ],
   "source": [
    "init_tt_s2w3"
   ]
  }
 ],
 "metadata": {
  "kernelspec": {
   "display_name": "base",
   "language": "python",
   "name": "python3"
  },
  "language_info": {
   "codemirror_mode": {
    "name": "ipython",
    "version": 3
   },
   "file_extension": ".py",
   "mimetype": "text/x-python",
   "name": "python",
   "nbconvert_exporter": "python",
   "pygments_lexer": "ipython3",
   "version": "3.8.5"
  }
 },
 "nbformat": 4,
 "nbformat_minor": 2
}
