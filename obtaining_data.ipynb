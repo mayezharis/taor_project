{
 "cells": [
  {
   "cell_type": "code",
   "execution_count": 1,
   "metadata": {},
   "outputs": [],
   "source": [
    "import pandas as pd\n",
    "import numpy as np"
   ]
  },
  {
   "cell_type": "code",
   "execution_count": 2,
   "metadata": {},
   "outputs": [],
   "source": [
    "def one_hot_list(data, column, prefix=None):\n",
    "    data[column] = data[column].str.split(\", \")\n",
    "    data = data.explode(column)\n",
    "    data_enc = pd.get_dummies(data[column], prefix=prefix)\n",
    "    encoded_data = pd.concat([data, data_enc], axis=1)\n",
    "    return encoded_data"
   ]
  },
  {
   "cell_type": "markdown",
   "metadata": {},
   "source": [
    "# Courses compulsory for each degree"
   ]
  },
  {
   "cell_type": "code",
   "execution_count": 3,
   "metadata": {},
   "outputs": [],
   "source": [
    "enrol_nums_data = pd.read_excel(\"Raw Data/Course Enrollment Numbers.xlsx\", sheet_name=\"abbreviated course names\")"
   ]
  },
  {
   "cell_type": "code",
   "execution_count": 4,
   "metadata": {},
   "outputs": [],
   "source": [
    "enrol_nums_data.to_excel(\"Processed Data/web_scraped_data.xlsx\", index = False)"
   ]
  },
  {
   "cell_type": "code",
   "execution_count": 5,
   "metadata": {},
   "outputs": [],
   "source": [
    "enc_tt_data = pd.read_excel(\"Processed Data/encoded_timetable_data.xlsx\")\n",
    "\n",
    "enc_tt_data = enc_tt_data[enc_tt_data['enrollment_number'] > 0]\n",
    "\n",
    "enc_tt = enc_tt_data.drop_duplicates(subset = [\"Code\"])"
   ]
  },
  {
   "cell_type": "code",
   "execution_count": 6,
   "metadata": {},
   "outputs": [
    {
     "name": "stderr",
     "output_type": "stream",
     "text": [
      "C:\\Users\\Mayez Harris\\AppData\\Local\\Temp\\ipykernel_24344\\3141802257.py:2: SettingWithCopyWarning: \n",
      "A value is trying to be set on a copy of a slice from a DataFrame.\n",
      "Try using .loc[row_indexer,col_indexer] = value instead\n",
      "\n",
      "See the caveats in the documentation: https://pandas.pydata.org/pandas-docs/stable/user_guide/indexing.html#returning-a-view-versus-a-copy\n",
      "  data[column] = data[column].str.split(\", \")\n"
     ]
    }
   ],
   "source": [
    "compulsory_enc = one_hot_list(enc_tt, \"Degrees Compulsory For\")"
   ]
  },
  {
   "cell_type": "code",
   "execution_count": 7,
   "metadata": {},
   "outputs": [],
   "source": [
    "comp_ambsc = compulsory_enc[compulsory_enc[\"ambsc\"] == True] \n",
    "comp_ammmath = compulsory_enc[compulsory_enc[\"ammmath\"]== True]\n",
    "comp_cammsc = compulsory_enc[compulsory_enc[\"cammsc\"]== True]\n",
    "comp_cmfft = compulsory_enc[compulsory_enc[\"cmfft\"]== True]\n",
    "comp_cmfpt = compulsory_enc[compulsory_enc[\"cmfpt\"]== True]\n",
    "comp_fmoft = compulsory_enc[compulsory_enc[\"fmoft\"]== True] \n",
    "comp_fmopt = compulsory_enc[compulsory_enc[\"fmopt\"]== True]\n",
    "comp_mbsc = compulsory_enc[compulsory_enc[\"mbsc\"]== True]\n",
    "comp_mma = compulsory_enc[compulsory_enc[\"mma\"]== True]\n",
    "comp_mmmath = compulsory_enc[compulsory_enc[\"mmmath\"]== True]\n",
    "comp_mnbi = compulsory_enc[compulsory_enc[\"mnbi\"]== True] \n",
    "comp_mnbu = compulsory_enc[compulsory_enc[\"mnbu\"]== True]\n",
    "comp_mnmu = compulsory_enc[compulsory_enc[\"mnmu\"]== True]  \n",
    "comp_mnph = compulsory_enc[compulsory_enc[\"mnph\"]== True] \n",
    "comp_mnst = compulsory_enc[compulsory_enc[\"mnst\"]== True]\n",
    "comp_orco = compulsory_enc[compulsory_enc[\"orco\"] == True] \n",
    "comp_ords = compulsory_enc[compulsory_enc[\"ords\"] == True]\n",
    "comp_ormsc = compulsory_enc[compulsory_enc[\"ormsc\"] == True]\n",
    "comp_orwr = compulsory_enc[compulsory_enc[\"orwr\"] == True]\n",
    "comp_stds = compulsory_enc[compulsory_enc[\"stds\"] == True]\n",
    "comp_storft = compulsory_enc[compulsory_enc[\"storft\"] == True]  \n",
    "comp_storpt = compulsory_enc[compulsory_enc[\"storpt\"] == True] "
   ]
  },
  {
   "cell_type": "markdown",
   "metadata": {},
   "source": [
    "# Courses within each category"
   ]
  },
  {
   "cell_type": "code",
   "execution_count": 8,
   "metadata": {},
   "outputs": [
    {
     "name": "stderr",
     "output_type": "stream",
     "text": [
      "C:\\Users\\Mayez Harris\\AppData\\Local\\Temp\\ipykernel_24344\\3141802257.py:2: SettingWithCopyWarning: \n",
      "A value is trying to be set on a copy of a slice from a DataFrame.\n",
      "Try using .loc[row_indexer,col_indexer] = value instead\n",
      "\n",
      "See the caveats in the documentation: https://pandas.pydata.org/pandas-docs/stable/user_guide/indexing.html#returning-a-view-versus-a-copy\n",
      "  data[column] = data[column].str.split(\", \")\n"
     ]
    }
   ],
   "source": [
    "category_enc = one_hot_list(enc_tt, \"Categories\")"
   ]
  },
  {
   "cell_type": "code",
   "execution_count": 9,
   "metadata": {},
   "outputs": [],
   "source": [
    "categories = list(category_enc.columns)[11:]"
   ]
  },
  {
   "cell_type": "code",
   "execution_count": 10,
   "metadata": {},
   "outputs": [],
   "source": [
    "algebra_courses = category_enc[category_enc[\"Algebra\"] == True]\n",
    "analysis_courses = category_enc[category_enc[\"Analysis\"] == True]\n",
    "app_comp_courses = category_enc[category_enc[\"Applied & Computational\"] == True]\n",
    "data_science_courses = category_enc[category_enc[\"Data Science\"] == True]\n",
    "financial_courses = category_enc[category_enc[\"Financial\"] == True]\n",
    "geom_top_courses = category_enc[category_enc[\"Geometry & Topology\"] == True]\n",
    "mat_phys_courses = category_enc[category_enc[\"Mathematical Physics\"] == True]\n",
    "opt_or_courses = category_enc[category_enc[\"Optimization & Operational Research\"] == True]\n",
    "probability_courses = category_enc[category_enc[\"Probability\"] == True]\n",
    "statistics_courses = category_enc[category_enc[\"Statistics\"] == True]"
   ]
  },
  {
   "cell_type": "markdown",
   "metadata": {},
   "source": [
    "# Courses in Aggregated Categories\n",
    "\n",
    "### Stage 1"
   ]
  },
  {
   "cell_type": "code",
   "execution_count": 11,
   "metadata": {},
   "outputs": [
    {
     "name": "stderr",
     "output_type": "stream",
     "text": [
      "C:\\Users\\Mayez Harris\\AppData\\Local\\Temp\\ipykernel_24344\\3141802257.py:2: SettingWithCopyWarning: \n",
      "A value is trying to be set on a copy of a slice from a DataFrame.\n",
      "Try using .loc[row_indexer,col_indexer] = value instead\n",
      "\n",
      "See the caveats in the documentation: https://pandas.pydata.org/pandas-docs/stable/user_guide/indexing.html#returning-a-view-versus-a-copy\n",
      "  data[column] = data[column].str.split(\", \")\n"
     ]
    }
   ],
   "source": [
    "agg_category_enc = one_hot_list(enc_tt, \"Aggregated Categories\")"
   ]
  },
  {
   "cell_type": "code",
   "execution_count": 12,
   "metadata": {},
   "outputs": [],
   "source": [
    "agg_algebra_courses = agg_category_enc[agg_category_enc[\"Algebra\"] == True]\n",
    "agg_analysis_courses = agg_category_enc[agg_category_enc[\"Analysis\"] == True]\n",
    "agg_app_comp_courses = agg_category_enc[agg_category_enc[\"Applied & Computational\"] == True]\n",
    "agg_data_decisions_courses = agg_category_enc[agg_category_enc[\"Data & Decisions\"] == True]\n",
    "agg_geom_top_courses = agg_category_enc[agg_category_enc[\"Geometry & Topology\"] == True]\n",
    "agg_mat_phys_courses = agg_category_enc[agg_category_enc[\"Mathematical Physics\"] == True]"
   ]
  },
  {
   "cell_type": "markdown",
   "metadata": {},
   "source": [
    "### Stage 2"
   ]
  },
  {
   "cell_type": "code",
   "execution_count": 13,
   "metadata": {},
   "outputs": [
    {
     "name": "stderr",
     "output_type": "stream",
     "text": [
      "C:\\Users\\Mayez Harris\\AppData\\Local\\Temp\\ipykernel_24344\\3141802257.py:2: SettingWithCopyWarning: \n",
      "A value is trying to be set on a copy of a slice from a DataFrame.\n",
      "Try using .loc[row_indexer,col_indexer] = value instead\n",
      "\n",
      "See the caveats in the documentation: https://pandas.pydata.org/pandas-docs/stable/user_guide/indexing.html#returning-a-view-versus-a-copy\n",
      "  data[column] = data[column].str.split(\", \")\n"
     ]
    }
   ],
   "source": [
    "AP_category_enc = one_hot_list(enc_tt, \"Applied/Pure\")"
   ]
  },
  {
   "cell_type": "code",
   "execution_count": 14,
   "metadata": {},
   "outputs": [],
   "source": [
    "applied_courses = AP_category_enc[AP_category_enc[\"Applied\"] == True]\n",
    "pure_courses = AP_category_enc[AP_category_enc[\"Pure\"] == True]"
   ]
  },
  {
   "cell_type": "markdown",
   "metadata": {},
   "source": [
    "### Courses with only 1 workshop for everyone"
   ]
  },
  {
   "cell_type": "code",
   "execution_count": 15,
   "metadata": {},
   "outputs": [],
   "source": [
    "enc_tt_ws = enc_tt_data.drop_duplicates(subset = [\"course_classtype\"])\n",
    "\n",
    "enc_tt_ws = enc_tt_ws[enc_tt_ws[\"Number Of Teaching Weeks\"] > 1]\n",
    "\n",
    "enc_tt_ws_filtered = enc_tt_ws.loc[enc_tt_ws[\"ws_groups\"].fillna(\"-1\").str.contains(\"ws_00\")]"
   ]
  },
  {
   "cell_type": "code",
   "execution_count": 16,
   "metadata": {},
   "outputs": [
    {
     "name": "stderr",
     "output_type": "stream",
     "text": [
      "C:\\Users\\Mayez Harris\\AppData\\Local\\Temp\\ipykernel_24344\\3141802257.py:2: SettingWithCopyWarning: \n",
      "A value is trying to be set on a copy of a slice from a DataFrame.\n",
      "Try using .loc[row_indexer,col_indexer] = value instead\n",
      "\n",
      "See the caveats in the documentation: https://pandas.pydata.org/pandas-docs/stable/user_guide/indexing.html#returning-a-view-versus-a-copy\n",
      "  data[column] = data[column].str.split(\", \")\n"
     ]
    }
   ],
   "source": [
    "category_enc_ws = one_hot_list(enc_tt_ws_filtered, \"Categories\")\n",
    "\n",
    "\n",
    "algebra_courses_ws = category_enc_ws[category_enc_ws[\"Algebra\"] == True]\n",
    "analysis_courses_ws = category_enc_ws[category_enc_ws[\"Analysis\"] == True]\n",
    "app_comp_courses_ws = category_enc_ws[category_enc_ws[\"Applied & Computational\"] == True]\n",
    "data_science_courses_ws = category_enc_ws[category_enc_ws[\"Data Science\"] == True]\n",
    "financial_courses_ws = category_enc_ws[category_enc_ws[\"Financial\"] == True]\n",
    "geom_top_courses_ws = category_enc_ws[category_enc_ws[\"Geometry & Topology\"] == True]\n",
    "mat_phys_courses_ws = category_enc_ws[category_enc_ws[\"Mathematical Physics\"] == True]\n",
    "opt_or_courses_ws = category_enc_ws[category_enc_ws[\"Optimization & Operational Research\"] == True]\n",
    "probability_courses_ws = category_enc_ws[category_enc_ws[\"Probability\"] == True]\n",
    "statistics_courses_ws = category_enc_ws[category_enc_ws[\"Statistics\"] == True]"
   ]
  },
  {
   "cell_type": "code",
   "execution_count": 17,
   "metadata": {},
   "outputs": [
    {
     "name": "stderr",
     "output_type": "stream",
     "text": [
      "C:\\Users\\Mayez Harris\\AppData\\Local\\Temp\\ipykernel_24344\\3141802257.py:2: SettingWithCopyWarning: \n",
      "A value is trying to be set on a copy of a slice from a DataFrame.\n",
      "Try using .loc[row_indexer,col_indexer] = value instead\n",
      "\n",
      "See the caveats in the documentation: https://pandas.pydata.org/pandas-docs/stable/user_guide/indexing.html#returning-a-view-versus-a-copy\n",
      "  data[column] = data[column].str.split(\", \")\n"
     ]
    }
   ],
   "source": [
    "agg_category_enc_ws = one_hot_list(enc_tt_ws_filtered, \"Aggregated Categories\")\n",
    "\n",
    "agg_algebra_courses_ws = agg_category_enc_ws[agg_category_enc_ws[\"Algebra\"] == True]\n",
    "agg_analysis_courses_ws = agg_category_enc_ws[agg_category_enc_ws[\"Analysis\"] == True]\n",
    "agg_app_comp_courses_ws = agg_category_enc_ws[agg_category_enc_ws[\"Applied & Computational\"] == True]\n",
    "agg_data_decisions_courses_ws = agg_category_enc_ws[agg_category_enc_ws[\"Data & Decisions\"] == True]\n",
    "agg_geom_top_courses_ws = agg_category_enc_ws[agg_category_enc_ws[\"Geometry & Topology\"] == True]\n",
    "agg_mat_phys_courses_ws = agg_category_enc_ws[agg_category_enc_ws[\"Mathematical Physics\"] == True]"
   ]
  },
  {
   "cell_type": "code",
   "execution_count": 18,
   "metadata": {},
   "outputs": [
    {
     "name": "stderr",
     "output_type": "stream",
     "text": [
      "C:\\Users\\Mayez Harris\\AppData\\Local\\Temp\\ipykernel_24344\\3141802257.py:2: SettingWithCopyWarning: \n",
      "A value is trying to be set on a copy of a slice from a DataFrame.\n",
      "Try using .loc[row_indexer,col_indexer] = value instead\n",
      "\n",
      "See the caveats in the documentation: https://pandas.pydata.org/pandas-docs/stable/user_guide/indexing.html#returning-a-view-versus-a-copy\n",
      "  data[column] = data[column].str.split(\", \")\n"
     ]
    }
   ],
   "source": [
    "AP_category_enc_ws = one_hot_list(enc_tt_ws_filtered, \"Applied/Pure\")\n",
    "\n",
    "applied_courses_ws = AP_category_enc_ws[AP_category_enc_ws[\"Applied\"] == True]\n",
    "pure_courses_ws = AP_category_enc_ws[AP_category_enc_ws[\"Pure\"] == True]"
   ]
  },
  {
   "cell_type": "markdown",
   "metadata": {},
   "source": [
    "# Sets of Rooms"
   ]
  },
  {
   "cell_type": "code",
   "execution_count": 19,
   "metadata": {},
   "outputs": [],
   "source": [
    "room_data = pd.read_excel(\"Processed Data/encoded_room_data.xlsx\")"
   ]
  },
  {
   "cell_type": "code",
   "execution_count": 20,
   "metadata": {},
   "outputs": [],
   "source": [
    "all_rooms = room_data\n",
    "lecture_theatres = room_data[room_data[\"layout_theatre\"] == True]\n",
    "classrooms = room_data[(room_data[\"layout_classroom\"] | room_data[\"layout_boardroom\"])]\n",
    "comp_labs = room_data[room_data[\"layout_comp_lab\"] == True]\n",
    "\n",
    "pseudo_lec_theatres = [\"JCMB_1501\", \"JCMB_5326\", \"JCMB_5327\", \"JCMB_5328\", \"MH_G.31\", \"40GS_13.07\", \"7-8CS1.01\", \"AT_2.05\", \"CMB_Seminar Room 5\"]"
   ]
  },
  {
   "cell_type": "markdown",
   "metadata": {},
   "source": [
    "# Writing to txt"
   ]
  },
  {
   "cell_type": "markdown",
   "metadata": {},
   "source": [
    "### The general lists of values and names"
   ]
  },
  {
   "cell_type": "code",
   "execution_count": 21,
   "metadata": {},
   "outputs": [],
   "source": [
    "proc_tt = pd.read_excel(\"Processed Data/encoded_timetable_data.xlsx\").copy()\n",
    "proc_tt.drop(proc_tt.index[proc_tt.Code == \"MATH11220\"].tolist(), inplace = True)\n",
    "courses_unique = proc_tt.drop_duplicates(subset = [\"Code\"])\n",
    "courses_unique.columns\n",
    "\n",
    "days = [\"Monday\", \"Tuesday\", \"Wednesday\", \"Thursday\", \"Friday\"]\n",
    "periods = ['1', '2', '3', '4', '5', '6', '7', '8', '9', \n",
    "           '10', '11', '12', '13', '14', '15', '16', '17', '18']"
   ]
  },
  {
   "cell_type": "markdown",
   "metadata": {},
   "source": [
    "### Functions to write different things"
   ]
  },
  {
   "cell_type": "code",
   "execution_count": 22,
   "metadata": {},
   "outputs": [],
   "source": [
    "def write_col(df, col, title, list_of_lists = False):\n",
    "    if list_of_lists == False:\n",
    "        output = f\"{title}: [ \" + \" \".join('\"' + value + '\"' for value in list(df[col].astype(str).values)) + \" ]\\n\\n\"\n",
    "    elif list_of_lists == True:\n",
    "        output = \"[ \" + \" \".join('\"' + value + '\"' for value in list(df[col].astype(str).values)) + \" ]\\n\"\n",
    "    return output\n",
    "\n",
    "def write_lolol(df, col1, col2):\n",
    "    grouped_lists = df.groupby(col2)[col1].apply(list)\n",
    "    inner_lists = []\n",
    "    for values_list in grouped_lists.values:\n",
    "        inner_lists.append(f\"[{' '.join(map(str, values_list))}]\")\n",
    "    output = f'[{\"  \".join(inner_lists)}]\\n'\n",
    "    return output\n",
    "    \n",
    "\n",
    "def write_num_col(df, col, title):\n",
    "    file.write(f\"{title}: [\")\n",
    "    np.savetxt(file, df[col].values, fmt='%s', delimiter=' ', newline=\" \")\n",
    "    file.write(\"]\\n\\n\")\n",
    "\n",
    "def write_list(lst, title):\n",
    "    output = f\"{title}: [ \" + \" \".join('\"' + value + '\"' for value in lst) + \" ]\\n\\n\"\n",
    "    return output"
   ]
  },
  {
   "cell_type": "markdown",
   "metadata": {},
   "source": [
    "### Dictionaries for different txt files"
   ]
  },
  {
   "cell_type": "code",
   "execution_count": 23,
   "metadata": {},
   "outputs": [],
   "source": [
    "course_categories_dict = {\n",
    "    \"algebra_courses\": algebra_courses,\n",
    "    \"analysis_courses\": analysis_courses,\n",
    "    \"app_comp_courses\": app_comp_courses,\n",
    "    \"data_science_courses\": data_science_courses,\n",
    "    \"financial_courses\": financial_courses,\n",
    "    \"geom_top_courses\": geom_top_courses,\n",
    "    \"mat_phys_courses\": mat_phys_courses,\n",
    "    \"opt_or_courses\": opt_or_courses,\n",
    "    \"probability_courses\": probability_courses,\n",
    "    \"statistics_courses\": statistics_courses\n",
    "}\n",
    "\n",
    "course_categories_ws_dict = {\n",
    "    \"algebra_courses_ws\": algebra_courses_ws,\n",
    "    \"analysis_courses_ws\": analysis_courses_ws,\n",
    "    \"app_comp_courses_ws\": app_comp_courses_ws,\n",
    "    \"data_science_courses_ws\": data_science_courses_ws,\n",
    "    \"financial_courses_ws\": financial_courses_ws,\n",
    "    \"geom_top_courses_ws\": geom_top_courses_ws,\n",
    "    \"mat_phys_courses_ws\": mat_phys_courses_ws,\n",
    "    \"opt_or_courses_ws\": opt_or_courses_ws,\n",
    "    \"probability_courses_ws\": probability_courses_ws,\n",
    "    \"statistics_courses_ws\": statistics_courses_ws\n",
    "}\n"
   ]
  },
  {
   "cell_type": "code",
   "execution_count": 24,
   "metadata": {},
   "outputs": [],
   "source": [
    "agg_categories_dict = {\n",
    "    \"agg_algebra_courses\": agg_algebra_courses,\n",
    "    \"agg_analysis_courses\": agg_analysis_courses,\n",
    "    \"agg_app_comp_courses\": agg_app_comp_courses,\n",
    "    \"agg_data_decisions_courses\": agg_data_decisions_courses,\n",
    "    \"agg_geom_top_courses\": agg_geom_top_courses,\n",
    "    \"agg_mat_phys_courses\": agg_mat_phys_courses\n",
    "}\n",
    "\n",
    "agg_categories_ws_dict = {\n",
    "    \"algebra_courses_ws\": agg_algebra_courses_ws,\n",
    "    \"analysis_courses_ws\": agg_analysis_courses_ws,\n",
    "    \"app_comp_courses_ws\": agg_app_comp_courses_ws,\n",
    "    \"data_decisions_courses_ws\": agg_data_decisions_courses_ws,\n",
    "    \"geom_top_courses_ws\": agg_geom_top_courses_ws,\n",
    "    \"mat_phys_courses_ws\": agg_mat_phys_courses_ws\n",
    "}\n",
    "\n",
    "\n",
    "AP_categories_dict = {\n",
    "    \"applied_courses\": applied_courses,\n",
    "    \"pure_courses\": pure_courses\n",
    "}\n",
    "\n",
    "AP_categories_ws_dict = {\n",
    "    \"applied_courses_ws\": applied_courses_ws,\n",
    "    \"pure_courses_ws\": pure_courses_ws\n",
    "}"
   ]
  },
  {
   "cell_type": "code",
   "execution_count": 25,
   "metadata": {},
   "outputs": [],
   "source": [
    "course_compulsory_dict = {\n",
    "    \"comp_ambsc\": comp_ambsc,\n",
    "    \"comp_ammmath\": comp_ammmath,\n",
    "    \"comp_cammsc\": comp_cammsc,\n",
    "    \"comp_cmfft\": comp_cmfft,\n",
    "    \"comp_cmfpt\": comp_cmfpt,\n",
    "    \"comp_fmoft\": comp_fmoft,\n",
    "    \"comp_fmopt\": comp_fmopt,\n",
    "    \"comp_mbsc\": comp_mbsc,\n",
    "    \"comp_mma\": comp_mma,\n",
    "    \"comp_mmmath\": comp_mmmath,\n",
    "    \"comp_mnbi\": comp_mnbi,\n",
    "    \"comp_mnbu\": comp_mnbu,\n",
    "    \"comp_mnmu\": comp_mnmu,\n",
    "    \"comp_mnph\": comp_mnph,\n",
    "    \"comp_mnst\": comp_mnst,\n",
    "    \"comp_orco\": comp_orco,\n",
    "    \"comp_ords\": comp_ords,\n",
    "    \"comp_ormsc\": comp_ormsc,\n",
    "    \"comp_orwr\": comp_orwr,\n",
    "    \"comp_stds\": comp_stds,\n",
    "    \"comp_storft\": comp_storft,\n",
    "    \"comp_storpt\": comp_storpt\n",
    "}"
   ]
  },
  {
   "cell_type": "markdown",
   "metadata": {},
   "source": [
    "### Just performing checks on which columns to include"
   ]
  },
  {
   "cell_type": "code",
   "execution_count": 26,
   "metadata": {},
   "outputs": [
    {
     "data": {
      "text/plain": [
       "Index(['ambsc', 'ammmath', 'cammsc', 'cmfft', 'cmfpt', 'fmoft', 'fmopt',\n",
       "       'mbsc', 'mma', 'mmmath', 'mnbi', 'mnbu', 'mnmu', 'mnph', 'mnst', 'orco',\n",
       "       'ords', 'ormsc', 'orwr', 'stds', 'storft', 'storpt'],\n",
       "      dtype='object')"
      ]
     },
     "execution_count": 26,
     "metadata": {},
     "output_type": "execute_result"
    }
   ],
   "source": [
    "compulsory_enc.columns[-22:]"
   ]
  },
  {
   "cell_type": "code",
   "execution_count": 27,
   "metadata": {},
   "outputs": [
    {
     "data": {
      "text/plain": [
       "Index(['Algebra', 'Analysis', 'Applied & Computational', 'Data Science',\n",
       "       'Financial', 'Geometry & Topology', 'Mathematical Physics',\n",
       "       'Optimization & Operational Research', 'Probability', 'Statistics'],\n",
       "      dtype='object')"
      ]
     },
     "execution_count": 27,
     "metadata": {},
     "output_type": "execute_result"
    }
   ],
   "source": [
    "category_enc.columns[-10:]"
   ]
  },
  {
   "cell_type": "code",
   "execution_count": 28,
   "metadata": {},
   "outputs": [
    {
     "data": {
      "text/plain": [
       "Index(['Algebra', 'Analysis', 'Applied & Computational', 'Data & Decisions',\n",
       "       'Geometry & Topology', 'Mathematical Physics'],\n",
       "      dtype='object')"
      ]
     },
     "execution_count": 28,
     "metadata": {},
     "output_type": "execute_result"
    }
   ],
   "source": [
    "agg_category_enc.columns[-6:]"
   ]
  },
  {
   "cell_type": "code",
   "execution_count": 29,
   "metadata": {},
   "outputs": [
    {
     "data": {
      "text/plain": [
       "Index(['Applied', 'Pure'], dtype='object')"
      ]
     },
     "execution_count": 29,
     "metadata": {},
     "output_type": "execute_result"
    }
   ],
   "source": [
    "AP_category_enc.columns[-2:]"
   ]
  },
  {
   "cell_type": "markdown",
   "metadata": {},
   "source": [
    "## Writing the actual files\n",
    "\n",
    "### The full and original data"
   ]
  },
  {
   "cell_type": "code",
   "execution_count": 30,
   "metadata": {},
   "outputs": [],
   "source": [
    "output_file = f\"Xpress Data/xpress_data_original.txt\"\n",
    "\n",
    "# Writing to the file\n",
    "with open(output_file, 'w') as file:\n",
    "\n",
    "    file.write(write_list(days, \"days\"))\n",
    "    file.write(write_list(periods, \"time_periods\"))\n",
    "    file.write(write_list(list(compulsory_enc.columns)[-22:], \"DegreeProgrammes\"))\n",
    "    file.write(write_list(list(category_enc.columns)[-10:], \"Categories\"))\n",
    "    file.write(\"\\n\\n\")\n",
    "\n",
    "    file.write(write_col(courses_unique, \"Code\", \"CourseID\"))\n",
    "    file.write(write_col(courses_unique, \"Abbreviated Course Name\", \"CourseName\"))\n",
    "    write_num_col(courses_unique, \"enrollment_number\", \"EnrollmentNumber\")\n",
    "    file.write(\"\\n\\n\")\n",
    "\n",
    "\n",
    "    file.write(\"CategoryCourseGroupings: [\\n\")\n",
    "    for category, category_df in course_categories_dict.items():\n",
    "        file.write(write_lolol(category_df, \"Code\", \"encoded_year_taken\"))\n",
    "    file.write(\"]\")\n",
    "    file.write(\"\\n\\n\")\n",
    "\n",
    "    file.write(\"CategoryGroupingsWorkshop: [\\n\")\n",
    "    for category, category_df in course_categories_ws_dict.items():\n",
    "        file.write(write_lolol(category_df, \"Code\", \"encoded_year_taken\"))\n",
    "    file.write(\"]\")\n",
    "    file.write(\"\\n\\n\\n\")\n",
    "\n",
    "    file.write(\"CompulsoryCourseGroupings: [\\n\")\n",
    "    for comp_degree, compulsory_df in course_compulsory_dict.items(): \n",
    "        file.write(write_lolol(compulsory_df, \"Code\", \"Normal Year Taken\"))\n",
    "    file.write(\"]\")\n",
    "    file.write(\"\\n\\n\\n\")\n",
    "\n",
    "\n",
    "    file.write(write_col(all_rooms, \"room_name\", \"Rooms\"))\n",
    "    file.write(write_col(all_rooms, \"room_layout\", \"RoomType\"))\n",
    "    write_num_col(all_rooms, \"capacity\", \"RoomCapacities\")\n",
    "    file.write(\"\\n\\n\")\n",
    "\n",
    "    file.write(write_col(lecture_theatres, \"room_name\", \"RoomsLecture\"))\n",
    "    file.write(write_list(pseudo_lec_theatres, \"PseudoLecTheatres\"))\n",
    "    file.write(write_col(classrooms, \"room_name\", \"RoomsClassroom\"))\n",
    "    file.write(write_col(comp_labs, \"room_name\", \"RoomsCompWorkshop\"))"
   ]
  },
  {
   "cell_type": "markdown",
   "metadata": {},
   "source": [
    "### Aggregated categories (stage 1)"
   ]
  },
  {
   "cell_type": "code",
   "execution_count": 31,
   "metadata": {},
   "outputs": [],
   "source": [
    "output_file = f\"Xpress Data/xpress_data_agg_cats.txt\"\n",
    "\n",
    "# Writing to the file\n",
    "with open(output_file, 'w') as file:\n",
    "\n",
    "    file.write(write_list(days, \"days\"))\n",
    "    file.write(write_list(periods, \"time_periods\"))\n",
    "    file.write(write_list(list(compulsory_enc.columns)[-22:], \"DegreeProgrammes\"))\n",
    "    file.write(write_list(list(agg_category_enc.columns)[-6:], \"Categories\"))\n",
    "    file.write(\"\\n\\n\")\n",
    "\n",
    "    file.write(write_col(courses_unique, \"Code\", \"CourseID\"))\n",
    "    file.write(write_col(courses_unique, \"Abbreviated Course Name\", \"CourseName\"))\n",
    "    write_num_col(courses_unique, \"enrollment_number\", \"EnrollmentNumber\")\n",
    "    file.write(\"\\n\\n\")\n",
    "\n",
    "\n",
    "    file.write(\"CategoryCourseGroupings: [\\n\")\n",
    "    for category, category_df in agg_categories_dict.items():\n",
    "        file.write(write_lolol(category_df, \"Code\", \"encoded_year_taken\"))\n",
    "    file.write(\"]\")\n",
    "    file.write(\"\\n\\n\")\n",
    "\n",
    "    file.write(\"CategoryGroupingsWorkshop: [\\n\")\n",
    "    for category, category_df in agg_categories_ws_dict.items():\n",
    "        file.write(write_lolol(category_df, \"Code\", \"encoded_year_taken\"))\n",
    "    file.write(\"]\")\n",
    "    file.write(\"\\n\\n\\n\")\n",
    "\n",
    "    file.write(\"CompulsoryCourseGroupings: [\\n\")\n",
    "    for comp_degree, compulsory_df in course_compulsory_dict.items(): \n",
    "        file.write(write_lolol(compulsory_df, \"Code\", \"Normal Year Taken\"))\n",
    "    file.write(\"]\")\n",
    "    file.write(\"\\n\\n\\n\")\n",
    "\n",
    "\n",
    "    file.write(write_col(all_rooms, \"room_name\", \"Rooms\"))\n",
    "    file.write(write_col(all_rooms, \"room_layout\", \"RoomType\"))\n",
    "    write_num_col(all_rooms, \"capacity\", \"RoomCapacities\")\n",
    "    file.write(\"\\n\\n\")\n",
    "\n",
    "    file.write(write_col(lecture_theatres, \"room_name\", \"RoomsLecture\"))\n",
    "    file.write(write_list(pseudo_lec_theatres, \"PseudoLecTheatres\"))\n",
    "    file.write(write_col(classrooms, \"room_name\", \"RoomsClassroom\"))\n",
    "    file.write(write_col(comp_labs, \"room_name\", \"RoomsCompWorkshop\"))"
   ]
  },
  {
   "cell_type": "markdown",
   "metadata": {},
   "source": [
    "### Aggregated Categories (stage 2)"
   ]
  },
  {
   "cell_type": "code",
   "execution_count": 32,
   "metadata": {},
   "outputs": [],
   "source": [
    "output_file = f\"Xpress Data/xpress_data_AP_cats.txt\"\n",
    "\n",
    "# Writing to the file\n",
    "with open(output_file, 'w') as file:\n",
    "\n",
    "    file.write(write_list(days, \"days\"))\n",
    "    file.write(write_list(periods, \"time_periods\"))\n",
    "    file.write(write_list(list(compulsory_enc.columns)[-22:], \"DegreeProgrammes\"))\n",
    "    file.write(write_list(list(AP_category_enc_ws.columns)[-2:], \"Categories\"))\n",
    "    file.write(\"\\n\\n\")\n",
    "\n",
    "    file.write(write_col(courses_unique, \"Code\", \"CourseID\"))\n",
    "    file.write(write_col(courses_unique, \"Abbreviated Course Name\", \"CourseName\"))\n",
    "    write_num_col(courses_unique, \"enrollment_number\", \"EnrollmentNumber\")\n",
    "    file.write(\"\\n\\n\")\n",
    "\n",
    "\n",
    "    file.write(\"CategoryCourseGroupings: [\\n\")\n",
    "    for category, category_df in AP_categories_dict.items():\n",
    "        file.write(write_lolol(category_df, \"Code\", \"encoded_year_taken\"))\n",
    "    file.write(\"]\")\n",
    "    file.write(\"\\n\\n\")\n",
    "\n",
    "    file.write(\"CategoryGroupingsWorkshop: [\\n\")\n",
    "    for category, category_df in AP_categories_ws_dict.items():\n",
    "        file.write(write_lolol(category_df, \"Code\", \"encoded_year_taken\"))\n",
    "    file.write(\"]\")\n",
    "    file.write(\"\\n\\n\\n\")\n",
    "\n",
    "    file.write(\"CompulsoryCourseGroupings: [\\n\")\n",
    "    for comp_degree, compulsory_df in course_compulsory_dict.items(): \n",
    "        file.write(write_lolol(compulsory_df, \"Code\", \"Normal Year Taken\"))\n",
    "    file.write(\"]\")\n",
    "    file.write(\"\\n\\n\\n\")\n",
    "\n",
    "\n",
    "    file.write(write_col(all_rooms, \"room_name\", \"Rooms\"))\n",
    "    file.write(write_col(all_rooms, \"room_layout\", \"RoomType\"))\n",
    "    write_num_col(all_rooms, \"capacity\", \"RoomCapacities\")\n",
    "    file.write(\"\\n\\n\")\n",
    "\n",
    "    file.write(write_col(lecture_theatres, \"room_name\", \"RoomsLecture\"))\n",
    "    file.write(write_list(pseudo_lec_theatres, \"PseudoLecTheatres\"))\n",
    "    file.write(write_col(classrooms, \"room_name\", \"RoomsClassroom\"))\n",
    "    file.write(write_col(comp_labs, \"room_name\", \"RoomsCompWorkshop\"))"
   ]
  }
 ],
 "metadata": {
  "kernelspec": {
   "display_name": "Python 3",
   "language": "python",
   "name": "python3"
  },
  "language_info": {
   "codemirror_mode": {
    "name": "ipython",
    "version": 3
   },
   "file_extension": ".py",
   "mimetype": "text/x-python",
   "name": "python",
   "nbconvert_exporter": "python",
   "pygments_lexer": "ipython3",
   "version": "3.8.5"
  }
 },
 "nbformat": 4,
 "nbformat_minor": 2
}
