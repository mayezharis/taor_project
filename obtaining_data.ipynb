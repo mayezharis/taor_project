{
 "cells": [
  {
   "cell_type": "code",
   "execution_count": 78,
   "metadata": {},
   "outputs": [],
   "source": [
    "import pandas as pd\n",
    "import numpy as np"
   ]
  },
  {
   "cell_type": "code",
   "execution_count": 79,
   "metadata": {},
   "outputs": [],
   "source": [
    "def one_hot_list(data, column, prefix=None):\n",
    "    data[column] = data[column].str.split(\", \")\n",
    "    data = data.explode(column)\n",
    "    data_enc = pd.get_dummies(data[column], prefix=prefix)\n",
    "    encoded_data = pd.concat([data, data_enc], axis=1)\n",
    "    return encoded_data"
   ]
  },
  {
   "cell_type": "markdown",
   "metadata": {},
   "source": [
    "# Courses compulsory for each degree"
   ]
  },
  {
   "cell_type": "code",
   "execution_count": 80,
   "metadata": {},
   "outputs": [],
   "source": [
    "enrol_nums_data = pd.read_excel(\"Raw Data/Course Enrollment Numbers.xlsx\", sheet_name=\"abbreviated course names\")"
   ]
  },
  {
   "cell_type": "code",
   "execution_count": 81,
   "metadata": {},
   "outputs": [],
   "source": [
    "enrol_nums_data.to_excel(\"Processed Data/web_scraped_data.xlsx\", index = False)"
   ]
  },
  {
   "cell_type": "code",
   "execution_count": 82,
   "metadata": {},
   "outputs": [],
   "source": [
    "enc_tt_data = pd.read_excel(\"Processed Data/encoded_timetable_data.xlsx\")\n",
    "\n",
    "enc_tt_data = enc_tt_data[enc_tt_data['enrollment_number'] > 0]\n",
    "\n",
    "enc_tt = enc_tt_data.drop_duplicates(subset = [\"Code\"])"
   ]
  },
  {
   "cell_type": "code",
   "execution_count": 83,
   "metadata": {},
   "outputs": [
    {
     "name": "stderr",
     "output_type": "stream",
     "text": [
      "<ipython-input-79-6d4a8d5a498f>:2: SettingWithCopyWarning: \n",
      "A value is trying to be set on a copy of a slice from a DataFrame.\n",
      "Try using .loc[row_indexer,col_indexer] = value instead\n",
      "\n",
      "See the caveats in the documentation: https://pandas.pydata.org/pandas-docs/stable/user_guide/indexing.html#returning-a-view-versus-a-copy\n",
      "  data[column] = data[column].str.split(\", \")\n"
     ]
    }
   ],
   "source": [
    "\n",
    "compulsory_enc = one_hot_list(enc_tt, \"Degrees Compulsory For\")\n",
    "# compulsory_enc.to_excel(\"compulsory_encoded.xlsx\", index = False)"
   ]
  },
  {
   "cell_type": "code",
   "execution_count": 84,
   "metadata": {},
   "outputs": [],
   "source": [
    "# list(compulsory_enc.columns)[11:]"
   ]
  },
  {
   "cell_type": "markdown",
   "metadata": {},
   "source": [
    "## Write the course codes from the above datasets into a list of lists to the txt file"
   ]
  },
  {
   "cell_type": "code",
   "execution_count": 85,
   "metadata": {},
   "outputs": [],
   "source": [
    "comp_ambsc = compulsory_enc[compulsory_enc[\"ambsc\"] == True] \n",
    "comp_ammmath = compulsory_enc[compulsory_enc[\"ammmath\"]== True]\n",
    "comp_cammsc = compulsory_enc[compulsory_enc[\"cammsc\"]== True]\n",
    "comp_cmfft = compulsory_enc[compulsory_enc[\"cmfft\"]== True]\n",
    "comp_cmfpt = compulsory_enc[compulsory_enc[\"cmfpt\"]== True]\n",
    "comp_fmoft = compulsory_enc[compulsory_enc[\"fmoft\"]== True] \n",
    "comp_fmopt = compulsory_enc[compulsory_enc[\"fmopt\"]== True]\n",
    "comp_mbsc = compulsory_enc[compulsory_enc[\"mbsc\"]== True]\n",
    "comp_mma = compulsory_enc[compulsory_enc[\"mma\"]== True]\n",
    "comp_mmmath = compulsory_enc[compulsory_enc[\"mmmath\"]== True]\n",
    "comp_mnbi = compulsory_enc[compulsory_enc[\"mnbi\"]== True] \n",
    "comp_mnbu = compulsory_enc[compulsory_enc[\"mnbu\"]== True]\n",
    "comp_mnmu = compulsory_enc[compulsory_enc[\"mnmu\"]== True]  \n",
    "comp_mnph = compulsory_enc[compulsory_enc[\"mnph\"]== True] \n",
    "comp_mnst = compulsory_enc[compulsory_enc[\"mnst\"]== True]\n",
    "comp_orco = compulsory_enc[compulsory_enc[\"orco\"] == True] \n",
    "comp_ords = compulsory_enc[compulsory_enc[\"ords\"] == True]\n",
    "comp_ormsc = compulsory_enc[compulsory_enc[\"ormsc\"] == True]\n",
    "comp_orwr = compulsory_enc[compulsory_enc[\"orwr\"] == True]\n",
    "comp_stds = compulsory_enc[compulsory_enc[\"stds\"] == True]\n",
    "comp_storft = compulsory_enc[compulsory_enc[\"storft\"] == True]  \n",
    "comp_storpt = compulsory_enc[compulsory_enc[\"storpt\"] == True] "
   ]
  },
  {
   "cell_type": "markdown",
   "metadata": {},
   "source": [
    "# Courses within each category"
   ]
  },
  {
   "cell_type": "code",
   "execution_count": 86,
   "metadata": {},
   "outputs": [
    {
     "name": "stderr",
     "output_type": "stream",
     "text": [
      "<ipython-input-79-6d4a8d5a498f>:2: SettingWithCopyWarning: \n",
      "A value is trying to be set on a copy of a slice from a DataFrame.\n",
      "Try using .loc[row_indexer,col_indexer] = value instead\n",
      "\n",
      "See the caveats in the documentation: https://pandas.pydata.org/pandas-docs/stable/user_guide/indexing.html#returning-a-view-versus-a-copy\n",
      "  data[column] = data[column].str.split(\", \")\n"
     ]
    }
   ],
   "source": [
    "category_enc = one_hot_list(enc_tt, \"Categories\")"
   ]
  },
  {
   "cell_type": "code",
   "execution_count": 87,
   "metadata": {},
   "outputs": [],
   "source": [
    "categories = list(category_enc.columns)[11:]"
   ]
  },
  {
   "cell_type": "code",
   "execution_count": 88,
   "metadata": {},
   "outputs": [],
   "source": [
    "algebra_courses = category_enc[category_enc[\"Algebra\"] == True]\n",
    "analysis_courses = category_enc[category_enc[\"Analysis\"] == True]\n",
    "app_comp_courses = category_enc[category_enc[\"Applied & Computational\"] == True]\n",
    "data_science_courses = category_enc[category_enc[\"Data Science\"] == True]\n",
    "financial_courses = category_enc[category_enc[\"Financial\"] == True]\n",
    "geom_top_courses = category_enc[category_enc[\"Geometry & Topology\"] == True]\n",
    "mat_phys_courses = category_enc[category_enc[\"Mathematical Physics\"] == True]\n",
    "opt_or_courses = category_enc[category_enc[\"Optimization & Operational Research\"] == True]\n",
    "probability_courses = category_enc[category_enc[\"Probability\"] == True]\n",
    "statistics_courses = category_enc[category_enc[\"Statistics\"] == True]"
   ]
  },
  {
   "cell_type": "markdown",
   "metadata": {},
   "source": [
    "# Testing"
   ]
  },
  {
   "cell_type": "code",
   "execution_count": 89,
   "metadata": {},
   "outputs": [],
   "source": [
    "# enc_tt_grouped = enc_tt.sort_values(by=[\"ws_groups\"])"
   ]
  },
  {
   "cell_type": "markdown",
   "metadata": {},
   "source": [
    "# Sets of Rooms"
   ]
  },
  {
   "cell_type": "code",
   "execution_count": 90,
   "metadata": {},
   "outputs": [],
   "source": [
    "room_data = pd.read_excel(\"Processed Data/encoded_room_data.xlsx\")"
   ]
  },
  {
   "cell_type": "code",
   "execution_count": 91,
   "metadata": {},
   "outputs": [],
   "source": [
    "all_rooms = room_data\n",
    "lecture_theatres = room_data[room_data[\"layout_theatre\"] == True]\n",
    "classrooms = room_data[(room_data[\"layout_classroom\"] | room_data[\"layout_boardroom\"])]\n",
    "comp_labs = room_data[room_data[\"layout_comp_lab\"] == True]\n",
    "\n",
    "pseudo_lec_theatres = [\"JCMB_1501\", \"JCMB_5326\", \"JCMB_5327\", \"JCMB_5328\", \"MH_G.31\", \"40GS_13.07\", \"7-8CS1.01\", \"AT_2.05\", \"CMB_Seminar Room 5\"]"
   ]
  },
  {
   "cell_type": "markdown",
   "metadata": {},
   "source": [
    "## Capacities and Enrollment Numbers"
   ]
  },
  {
   "cell_type": "markdown",
   "metadata": {},
   "source": [
    "# Writing to txt"
   ]
  },
  {
   "cell_type": "code",
   "execution_count": 92,
   "metadata": {},
   "outputs": [],
   "source": [
    "proc_tt = pd.read_excel(\"Processed Data/encoded_timetable_data.xlsx\").copy()\n",
    "proc_tt.drop(proc_tt.index[proc_tt.Code == \"MATH11220\"].tolist(), inplace = True)\n",
    "courses_unique = proc_tt.drop_duplicates(subset = [\"Code\"])\n",
    "courses_unique.columns\n",
    "\n",
    "days = [\"Monday\", \"Tuesday\", \"Wednesday\", \"Thursday\", \"Friday\"]\n",
    "periods = ['1', '2', '3', '4', '5', '6', '7', '8', '9', \n",
    "           '10', '11', '12', '13', '14', '15', '16', '17', '18']"
   ]
  },
  {
   "cell_type": "code",
   "execution_count": 93,
   "metadata": {},
   "outputs": [],
   "source": [
    "# test_grouping  = comp_ambsc.groupby('Normal Year Taken')['Code'].agg(list)\n",
    "\n",
    "# test_grouping.to_dict()"
   ]
  },
  {
   "cell_type": "code",
   "execution_count": 94,
   "metadata": {},
   "outputs": [],
   "source": [
    "def write_col(df, col, title, list_of_lists = False):\n",
    "    if list_of_lists == False:\n",
    "        output = f\"{title}: [ \" + \" \".join('\"' + value + '\"' for value in list(df[col].astype(str).values)) + \" ]\\n\\n\"\n",
    "    elif list_of_lists == True:\n",
    "        output = \"[ \" + \" \".join('\"' + value + '\"' for value in list(df[col].astype(str).values)) + \" ]\\n\"\n",
    "    return output\n",
    "\n",
    "def write_lolol(df, col1, col2):\n",
    "    grouped_lists = df.groupby(col2)[col1].apply(list)\n",
    "    inner_lists = []\n",
    "    for values_list in grouped_lists.values:\n",
    "        inner_lists.append(f\"[{' '.join(map(str, values_list))}]\")\n",
    "    output = f'[{\"  \".join(inner_lists)}]\\n'\n",
    "    return output\n",
    "    \n",
    "\n",
    "def write_num_col(df, col, title):\n",
    "    file.write(f\"{title}: [\")\n",
    "    np.savetxt(file, df[col].values, fmt='%s', delimiter=' ', newline=\" \")\n",
    "    file.write(\"]\\n\\n\")\n",
    "\n",
    "def write_list(lst, title):\n",
    "    output = f\"{title}: [ \" + \" \".join('\"' + value + '\"' for value in lst) + \" ]\\n\\n\"\n",
    "    return output"
   ]
  },
  {
   "cell_type": "markdown",
   "metadata": {},
   "source": [
    "## Replacing P with 5 in the Normal Year Taken column"
   ]
  },
  {
   "cell_type": "code",
   "execution_count": 95,
   "metadata": {},
   "outputs": [
    {
     "name": "stderr",
     "output_type": "stream",
     "text": [
      "/opt/anaconda3/lib/python3.8/site-packages/pandas/core/indexing.py:1765: SettingWithCopyWarning: \n",
      "A value is trying to be set on a copy of a slice from a DataFrame.\n",
      "Try using .loc[row_indexer,col_indexer] = value instead\n",
      "\n",
      "See the caveats in the documentation: https://pandas.pydata.org/pandas-docs/stable/user_guide/indexing.html#returning-a-view-versus-a-copy\n",
      "  isetter(loc, value)\n"
     ]
    }
   ],
   "source": [
    "enc_tt.loc[(enc_tt[\"Normal Year Taken\"] == \"P\"), \"Normal Year Taken\"] = 5"
   ]
  },
  {
   "cell_type": "code",
   "execution_count": 96,
   "metadata": {},
   "outputs": [],
   "source": [
    "course_categories_dict = {\n",
    "    \"algebra_courses\": algebra_courses,\n",
    "    \"analysis_courses\": analysis_courses,\n",
    "    \"app_comp_courses\": app_comp_courses,\n",
    "    \"data_science_courses\": data_science_courses,\n",
    "    \"financial_courses\": financial_courses,\n",
    "    \"geom_top_courses\": geom_top_courses,\n",
    "    \"mat_phys_courses\": mat_phys_courses,\n",
    "    \"opt_or_courses\": opt_or_courses,\n",
    "    \"probability_courses\": probability_courses,\n",
    "    \"statistics_courses\": statistics_courses\n",
    "}\n",
    "\n",
    "course_compulsory_dict = {\n",
    "    \"comp_ambsc\": comp_ambsc,\n",
    "    \"comp_ammmath\": comp_ammmath,\n",
    "    \"comp_cammsc\": comp_cammsc,\n",
    "    \"comp_cmfft\": comp_cmfft,\n",
    "    \"comp_cmfpt\": comp_cmfpt,\n",
    "    \"comp_fmoft\": comp_fmoft,\n",
    "    \"comp_fmopt\": comp_fmopt,\n",
    "    \"comp_mbsc\": comp_mbsc,\n",
    "    \"comp_mma\": comp_mma,\n",
    "    \"comp_mmmath\": comp_mmmath,\n",
    "    \"comp_mnbi\": comp_mnbi,\n",
    "    \"comp_mnbu\": comp_mnbu,\n",
    "    \"comp_mnmu\": comp_mnmu,\n",
    "    \"comp_mnph\": comp_mnph,\n",
    "    \"comp_mnst\": comp_mnst,\n",
    "    \"comp_orco\": comp_orco,\n",
    "    \"comp_ords\": comp_ords,\n",
    "    \"comp_ormsc\": comp_ormsc,\n",
    "    \"comp_orwr\": comp_orwr,\n",
    "    \"comp_stds\": comp_stds,\n",
    "    \"comp_storft\": comp_storft,\n",
    "    \"comp_storpt\": comp_storpt\n",
    "}"
   ]
  },
  {
   "cell_type": "code",
   "execution_count": 97,
   "metadata": {},
   "outputs": [
    {
     "data": {
      "text/plain": [
       "Index(['ambsc', 'ammmath', 'cammsc', 'cmfft', 'cmfpt', 'fmoft', 'fmopt',\n",
       "       'mbsc', 'mma', 'mmmath', 'mnbi', 'mnbu', 'mnmu', 'mnph', 'mnst', 'orco',\n",
       "       'ords', 'ormsc', 'orwr', 'stds', 'storft', 'storpt'],\n",
       "      dtype='object')"
      ]
     },
     "execution_count": 97,
     "metadata": {},
     "output_type": "execute_result"
    }
   ],
   "source": [
    "compulsory_enc.columns[-22:]"
   ]
  },
  {
   "cell_type": "code",
   "execution_count": 98,
   "metadata": {},
   "outputs": [
    {
     "data": {
      "text/plain": [
       "Index(['Algebra', 'Analysis', 'Applied & Computational', 'Data Science',\n",
       "       'Financial', 'Geometry & Topology', 'Mathematical Physics',\n",
       "       'Optimization & Operational Research', 'Probability', 'Statistics'],\n",
       "      dtype='object')"
      ]
     },
     "execution_count": 98,
     "metadata": {},
     "output_type": "execute_result"
    }
   ],
   "source": [
    "category_enc.columns[-10:]"
   ]
  },
  {
   "cell_type": "markdown",
   "metadata": {},
   "source": [
    "## GROUPED"
   ]
  },
  {
   "cell_type": "code",
   "execution_count": 100,
   "metadata": {},
   "outputs": [],
   "source": [
    "output_file = f\"xpress_data.txt\"\n",
    "\n",
    "# Writing to the file\n",
    "with open(output_file, 'w') as file:\n",
    "\n",
    "    file.write(write_list(days, \"days\"))\n",
    "    file.write(write_list(periods, \"time_periods\"))\n",
    "    file.write(write_list(list(compulsory_enc.columns)[-22:], \"DegreeProgrammes\"))\n",
    "    file.write(write_list(list(category_enc.columns)[-10:], \"Categories\"))\n",
    "    file.write(\"\\n\\n\")\n",
    "\n",
    "    file.write(write_col(courses_unique, \"Code\", \"CourseID\"))\n",
    "    file.write(write_col(courses_unique, \"Abbreviated Course Name\", \"CourseName\"))\n",
    "    write_num_col(courses_unique, \"enrollment_number\", \"EnrollmentNumber\")\n",
    "    file.write(\"\\n\\n\")\n",
    "\n",
    "\n",
    "    file.write(\"CategoryCourseGroupings: [\\n\")\n",
    "    for category, category_df in course_categories_dict.items():\n",
    "        file.write(write_lolol(category_df, \"Code\", \"encoded_year_taken\"))\n",
    "    file.write(\"]\")\n",
    "    file.write(\"\\n\\n\")\n",
    "\n",
    "    file.write(\"CompulsoryCourseGroupings: [\\n\")\n",
    "    for comp_degree, compulsory_df in course_compulsory_dict.items(): \n",
    "        file.write(write_lolol(compulsory_df, \"Code\", \"Normal Year Taken\"))\n",
    "    file.write(\"]\")\n",
    "    file.write(\"\\n\\n\\n\")\n",
    "\n",
    "\n",
    "    file.write(write_col(all_rooms, \"room_name\", \"Rooms\"))\n",
    "    file.write(write_col(all_rooms, \"room_layout\", \"RoomType\"))\n",
    "    write_num_col(all_rooms, \"capacity\", \"RoomCapacities\")\n",
    "    file.write(\"\\n\\n\")\n",
    "\n",
    "    file.write(write_col(lecture_theatres, \"room_name\", \"RoomsLecture\"))\n",
    "    file.write(write_list(pseudo_lec_theatres, \"PseudoLecTheatres\"))\n",
    "    file.write(write_col(classrooms, \"room_name\", \"RoomsClassroom\"))\n",
    "    file.write(write_col(comp_labs, \"room_name\", \"RoomsCompWorkshop\"))"
   ]
  },
  {
   "cell_type": "code",
   "execution_count": 66,
   "metadata": {},
   "outputs": [],
   "source": [
    "# output_file = f\"xpress_data.txt\"\n",
    "\n",
    "# # Writing to the file\n",
    "# with open(output_file, 'w') as file:\n",
    "\n",
    "#     file.write(write_list(days, \"days\"))\n",
    "#     file.write(write_list(periods, \"time_periods\"))\n",
    "#     file.write(write_list(list(compulsory_enc.columns)[-22:], \"DegreeProgrammes\"))\n",
    "#     file.write(write_list(list(category_enc.columns)[-10:], \"Categories\"))\n",
    "#     file.write(\"\\n\\n\")\n",
    "\n",
    "#     file.write(write_col(courses_unique, \"Code\", \"CourseID\"))\n",
    "#     file.write(write_col(courses_unique, \"Abbreviated Course Name\", \"CourseName\"))\n",
    "#     write_num_col(courses_unique, \"enrollment_number\", \"EnrollmentNumber\")\n",
    "#     file.write(\"\\n\\n\")\n",
    "\n",
    "\n",
    "#     file.write(\"CategoryCourseGroupings: [\\n\")\n",
    "#     for category, category_df in course_categories_dict.items():\n",
    "#         file.write(write_lolol(category_df, \"Code\", \"Normal Year Taken\"))\n",
    "#     file.write(\"]\")\n",
    "#     file.write(\"\\n\\n\")\n",
    "\n",
    "#     file.write(\"CompulsoryCourseGroupings: [\\n\")\n",
    "#     for comp_degree, compulsory_df in course_compulsory_dict.items(): \n",
    "#         file.write(write_lolol(compulsory_df, \"Code\", \"Normal Year Taken\"))\n",
    "#     file.write(\"]\")\n",
    "#     file.write(\"\\n\\n\\n\")\n",
    "\n",
    "\n",
    "#     file.write(write_col(all_rooms, \"room_name\", \"Rooms\"))\n",
    "#     file.write(write_col(all_rooms, \"room_layout\", \"RoomType\"))\n",
    "#     write_num_col(all_rooms, \"capacity\", \"RoomCapacities\")\n",
    "#     file.write(\"\\n\\n\")\n",
    "\n",
    "#     file.write(write_col(lecture_theatres, \"room_name\", \"RoomsLecture\"))\n",
    "#     file.write(write_list(pseudo_lec_theatres, \"PseudoLecTheatres\"))\n",
    "#     file.write(write_col(classrooms, \"room_name\", \"RoomsClassroom\"))\n",
    "#     file.write(write_col(comp_labs, \"room_name\", \"RoomsCompWorkshop\"))"
   ]
  },
  {
   "cell_type": "markdown",
   "metadata": {},
   "source": [
    "## UNGROUPED"
   ]
  },
  {
   "cell_type": "code",
   "execution_count": 31,
   "metadata": {},
   "outputs": [],
   "source": [
    "output_file = f\"xpress_test_data.txt\"\n",
    "\n",
    "# Writing to the file\n",
    "with open(output_file, 'w') as file:\n",
    "\n",
    "    file.write(write_list(days, \"days\"))\n",
    "    file.write(write_list(periods, \"time_periods\"))\n",
    "    file.write(write_list(list(compulsory_enc.columns)[-22:], \"DegreeProgrammes\"))\n",
    "    file.write(write_list(list(category_enc.columns)[-10:], \"Categories\"))\n",
    "    file.write(\"\\n\\n\")\n",
    "\n",
    "    file.write(write_col(courses_unique, \"Code\", \"CourseID\"))\n",
    "    file.write(write_col(courses_unique, \"Abbreviated Course Name\", \"CourseName\"))\n",
    "    write_num_col(courses_unique, \"enrollment_number\", \"EnrollmentNumber\")\n",
    "    file.write(\"\\n\\n\")\n",
    "\n",
    "\n",
    "\n",
    "    file.write(\"CategoryCourseGroupings: [\\n\")\n",
    "    for category, category_df in course_categories_dict.items():\n",
    "        file.write(write_col(category_df, \"Code\", category, list_of_lists=True))\n",
    "    file.write(\"]\")\n",
    "    file.write(\"\\n\\n\")\n",
    "\n",
    "    file.write(\"CompulsoryCourseGroupings: [\\n\")\n",
    "    for comp_degree, compulsory_df in course_compulsory_dict.items(): \n",
    "        file.write(write_col(compulsory_df, \"Code\", comp_degree, list_of_lists=True))\n",
    "    file.write(\"]\")\n",
    "\n",
    "    file.write(\"\\n\\n\")\n",
    "\n",
    "    file.write(write_col(all_rooms, \"room_name\", \"Rooms\"))\n",
    "    file.write(write_col(all_rooms, \"room_layout\", \"RoomType\"))\n",
    "    write_num_col(all_rooms, \"capacity\", \"RoomCapacities\")\n",
    "    file.write(\"\\n\\n\")\n",
    "\n",
    "    file.write(write_col(lecture_theatres, \"room_name\", \"RoomsLecture\"))\n",
    "    file.write(write_list(pseudo_lec_theatres, \"PseudoLecTheatres\"))\n",
    "    file.write(write_col(classrooms, \"room_name\", \"RoomsClassroom\"))\n",
    "    file.write(write_col(comp_labs, \"room_name\", \"RoomsCompWorkshop\"))"
   ]
  }
 ],
 "metadata": {
  "kernelspec": {
   "display_name": "Python 3",
   "language": "python",
   "name": "python3"
  },
  "language_info": {
   "codemirror_mode": {
    "name": "ipython",
    "version": 3
   },
   "file_extension": ".py",
   "mimetype": "text/x-python",
   "name": "python",
   "nbconvert_exporter": "python",
   "pygments_lexer": "ipython3",
   "version": "3.8.5"
  }
 },
 "nbformat": 4,
 "nbformat_minor": 2
}
