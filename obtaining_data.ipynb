{
 "cells": [
  {
   "cell_type": "code",
   "execution_count": 1,
   "metadata": {},
   "outputs": [],
   "source": [
    "import pandas as pd"
   ]
  },
  {
   "cell_type": "code",
   "execution_count": 2,
   "metadata": {},
   "outputs": [],
   "source": [
    "def one_hot_list(data, column, prefix=None):\n",
    "    data[column] = data[column].str.split(\", \")\n",
    "    data = data.explode(column)\n",
    "    data_enc = pd.get_dummies(data[column], prefix=prefix)\n",
    "    encoded_data = pd.concat([data, data_enc], axis=1)\n",
    "    return encoded_data"
   ]
  },
  {
   "cell_type": "markdown",
   "metadata": {},
   "source": [
    "# Courses compulsory for each degree"
   ]
  },
  {
   "cell_type": "code",
   "execution_count": 3,
   "metadata": {},
   "outputs": [],
   "source": [
    "enrol_nums_data = pd.read_excel(\"Raw Data/Course Enrollment Numbers.xlsx\", sheet_name=\"abbreviated course names\")"
   ]
  },
  {
   "cell_type": "code",
   "execution_count": 4,
   "metadata": {},
   "outputs": [],
   "source": [
    "enrol_nums_data.to_excel(\"Processed Data/web_scraped_data.xlsx\", index = False)"
   ]
  },
  {
   "cell_type": "code",
   "execution_count": 59,
   "metadata": {},
   "outputs": [],
   "source": [
    "compulsory_enc = one_hot_list(enrol_nums_data, \"Degrees Compulsory For\")\n",
    "# compulsory_enc.to_excel(\"compulsory_encoded.xlsx\", index = False)"
   ]
  },
  {
   "cell_type": "code",
   "execution_count": 60,
   "metadata": {},
   "outputs": [
    {
     "data": {
      "text/plain": [
       "['ambsc',\n",
       " 'ammmath',\n",
       " 'cammsc',\n",
       " 'cmfft',\n",
       " 'cmfpt',\n",
       " 'fmoft',\n",
       " 'fmopt',\n",
       " 'mbsc',\n",
       " 'mma',\n",
       " 'mmmath',\n",
       " 'mnbi',\n",
       " 'mnbu',\n",
       " 'mnmu',\n",
       " 'mnph',\n",
       " 'mnst',\n",
       " 'orco',\n",
       " 'ords',\n",
       " 'ormsc',\n",
       " 'orwr',\n",
       " 'stds',\n",
       " 'storft',\n",
       " 'storpt']"
      ]
     },
     "execution_count": 60,
     "metadata": {},
     "output_type": "execute_result"
    }
   ],
   "source": [
    "list(compulsory_enc.columns)[11:]"
   ]
  },
  {
   "cell_type": "code",
   "execution_count": 61,
   "metadata": {},
   "outputs": [],
   "source": [
    "comp_ambsc = compulsory_enc[compulsory_enc[\"ambsc\"] == True] \n",
    "comp_ammmath = compulsory_enc[compulsory_enc[\"ammmath\"] == True]\n",
    "comp_cammsc = compulsory_enc[compulsory_enc[\"cammsc\"] == True]\n",
    "comp_cmfft = compulsory_enc[compulsory_enc[\"cmfft\"] == True]\n",
    "comp_cmfpt = compulsory_enc[compulsory_enc[\"cmfpt\"] == True]\n",
    "comp_fmoft = compulsory_enc[compulsory_enc[\"fmoft\"] == True] \n",
    "comp_fmopt = compulsory_enc[compulsory_enc[\"fmopt\"] == True]\n",
    "comp_mbsc = compulsory_enc[compulsory_enc[\"mbsc\"] == True]\n",
    "comp_mma = compulsory_enc[compulsory_enc[\"mma\"] == True]\n",
    "comp_mmmath = compulsory_enc[compulsory_enc[\"mmmath\"] == True]\n",
    "comp_mnbi = compulsory_enc[compulsory_enc[\"mnbi\"] == True] \n",
    "comp_mnbu = compulsory_enc[compulsory_enc[\"mnbu\"] == True]\n",
    "comp_mnmu = compulsory_enc[compulsory_enc[\"mnmu\"] == True]  \n",
    "comp_mnph = compulsory_enc[compulsory_enc[\"mnph\"] == True] \n",
    "comp_mnst = compulsory_enc[compulsory_enc[\"mnst\"] == True]\n",
    "comp_orco = compulsory_enc[compulsory_enc[\"orco\"] == True] \n",
    "comp_ords = compulsory_enc[compulsory_enc[\"ords\"] == True]\n",
    "comp_ormsc = compulsory_enc[compulsory_enc[\"ormsc\"] == True]\n",
    "comp_orwr = compulsory_enc[compulsory_enc[\"orwr\"] == True]\n",
    "comp_stds = compulsory_enc[compulsory_enc[\"stds\"] == True]\n",
    "comp_storft = compulsory_enc[compulsory_enc[\"storft\"] == True]  \n",
    "comp_storpt = compulsory_enc[compulsory_enc[\"storpt\"] == True] "
   ]
  },
  {
   "cell_type": "markdown",
   "metadata": {},
   "source": [
    "# Courses within each category"
   ]
  },
  {
   "cell_type": "code",
   "execution_count": 27,
   "metadata": {},
   "outputs": [],
   "source": [
    "category_enc = one_hot_list(enrol_nums_data, \"Categories\")"
   ]
  },
  {
   "cell_type": "code",
   "execution_count": 28,
   "metadata": {},
   "outputs": [
    {
     "data": {
      "text/plain": [
       "['Algebra',\n",
       " 'Analysis',\n",
       " 'Applied & Computational',\n",
       " 'Data Science',\n",
       " 'Financial',\n",
       " 'Geometry & Topology',\n",
       " 'Mathematical Physics',\n",
       " 'Optimization & Operational Research',\n",
       " 'Probability',\n",
       " 'Statistics']"
      ]
     },
     "execution_count": 28,
     "metadata": {},
     "output_type": "execute_result"
    }
   ],
   "source": [
    "list(category_enc.columns)[11:]"
   ]
  },
  {
   "cell_type": "code",
   "execution_count": 31,
   "metadata": {},
   "outputs": [],
   "source": [
    "algebra_courses = category_enc[category_enc[\"Algebra\"] == True]\n",
    "analysis_courses = category_enc[category_enc[\"Analysis\"] == True]\n",
    "app_comp_courses = category_enc[category_enc[\"Applied & Computational\"] == True]\n",
    "data_science_courses = category_enc[category_enc[\"Data Science\"] == True]\n",
    "financial_courses = category_enc[category_enc[\"Financial\"] == True]\n",
    "geom_top_courses = category_enc[category_enc[\"Geometry & Topology\"] == True]\n",
    "mat_phys_courses = category_enc[category_enc[\"Mathematical Physics\"] == True]\n",
    "opt_or_courses = category_enc[category_enc[\"Optimization & Operational Research\"] == True]\n",
    "probability_courses = category_enc[category_enc[\"Probability\"] == True]\n",
    "statistics_courses = category_enc[category_enc[\"Statistics\"] == True]"
   ]
  },
  {
   "cell_type": "markdown",
   "metadata": {},
   "source": [
    "# Testing"
   ]
  },
  {
   "cell_type": "code",
   "execution_count": 5,
   "metadata": {},
   "outputs": [],
   "source": [
    "enc_tt_data = pd.read_excel(\"Processed Data/encoded_timetable_data.xlsx\")"
   ]
  },
  {
   "cell_type": "code",
   "execution_count": 48,
   "metadata": {},
   "outputs": [],
   "source": [
    "enc_tt_grouped = enc_tt_data.sort_values(by=[\"ws_groups\"])"
   ]
  },
  {
   "cell_type": "code",
   "execution_count": null,
   "metadata": {},
   "outputs": [],
   "source": []
  }
 ],
 "metadata": {
  "kernelspec": {
   "display_name": "Python 3",
   "language": "python",
   "name": "python3"
  },
  "language_info": {
   "codemirror_mode": {
    "name": "ipython",
    "version": 3
   },
   "file_extension": ".py",
   "mimetype": "text/x-python",
   "name": "python",
   "nbconvert_exporter": "python",
   "pygments_lexer": "ipython3",
   "version": "3.11.8"
  }
 },
 "nbformat": 4,
 "nbformat_minor": 2
}
