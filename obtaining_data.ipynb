{
 "cells": [
  {
   "cell_type": "code",
   "execution_count": 45,
   "metadata": {},
   "outputs": [],
   "source": [
    "import pandas as pd\n",
    "import numpy as np"
   ]
  },
  {
   "cell_type": "code",
   "execution_count": 46,
   "metadata": {},
   "outputs": [],
   "source": [
    "def one_hot_list(data, column, prefix=None):\n",
    "    data[column] = data[column].str.split(\", \")\n",
    "    data = data.explode(column)\n",
    "    data_enc = pd.get_dummies(data[column], prefix=prefix)\n",
    "    encoded_data = pd.concat([data, data_enc], axis=1)\n",
    "    return encoded_data"
   ]
  },
  {
   "cell_type": "markdown",
   "metadata": {},
   "source": [
    "# Courses compulsory for each degree"
   ]
  },
  {
   "cell_type": "code",
   "execution_count": 47,
   "metadata": {},
   "outputs": [],
   "source": [
    "enrol_nums_data = pd.read_excel(\"Raw Data/Course Enrollment Numbers.xlsx\", sheet_name=\"abbreviated course names\")"
   ]
  },
  {
   "cell_type": "code",
   "execution_count": 48,
   "metadata": {},
   "outputs": [],
   "source": [
    "enrol_nums_data.to_excel(\"Processed Data/web_scraped_data.xlsx\", index = False)"
   ]
  },
  {
   "cell_type": "code",
   "execution_count": 49,
   "metadata": {},
   "outputs": [],
   "source": [
    "compulsory_enc = one_hot_list(enrol_nums_data, \"Degrees Compulsory For\")\n",
    "# compulsory_enc.to_excel(\"compulsory_encoded.xlsx\", index = False)"
   ]
  },
  {
   "cell_type": "code",
   "execution_count": 50,
   "metadata": {},
   "outputs": [
    {
     "data": {
      "text/plain": [
       "['ambsc',\n",
       " 'ammmath',\n",
       " 'cammsc',\n",
       " 'cmfft',\n",
       " 'cmfpt',\n",
       " 'fmoft',\n",
       " 'fmopt',\n",
       " 'mbsc',\n",
       " 'mma',\n",
       " 'mmmath',\n",
       " 'mnbi',\n",
       " 'mnbu',\n",
       " 'mnmu',\n",
       " 'mnph',\n",
       " 'mnst',\n",
       " 'orco',\n",
       " 'ords',\n",
       " 'ormsc',\n",
       " 'orwr',\n",
       " 'stds',\n",
       " 'storft',\n",
       " 'storpt']"
      ]
     },
     "execution_count": 50,
     "metadata": {},
     "output_type": "execute_result"
    }
   ],
   "source": [
    "list(compulsory_enc.columns)[11:]"
   ]
  },
  {
   "cell_type": "code",
   "execution_count": 51,
   "metadata": {},
   "outputs": [],
   "source": [
    "comp_ambsc = compulsory_enc[compulsory_enc[\"ambsc\"] == True] \n",
    "comp_ammmath = compulsory_enc[compulsory_enc[\"ammmath\"] == True]\n",
    "comp_cammsc = compulsory_enc[compulsory_enc[\"cammsc\"] == True]\n",
    "comp_cmfft = compulsory_enc[compulsory_enc[\"cmfft\"] == True]\n",
    "comp_cmfpt = compulsory_enc[compulsory_enc[\"cmfpt\"] == True]\n",
    "comp_fmoft = compulsory_enc[compulsory_enc[\"fmoft\"] == True] \n",
    "comp_fmopt = compulsory_enc[compulsory_enc[\"fmopt\"] == True]\n",
    "comp_mbsc = compulsory_enc[compulsory_enc[\"mbsc\"] == True]\n",
    "comp_mma = compulsory_enc[compulsory_enc[\"mma\"] == True]\n",
    "comp_mmmath = compulsory_enc[compulsory_enc[\"mmmath\"] == True]\n",
    "comp_mnbi = compulsory_enc[compulsory_enc[\"mnbi\"] == True] \n",
    "comp_mnbu = compulsory_enc[compulsory_enc[\"mnbu\"] == True]\n",
    "comp_mnmu = compulsory_enc[compulsory_enc[\"mnmu\"] == True]  \n",
    "comp_mnph = compulsory_enc[compulsory_enc[\"mnph\"] == True] \n",
    "comp_mnst = compulsory_enc[compulsory_enc[\"mnst\"] == True]\n",
    "comp_orco = compulsory_enc[compulsory_enc[\"orco\"] == True] \n",
    "comp_ords = compulsory_enc[compulsory_enc[\"ords\"] == True]\n",
    "comp_ormsc = compulsory_enc[compulsory_enc[\"ormsc\"] == True]\n",
    "comp_orwr = compulsory_enc[compulsory_enc[\"orwr\"] == True]\n",
    "comp_stds = compulsory_enc[compulsory_enc[\"stds\"] == True]\n",
    "comp_storft = compulsory_enc[compulsory_enc[\"storft\"] == True]  \n",
    "comp_storpt = compulsory_enc[compulsory_enc[\"storpt\"] == True] "
   ]
  },
  {
   "cell_type": "markdown",
   "metadata": {},
   "source": [
    "# Courses within each category"
   ]
  },
  {
   "cell_type": "code",
   "execution_count": 52,
   "metadata": {},
   "outputs": [],
   "source": [
    "category_enc = one_hot_list(enrol_nums_data, \"Categories\")"
   ]
  },
  {
   "cell_type": "code",
   "execution_count": 53,
   "metadata": {},
   "outputs": [
    {
     "data": {
      "text/plain": [
       "['Algebra',\n",
       " 'Analysis',\n",
       " 'Applied & Computational',\n",
       " 'Data Science',\n",
       " 'Financial',\n",
       " 'Geometry & Topology',\n",
       " 'Mathematical Physics',\n",
       " 'Optimization & Operational Research',\n",
       " 'Probability',\n",
       " 'Statistics']"
      ]
     },
     "execution_count": 53,
     "metadata": {},
     "output_type": "execute_result"
    }
   ],
   "source": [
    "list(category_enc.columns)[11:]"
   ]
  },
  {
   "cell_type": "code",
   "execution_count": 54,
   "metadata": {},
   "outputs": [],
   "source": [
    "algebra_courses = category_enc[category_enc[\"Algebra\"] == True]\n",
    "analysis_courses = category_enc[category_enc[\"Analysis\"] == True]\n",
    "app_comp_courses = category_enc[category_enc[\"Applied & Computational\"] == True]\n",
    "data_science_courses = category_enc[category_enc[\"Data Science\"] == True]\n",
    "financial_courses = category_enc[category_enc[\"Financial\"] == True]\n",
    "geom_top_courses = category_enc[category_enc[\"Geometry & Topology\"] == True]\n",
    "mat_phys_courses = category_enc[category_enc[\"Mathematical Physics\"] == True]\n",
    "opt_or_courses = category_enc[category_enc[\"Optimization & Operational Research\"] == True]\n",
    "probability_courses = category_enc[category_enc[\"Probability\"] == True]\n",
    "statistics_courses = category_enc[category_enc[\"Statistics\"] == True]\n"
   ]
  },
  {
   "cell_type": "markdown",
   "metadata": {},
   "source": [
    "# Testing"
   ]
  },
  {
   "cell_type": "code",
   "execution_count": 55,
   "metadata": {},
   "outputs": [],
   "source": [
    "enc_tt_data = pd.read_excel(\"Processed Data/encoded_timetable_data.xlsx\")"
   ]
  },
  {
   "cell_type": "code",
   "execution_count": 56,
   "metadata": {},
   "outputs": [],
   "source": [
    "enc_tt_grouped = enc_tt_data.sort_values(by=[\"ws_groups\"])"
   ]
  },
  {
   "cell_type": "markdown",
   "metadata": {},
   "source": [
    "# Sets of Rooms"
   ]
  },
  {
   "cell_type": "code",
   "execution_count": 57,
   "metadata": {},
   "outputs": [],
   "source": [
    "room_data = pd.read_excel(\"Processed Data/encoded_room_data.xlsx\")"
   ]
  },
  {
   "cell_type": "code",
   "execution_count": 58,
   "metadata": {},
   "outputs": [],
   "source": [
    "all_rooms = room_data\n",
    "lecture_theatres = room_data[room_data[\"layout_theatre\"]]\n",
    "classrooms = room_data[(room_data[\"layout_classroom\"] | room_data[\"layout_boardroom\"])]\n",
    "comp_labs = room_data[room_data[\"layout_comp_lab\"]]"
   ]
  },
  {
   "cell_type": "code",
   "execution_count": 59,
   "metadata": {},
   "outputs": [],
   "source": [
    "def write_rooms(room_type, type_name):\n",
    "    output = f\"{type_name}: [ \" + \" \".join('\"' + room + '\"' for room in list(room_type.room_name.values)) + \" ]\\n\\n\"\n",
    "    return output"
   ]
  },
  {
   "cell_type": "markdown",
   "metadata": {},
   "source": [
    "# Writing txt file"
   ]
  },
  {
   "cell_type": "code",
   "execution_count": 60,
   "metadata": {},
   "outputs": [
    {
     "data": {
      "text/plain": [
       "Index(['Course', 'Code', 'Linked Course', 'Activity', 'Activity Type Name',\n",
       "       'Planned Size', 'Real Size', 'Delivery Semester',\n",
       "       'Teaching Week Pattern', 'Number Of Teaching Weeks', 'Scheduled Days',\n",
       "       'Scheduled Start Time', 'Scheduled End Time', 'Duration', 'Total Hours',\n",
       "       'Zone Name', 'room_name', 'Delivery Period', 'Normal Year Taken',\n",
       "       'building', 'encoded_days', 'Abbreviated Course Name', 'time_periods',\n",
       "       'duration_hours', 'total_duration_hours', 'course_classtype',\n",
       "       'ws_groups', 'no_of_agg_ws_groups', 'aggregated_ws_groups',\n",
       "       'sem1_pattern_one_hot', 'sem2_pattern_one_hot'],\n",
       "      dtype='object')"
      ]
     },
     "execution_count": 60,
     "metadata": {},
     "output_type": "execute_result"
    }
   ],
   "source": [
    "proc_tt = pd.read_excel(\"Processed Data/encoded_timetable_data.xlsx\").copy()\n",
    "proc_tt.drop(proc_tt.index[proc_tt.Code == \"MATH11220\"].tolist(), inplace = True)\n",
    "courses_unique = proc_tt.drop_duplicates(subset = [\"Code\"])\n",
    "courses_unique.columns"
   ]
  },
  {
   "cell_type": "code",
   "execution_count": 64,
   "metadata": {},
   "outputs": [],
   "source": [
    "# Strings to be written before each array\n",
    "# File path\n",
    "output_file = f\"Course_groupings.txt\"\n",
    "\n",
    "# Writing to the file\n",
    "with open(output_file, 'w') as file:\n",
    "    # Write degree programmes\n",
    "    file.write(\"degree_programme_names: [\")\n",
    "    np.savetxt(file, list(compulsory_enc.columns)[11:], fmt='%s', delimiter=' ', newline=\" \")  # You can adjust fmt and delimiter as needed\n",
    "    file.write(\"] \\n \\n course_codes: [\")\n",
    "    np.savetxt(file, courses_unique.Code.values, fmt='%s', delimiter=' ', newline=\" \")\n",
    "    file.write(\"] \\n \\n course_names: [\")\n",
    "    np.savetxt(file, courses_unique['Abbreviated Course Name'].values, fmt='%s', delimiter=' ', newline=\" \")\n",
    "    file.write(\"] \\n \\n\")\n",
    "\n",
    "    # Write course groupings by subject\n",
    "    file.write(\" algebra_courses: [\")\n",
    "    np.savetxt(file, algebra_courses.Code.values, fmt='%s', delimiter=' ', newline=\" \")  # You can adjust fmt and delimiter as needed\n",
    "    file.write(\"] \\n \\n analysis_courses: [\")\n",
    "    np.savetxt(file, analysis_courses.Code.values, fmt='%s', delimiter=' ', newline=\" \")  \n",
    "    file.write(\"] \\n \\n app_comp_courses: [\")\n",
    "    np.savetxt(file, app_comp_courses.Code.values, fmt='%s', delimiter=' ', newline=\" \")  \n",
    "    file.write(\"] \\n \\n data_science_courses: [\")\n",
    "    np.savetxt(file, data_science_courses.Code.values, fmt='%s', delimiter=' ', newline=\" \")  \n",
    "    file.write(\"] \\n \\n financial_courses: [\")\n",
    "    np.savetxt(file, financial_courses.Code.values, fmt='%s', delimiter=' ', newline=\" \")  \n",
    "    file.write(\"] \\n \\n geom_top_courses: [\")\n",
    "    np.savetxt(file, geom_top_courses.Code.values, fmt='%s', delimiter=' ', newline=\" \")  \n",
    "    file.write(\"] \\n \\n mat_phys_courses: [\")\n",
    "    np.savetxt(file, mat_phys_courses.Code.values, fmt='%s', delimiter=' ', newline=\" \") \n",
    "    file.write(\"] \\n \\n opt_or_courses: [\")\n",
    "    np.savetxt(file, opt_or_courses.Code.values, fmt='%s', delimiter=' ', newline=\" \")\n",
    "    file.write(\"] \\n \\n probability_courses: [\")\n",
    "    np.savetxt(file, probability_courses.Code.values, fmt='%s', delimiter=' ', newline=\" \") \n",
    "    file.write(\"] \\n \\n statistics_courses: [\")\n",
    "    np.savetxt(file, statistics_courses.Code.values, fmt='%s', delimiter=' ', newline=\" \")  \n",
    "    file.write(\"] \\n \\n\")\n",
    "\n",
    "    # write compulsory courses for each degree programme\n",
    "    file.write(\" comp_ambsc: [\")\n",
    "    np.savetxt(file, comp_ambsc.Code.values, fmt='%s', delimiter=' ', newline=\" \")  # You can adjust fmt and delimiter as needed\n",
    "    file.write(\"] \\n \\n comp_ammmath: [\")\n",
    "    np.savetxt(file, comp_ammmath.Code.values, fmt='%s', delimiter=' ', newline=\" \")  # You can adjust fmt and delimiter as needed\n",
    "    file.write(\"] \\n \\n comp_cammsc: [\")\n",
    "    np.savetxt(file, comp_cammsc.Code.values, fmt='%s', delimiter=' ', newline=\" \")  # You can adjust fmt and delimiter as needed\n",
    "    file.write(\"] \\n \\n comp_cmfft: [\")\n",
    "    np.savetxt(file, comp_cmfft.Code.values, fmt='%s', delimiter=' ', newline=\" \")  # You can adjust fmt and delimiter as needed\n",
    "    file.write(\"] \\n \\n comp_cmfpt: [\")\n",
    "    np.savetxt(file, comp_cmfpt.Code.values, fmt='%s', delimiter=' ', newline=\" \")  # You can adjust fmt and delimiter as needed\n",
    "    file.write(\"] \\n \\n comp_fmoft: [\")\n",
    "    np.savetxt(file, comp_fmoft.Code.values, fmt='%s', delimiter=' ', newline=\" \")  # You can adjust fmt and delimiter as needed\n",
    "    file.write(\"] \\n \\n comp_fmopt: [\")\n",
    "    np.savetxt(file, comp_fmopt.Code.values, fmt='%s', delimiter=' ', newline=\" \")  # You can adjust fmt and delimiter as needed\n",
    "    file.write(\"] \\n \\n comp_mbsc: [\")\n",
    "    np.savetxt(file, comp_mbsc.Code.values, fmt='%s', delimiter=' ', newline=\" \")  # You can adjust fmt and delimiter as needed\n",
    "    file.write(\"] \\n \\n comp_mma: [\")\n",
    "    np.savetxt(file, comp_mma.Code.values, fmt='%s', delimiter=' ', newline=\" \")  # You can adjust fmt and delimiter as needed\n",
    "    file.write(\"] \\n \\n comp_mmmath: [\")\n",
    "    np.savetxt(file, comp_mmmath.Code.values, fmt='%s', delimiter=' ', newline=\" \")  # You can adjust fmt and delimiter as needed\n",
    "    file.write(\"] \\n \\n comp_mnbi: [\")\n",
    "    np.savetxt(file, comp_mnbi.Code.values, fmt='%s', delimiter=' ', newline=\" \")  # You can adjust fmt and delimiter as needed\n",
    "    file.write(\"] \\n \\n comp_mnbu: [\")\n",
    "    np.savetxt(file, comp_mnbu.Code.values, fmt='%s', delimiter=' ', newline=\" \")  # You can adjust fmt and delimiter as needed\n",
    "    file.write(\"] \\n \\n comp_mnmu: [\")\n",
    "    np.savetxt(file, comp_mnmu.Code.values, fmt='%s', delimiter=' ', newline=\" \")  # You can adjust fmt and delimiter as needed\n",
    "    file.write(\"] \\n \\n comp_mnph: [\")\n",
    "    np.savetxt(file, comp_mnph.Code.values, fmt='%s', delimiter=' ', newline=\" \")  # You can adjust fmt and delimiter as needed\n",
    "    file.write(\"] \\n \\n comp_mnst: [\")\n",
    "    np.savetxt(file, comp_mnst.Code.values, fmt='%s', delimiter=' ', newline=\" \")  # You can adjust fmt and delimiter as needed\n",
    "    file.write(\"] \\n \\n comp_orco: [\")\n",
    "    np.savetxt(file, comp_orco.Code.values, fmt='%s', delimiter=' ', newline=\" \")  # You can adjust fmt and delimiter as needed\n",
    "    file.write(\"] \\n \\n comp_ords: [\")\n",
    "    np.savetxt(file, comp_ords.Code.values, fmt='%s', delimiter=' ', newline=\" \")  # You can adjust fmt and delimiter as needed\n",
    "    file.write(\"] \\n \\n comp_ormsc: [\")\n",
    "    np.savetxt(file, comp_ormsc.Code.values, fmt='%s', delimiter=' ', newline=\" \")  # You can adjust fmt and delimiter as needed\n",
    "    file.write(\"] \\n \\n comp_orwr: [\")\n",
    "    np.savetxt(file, comp_orwr.Code.values, fmt='%s', delimiter=' ', newline=\" \")  # You can adjust fmt and delimiter as needed\n",
    "    file.write(\"] \\n \\n comp_stds: [\")\n",
    "    np.savetxt(file, comp_stds.Code.values, fmt='%s', delimiter=' ', newline=\" \")  # You can adjust fmt and delimiter as needed\n",
    "    file.write(\"] \\n \\n comp_storft: [\")\n",
    "    np.savetxt(file, comp_storft.Code.values, fmt='%s', delimiter=' ', newline=\" \")  # You can adjust fmt and delimiter as needed\n",
    "    file.write(\"] \\n \\n comp_storpt: [\")\n",
    "    np.savetxt(file, comp_storpt.Code.values, fmt='%s', delimiter=' ', newline=\" \")  # You can adjust fmt and delimiter as needed\n",
    "    file.write(\"] \\n \\n\")\n",
    "\n",
    "\n",
    "    file.write(write_rooms(all_rooms, \"all_rooms\"))\n",
    "    room_type_output = output = \"all_room_types: [ \" + \" \".join('\"' + room + '\"' for room in list(all_rooms.room_layout.values)) + \" ]\\n\\n\"\n",
    "    file.write(room_type_output)\n",
    "\n",
    "    file.write(write_rooms(lecture_theatres, \"lecture_theatres\"))\n",
    "    file.write(write_rooms(classrooms, \"classrooms\"))\n",
    "    file.write(write_rooms(comp_labs, \"comp_labs\"))"
   ]
  },
  {
   "cell_type": "code",
   "execution_count": null,
   "metadata": {},
   "outputs": [],
   "source": []
  },
  {
   "cell_type": "markdown",
   "metadata": {},
   "source": [
    "# Shortening txt code"
   ]
  },
  {
   "cell_type": "code",
   "execution_count": 62,
   "metadata": {},
   "outputs": [],
   "source": [
    "# courses_dict = {\n",
    "#     \"algebra_courses\": algebra_courses,\n",
    "#     \"analysis_courses\": analysis_courses,\n",
    "#     \"app_comp_courses\": app_comp_courses,\n",
    "#     \"data_science_courses\": data_science_courses,\n",
    "#     \"financial_courses\": financial_courses,\n",
    "#     \"geom_top_courses\": geom_top_courses,\n",
    "#     \"mat_phys_courses\": mat_phys_courses,\n",
    "#     \"opt_or_courses\": opt_or_courses,\n",
    "#     \"probability_courses\": probability_courses,\n",
    "#     \"statistics_courses\": statistics_courses\n",
    "# }\n",
    "\n",
    "# # Open the file for writing\n",
    "# with open(\"course_data.txt\", \"w\") as file:\n",
    "#     # Iterate over the dictionary items\n",
    "#     for course_name, course_df in courses_dict.items():\n",
    "#         # Write course name\n",
    "#         file.write(f\"{course_name}: [\")\n",
    "#         # Write course codes\n",
    "#         np.savetxt(file, course_df.Code.values, fmt='%s', delimiter=' ', newline=\" \")\n",
    "#         # Write newline and closing bracket\n",
    "#         file.write(\"]\\n\\n\")"
   ]
  }
 ],
 "metadata": {
  "kernelspec": {
   "display_name": "Python 3",
   "language": "python",
   "name": "python3"
  },
  "language_info": {
   "codemirror_mode": {
    "name": "ipython",
    "version": 3
   },
   "file_extension": ".py",
   "mimetype": "text/x-python",
   "name": "python",
   "nbconvert_exporter": "python",
   "pygments_lexer": "ipython3",
   "version": "3.11.8"
  }
 },
 "nbformat": 4,
 "nbformat_minor": 2
}
