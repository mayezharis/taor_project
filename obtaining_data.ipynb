{
 "cells": [
  {
   "cell_type": "code",
   "execution_count": 23,
   "metadata": {},
   "outputs": [],
   "source": [
    "import pandas as pd"
   ]
  },
  {
   "cell_type": "code",
   "execution_count": 24,
   "metadata": {},
   "outputs": [],
   "source": [
    "def one_hot_list(data, column, prefix=None):\n",
    "    data[column] = data[column].str.split(\", \")\n",
    "    data = data.explode(column)\n",
    "    data_enc = pd.get_dummies(data[column], prefix=prefix)\n",
    "    encoded_data = pd.concat([data, data_enc], axis=1)\n",
    "    return encoded_data"
   ]
  },
  {
   "cell_type": "markdown",
   "metadata": {},
   "source": [
    "# Courses compulsory for each degree"
   ]
  },
  {
   "cell_type": "code",
   "execution_count": 25,
   "metadata": {},
   "outputs": [],
   "source": [
    "enrol_nums_data = pd.read_excel(\"Raw Data/Course Enrollment Numbers.xlsx\", sheet_name=\"abbreviated course names\")"
   ]
  },
  {
   "cell_type": "code",
   "execution_count": 26,
   "metadata": {},
   "outputs": [],
   "source": [
    "compulsory_enc = one_hot_list(enrol_nums_data, \"Degrees Compulsory For\", prefix = \"compulsory\")\n",
    "# compulsory_enc.to_excel(\"compulsory_encoded.xlsx\", index = False)"
   ]
  },
  {
   "cell_type": "code",
   "execution_count": 49,
   "metadata": {},
   "outputs": [
    {
     "data": {
      "text/plain": [
       "['Delivery Period',\n",
       " 'Normal Year Taken',\n",
       " 'Code',\n",
       " 'Course',\n",
       " '20/21',\n",
       " '21/22',\n",
       " '22/23',\n",
       " 'Categories',\n",
       " 'Degrees Compulsory For',\n",
       " 'Abbreviated Course Name',\n",
       " 'Abbreviation key',\n",
       " 'compulsory_ambsc',\n",
       " 'compulsory_ammmath',\n",
       " 'compulsory_cammsc',\n",
       " 'compulsory_cmfft',\n",
       " 'compulsory_cmfpt',\n",
       " 'compulsory_fmoft',\n",
       " 'compulsory_fmopt',\n",
       " 'compulsory_mbsc',\n",
       " 'compulsory_mma',\n",
       " 'compulsory_mmmath',\n",
       " 'compulsory_mnbi',\n",
       " 'compulsory_mnbu',\n",
       " 'compulsory_mnmu',\n",
       " 'compulsory_mnph',\n",
       " 'compulsory_mnst',\n",
       " 'compulsory_orco',\n",
       " 'compulsory_ords',\n",
       " 'compulsory_ormsc',\n",
       " 'compulsory_orwr',\n",
       " 'compulsory_stds',\n",
       " 'compulsory_storft',\n",
       " 'compulsory_storpt']"
      ]
     },
     "execution_count": 49,
     "metadata": {},
     "output_type": "execute_result"
    }
   ],
   "source": [
    "list(compulsory_enc.columns)"
   ]
  },
  {
   "cell_type": "markdown",
   "metadata": {},
   "source": [
    "# Courses within each category"
   ]
  },
  {
   "cell_type": "code",
   "execution_count": 27,
   "metadata": {},
   "outputs": [],
   "source": [
    "category_enc = one_hot_list(enrol_nums_data, \"Categories\")"
   ]
  },
  {
   "cell_type": "code",
   "execution_count": 28,
   "metadata": {},
   "outputs": [
    {
     "data": {
      "text/plain": [
       "['Algebra',\n",
       " 'Analysis',\n",
       " 'Applied & Computational',\n",
       " 'Data Science',\n",
       " 'Financial',\n",
       " 'Geometry & Topology',\n",
       " 'Mathematical Physics',\n",
       " 'Optimization & Operational Research',\n",
       " 'Probability',\n",
       " 'Statistics']"
      ]
     },
     "execution_count": 28,
     "metadata": {},
     "output_type": "execute_result"
    }
   ],
   "source": [
    "list(category_enc.columns)[11:]"
   ]
  },
  {
   "cell_type": "code",
   "execution_count": 31,
   "metadata": {},
   "outputs": [],
   "source": [
    "algebra_courses = category_enc[category_enc[\"Algebra\"] == True]\n",
    "analysis_courses = category_enc[category_enc[\"Analysis\"] == True]\n",
    "app_comp_courses = category_enc[category_enc[\"Applied & Computational\"] == True]\n",
    "data_science_courses = category_enc[category_enc[\"Data Science\"] == True]\n",
    "financial_courses = category_enc[category_enc[\"Financial\"] == True]\n",
    "geom_top_courses = category_enc[category_enc[\"Geometry & Topology\"] == True]\n",
    "mat_phys_courses = category_enc[category_enc[\"Mathematical Physics\"] == True]\n",
    "opt_or_courses = category_enc[category_enc[\"Optimization & Operational Research\"] == True]\n",
    "probability_courses = category_enc[category_enc[\"Probability\"] == True]\n",
    "statistics_courses = category_enc[category_enc[\"Statistics\"] == True]"
   ]
  }
 ],
 "metadata": {
  "kernelspec": {
   "display_name": "Python 3",
   "language": "python",
   "name": "python3"
  },
  "language_info": {
   "codemirror_mode": {
    "name": "ipython",
    "version": 3
   },
   "file_extension": ".py",
   "mimetype": "text/x-python",
   "name": "python",
   "nbconvert_exporter": "python",
   "pygments_lexer": "ipython3",
   "version": "3.11.8"
  }
 },
 "nbformat": 4,
 "nbformat_minor": 2
}
